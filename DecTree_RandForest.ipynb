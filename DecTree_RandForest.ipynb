{
  "nbformat": 4,
  "nbformat_minor": 0,
  "metadata": {
    "kernelspec": {
      "display_name": "Python 3",
      "language": "python",
      "name": "python3"
    },
    "language_info": {
      "codemirror_mode": {
        "name": "ipython",
        "version": 3
      },
      "file_extension": ".py",
      "mimetype": "text/x-python",
      "name": "python",
      "nbconvert_exporter": "python",
      "pygments_lexer": "ipython3",
      "version": "3.7.7"
    },
    "colab": {
      "name": "DecTree_RandForest.ipynb",
      "provenance": [],
      "collapsed_sections": [],
      "toc_visible": true
    }
  },
  "cells": [
    {
      "cell_type": "markdown",
      "metadata": {
        "id": "DRj3ha8J1cfI"
      },
      "source": [
        "# Home Credit Default Risk"
      ]
    },
    {
      "cell_type": "code",
      "metadata": {
        "id": "pJU8tiju1cfR"
      },
      "source": [
        "import numpy as np\n",
        "import pandas as pd\n",
        "import matplotlib.pyplot as plt\n",
        "from sklearn.model_selection import train_test_split\n",
        "pd.options.display.max_columns = 200\n",
        "plt.style.use('ggplot')"
      ],
      "execution_count": null,
      "outputs": []
    },
    {
      "cell_type": "code",
      "metadata": {
        "id": "873z0ctu2r63"
      },
      "source": [
        "from google.colab import drive\n",
        "drive.mount('/content/drive')\n",
        "\n",
        "!ls \"/content/drive/My Drive/Credit data\""
      ],
      "execution_count": null,
      "outputs": []
    },
    {
      "cell_type": "code",
      "metadata": {
        "id": "7BjbwN561cfy"
      },
      "source": [
        "#загружаем тренировочную, тестовую выборки, а также пример предсказаний\n",
        "train = pd.read_csv('/content/drive/My Drive/Credit data/application_train.csv')\n",
        "test = pd.read_csv('/content/drive/My Drive/Credit data/application_test.csv')\n",
        "sample_submission = pd.read_csv(\"/content/drive/My Drive/Credit data/sample_submission.csv\")"
      ],
      "execution_count": null,
      "outputs": []
    },
    {
      "cell_type": "code",
      "metadata": {
        "id": "SdIITSKY1cf_",
        "outputId": "04f95a00-2c82-49db-e00c-31b2d579b65f",
        "colab": {
          "base_uri": "https://localhost:8080/",
          "height": 33
        }
      },
      "source": [
        "train.shape"
      ],
      "execution_count": null,
      "outputs": [
        {
          "output_type": "execute_result",
          "data": {
            "text/plain": [
              "(307511, 122)"
            ]
          },
          "metadata": {
            "tags": []
          },
          "execution_count": 4
        }
      ]
    },
    {
      "cell_type": "code",
      "metadata": {
        "id": "k28EfzYI1cgM",
        "outputId": "328a2677-69f8-49c8-e2a8-2a72557485f1",
        "colab": {
          "base_uri": "https://localhost:8080/",
          "height": 307
        }
      },
      "source": [
        "#посмотрим на данные\n",
        "train.describe()"
      ],
      "execution_count": null,
      "outputs": [
        {
          "output_type": "execute_result",
          "data": {
            "text/html": [
              "<div>\n",
              "<style scoped>\n",
              "    .dataframe tbody tr th:only-of-type {\n",
              "        vertical-align: middle;\n",
              "    }\n",
              "\n",
              "    .dataframe tbody tr th {\n",
              "        vertical-align: top;\n",
              "    }\n",
              "\n",
              "    .dataframe thead th {\n",
              "        text-align: right;\n",
              "    }\n",
              "</style>\n",
              "<table border=\"1\" class=\"dataframe\">\n",
              "  <thead>\n",
              "    <tr style=\"text-align: right;\">\n",
              "      <th></th>\n",
              "      <th>SK_ID_CURR</th>\n",
              "      <th>TARGET</th>\n",
              "      <th>CNT_CHILDREN</th>\n",
              "      <th>AMT_INCOME_TOTAL</th>\n",
              "      <th>AMT_CREDIT</th>\n",
              "      <th>AMT_ANNUITY</th>\n",
              "      <th>AMT_GOODS_PRICE</th>\n",
              "      <th>REGION_POPULATION_RELATIVE</th>\n",
              "      <th>DAYS_BIRTH</th>\n",
              "      <th>DAYS_EMPLOYED</th>\n",
              "      <th>DAYS_REGISTRATION</th>\n",
              "      <th>DAYS_ID_PUBLISH</th>\n",
              "      <th>OWN_CAR_AGE</th>\n",
              "      <th>FLAG_MOBIL</th>\n",
              "      <th>FLAG_EMP_PHONE</th>\n",
              "      <th>FLAG_WORK_PHONE</th>\n",
              "      <th>FLAG_CONT_MOBILE</th>\n",
              "      <th>FLAG_PHONE</th>\n",
              "      <th>FLAG_EMAIL</th>\n",
              "      <th>CNT_FAM_MEMBERS</th>\n",
              "      <th>REGION_RATING_CLIENT</th>\n",
              "      <th>REGION_RATING_CLIENT_W_CITY</th>\n",
              "      <th>HOUR_APPR_PROCESS_START</th>\n",
              "      <th>REG_REGION_NOT_LIVE_REGION</th>\n",
              "      <th>REG_REGION_NOT_WORK_REGION</th>\n",
              "      <th>LIVE_REGION_NOT_WORK_REGION</th>\n",
              "      <th>REG_CITY_NOT_LIVE_CITY</th>\n",
              "      <th>REG_CITY_NOT_WORK_CITY</th>\n",
              "      <th>LIVE_CITY_NOT_WORK_CITY</th>\n",
              "      <th>EXT_SOURCE_1</th>\n",
              "      <th>EXT_SOURCE_2</th>\n",
              "      <th>EXT_SOURCE_3</th>\n",
              "      <th>APARTMENTS_AVG</th>\n",
              "      <th>BASEMENTAREA_AVG</th>\n",
              "      <th>YEARS_BEGINEXPLUATATION_AVG</th>\n",
              "      <th>YEARS_BUILD_AVG</th>\n",
              "      <th>COMMONAREA_AVG</th>\n",
              "      <th>ELEVATORS_AVG</th>\n",
              "      <th>ENTRANCES_AVG</th>\n",
              "      <th>FLOORSMAX_AVG</th>\n",
              "      <th>FLOORSMIN_AVG</th>\n",
              "      <th>LANDAREA_AVG</th>\n",
              "      <th>LIVINGAPARTMENTS_AVG</th>\n",
              "      <th>LIVINGAREA_AVG</th>\n",
              "      <th>NONLIVINGAPARTMENTS_AVG</th>\n",
              "      <th>NONLIVINGAREA_AVG</th>\n",
              "      <th>APARTMENTS_MODE</th>\n",
              "      <th>BASEMENTAREA_MODE</th>\n",
              "      <th>YEARS_BEGINEXPLUATATION_MODE</th>\n",
              "      <th>YEARS_BUILD_MODE</th>\n",
              "      <th>COMMONAREA_MODE</th>\n",
              "      <th>ELEVATORS_MODE</th>\n",
              "      <th>ENTRANCES_MODE</th>\n",
              "      <th>FLOORSMAX_MODE</th>\n",
              "      <th>FLOORSMIN_MODE</th>\n",
              "      <th>LANDAREA_MODE</th>\n",
              "      <th>LIVINGAPARTMENTS_MODE</th>\n",
              "      <th>LIVINGAREA_MODE</th>\n",
              "      <th>NONLIVINGAPARTMENTS_MODE</th>\n",
              "      <th>NONLIVINGAREA_MODE</th>\n",
              "      <th>APARTMENTS_MEDI</th>\n",
              "      <th>BASEMENTAREA_MEDI</th>\n",
              "      <th>YEARS_BEGINEXPLUATATION_MEDI</th>\n",
              "      <th>YEARS_BUILD_MEDI</th>\n",
              "      <th>COMMONAREA_MEDI</th>\n",
              "      <th>ELEVATORS_MEDI</th>\n",
              "      <th>ENTRANCES_MEDI</th>\n",
              "      <th>FLOORSMAX_MEDI</th>\n",
              "      <th>FLOORSMIN_MEDI</th>\n",
              "      <th>LANDAREA_MEDI</th>\n",
              "      <th>LIVINGAPARTMENTS_MEDI</th>\n",
              "      <th>LIVINGAREA_MEDI</th>\n",
              "      <th>NONLIVINGAPARTMENTS_MEDI</th>\n",
              "      <th>NONLIVINGAREA_MEDI</th>\n",
              "      <th>TOTALAREA_MODE</th>\n",
              "      <th>OBS_30_CNT_SOCIAL_CIRCLE</th>\n",
              "      <th>DEF_30_CNT_SOCIAL_CIRCLE</th>\n",
              "      <th>OBS_60_CNT_SOCIAL_CIRCLE</th>\n",
              "      <th>DEF_60_CNT_SOCIAL_CIRCLE</th>\n",
              "      <th>DAYS_LAST_PHONE_CHANGE</th>\n",
              "      <th>FLAG_DOCUMENT_2</th>\n",
              "      <th>FLAG_DOCUMENT_3</th>\n",
              "      <th>FLAG_DOCUMENT_4</th>\n",
              "      <th>FLAG_DOCUMENT_5</th>\n",
              "      <th>FLAG_DOCUMENT_6</th>\n",
              "      <th>FLAG_DOCUMENT_7</th>\n",
              "      <th>FLAG_DOCUMENT_8</th>\n",
              "      <th>FLAG_DOCUMENT_9</th>\n",
              "      <th>FLAG_DOCUMENT_10</th>\n",
              "      <th>FLAG_DOCUMENT_11</th>\n",
              "      <th>FLAG_DOCUMENT_12</th>\n",
              "      <th>FLAG_DOCUMENT_13</th>\n",
              "      <th>FLAG_DOCUMENT_14</th>\n",
              "      <th>FLAG_DOCUMENT_15</th>\n",
              "      <th>FLAG_DOCUMENT_16</th>\n",
              "      <th>FLAG_DOCUMENT_17</th>\n",
              "      <th>FLAG_DOCUMENT_18</th>\n",
              "      <th>FLAG_DOCUMENT_19</th>\n",
              "      <th>FLAG_DOCUMENT_20</th>\n",
              "      <th>FLAG_DOCUMENT_21</th>\n",
              "      <th>AMT_REQ_CREDIT_BUREAU_HOUR</th>\n",
              "      <th>AMT_REQ_CREDIT_BUREAU_DAY</th>\n",
              "      <th>AMT_REQ_CREDIT_BUREAU_WEEK</th>\n",
              "      <th>AMT_REQ_CREDIT_BUREAU_MON</th>\n",
              "      <th>AMT_REQ_CREDIT_BUREAU_QRT</th>\n",
              "      <th>AMT_REQ_CREDIT_BUREAU_YEAR</th>\n",
              "    </tr>\n",
              "  </thead>\n",
              "  <tbody>\n",
              "    <tr>\n",
              "      <th>count</th>\n",
              "      <td>307511.000000</td>\n",
              "      <td>307511.000000</td>\n",
              "      <td>307511.000000</td>\n",
              "      <td>3.075110e+05</td>\n",
              "      <td>3.075110e+05</td>\n",
              "      <td>307499.000000</td>\n",
              "      <td>3.072330e+05</td>\n",
              "      <td>307511.000000</td>\n",
              "      <td>307511.000000</td>\n",
              "      <td>307511.000000</td>\n",
              "      <td>307511.000000</td>\n",
              "      <td>307511.000000</td>\n",
              "      <td>104582.000000</td>\n",
              "      <td>307511.000000</td>\n",
              "      <td>307511.000000</td>\n",
              "      <td>307511.000000</td>\n",
              "      <td>307511.000000</td>\n",
              "      <td>307511.000000</td>\n",
              "      <td>307511.000000</td>\n",
              "      <td>307509.000000</td>\n",
              "      <td>307511.000000</td>\n",
              "      <td>307511.000000</td>\n",
              "      <td>307511.000000</td>\n",
              "      <td>307511.000000</td>\n",
              "      <td>307511.000000</td>\n",
              "      <td>307511.000000</td>\n",
              "      <td>307511.000000</td>\n",
              "      <td>307511.000000</td>\n",
              "      <td>307511.000000</td>\n",
              "      <td>134133.000000</td>\n",
              "      <td>3.068510e+05</td>\n",
              "      <td>246546.000000</td>\n",
              "      <td>151450.00000</td>\n",
              "      <td>127568.000000</td>\n",
              "      <td>157504.000000</td>\n",
              "      <td>103023.000000</td>\n",
              "      <td>92646.000000</td>\n",
              "      <td>143620.000000</td>\n",
              "      <td>152683.000000</td>\n",
              "      <td>154491.000000</td>\n",
              "      <td>98869.000000</td>\n",
              "      <td>124921.000000</td>\n",
              "      <td>97312.000000</td>\n",
              "      <td>153161.000000</td>\n",
              "      <td>93997.000000</td>\n",
              "      <td>137829.000000</td>\n",
              "      <td>151450.000000</td>\n",
              "      <td>127568.000000</td>\n",
              "      <td>157504.000000</td>\n",
              "      <td>103023.000000</td>\n",
              "      <td>92646.000000</td>\n",
              "      <td>143620.000000</td>\n",
              "      <td>152683.000000</td>\n",
              "      <td>154491.000000</td>\n",
              "      <td>98869.000000</td>\n",
              "      <td>124921.000000</td>\n",
              "      <td>97312.000000</td>\n",
              "      <td>153161.000000</td>\n",
              "      <td>93997.000000</td>\n",
              "      <td>137829.000000</td>\n",
              "      <td>151450.000000</td>\n",
              "      <td>127568.000000</td>\n",
              "      <td>157504.000000</td>\n",
              "      <td>103023.000000</td>\n",
              "      <td>92646.000000</td>\n",
              "      <td>143620.000000</td>\n",
              "      <td>152683.000000</td>\n",
              "      <td>154491.000000</td>\n",
              "      <td>98869.000000</td>\n",
              "      <td>124921.000000</td>\n",
              "      <td>97312.000000</td>\n",
              "      <td>153161.000000</td>\n",
              "      <td>93997.000000</td>\n",
              "      <td>137829.000000</td>\n",
              "      <td>159080.000000</td>\n",
              "      <td>306490.000000</td>\n",
              "      <td>306490.000000</td>\n",
              "      <td>306490.000000</td>\n",
              "      <td>306490.000000</td>\n",
              "      <td>307510.000000</td>\n",
              "      <td>307511.000000</td>\n",
              "      <td>307511.000000</td>\n",
              "      <td>307511.000000</td>\n",
              "      <td>307511.000000</td>\n",
              "      <td>307511.000000</td>\n",
              "      <td>307511.000000</td>\n",
              "      <td>307511.000000</td>\n",
              "      <td>307511.000000</td>\n",
              "      <td>307511.000000</td>\n",
              "      <td>307511.000000</td>\n",
              "      <td>307511.000000</td>\n",
              "      <td>307511.000000</td>\n",
              "      <td>307511.000000</td>\n",
              "      <td>307511.00000</td>\n",
              "      <td>307511.000000</td>\n",
              "      <td>307511.000000</td>\n",
              "      <td>307511.000000</td>\n",
              "      <td>307511.000000</td>\n",
              "      <td>307511.000000</td>\n",
              "      <td>307511.000000</td>\n",
              "      <td>265992.000000</td>\n",
              "      <td>265992.000000</td>\n",
              "      <td>265992.000000</td>\n",
              "      <td>265992.000000</td>\n",
              "      <td>265992.000000</td>\n",
              "      <td>265992.000000</td>\n",
              "    </tr>\n",
              "    <tr>\n",
              "      <th>mean</th>\n",
              "      <td>278180.518577</td>\n",
              "      <td>0.080729</td>\n",
              "      <td>0.417052</td>\n",
              "      <td>1.687979e+05</td>\n",
              "      <td>5.990260e+05</td>\n",
              "      <td>27108.573909</td>\n",
              "      <td>5.383962e+05</td>\n",
              "      <td>0.020868</td>\n",
              "      <td>-16036.995067</td>\n",
              "      <td>63815.045904</td>\n",
              "      <td>-4986.120328</td>\n",
              "      <td>-2994.202373</td>\n",
              "      <td>12.061091</td>\n",
              "      <td>0.999997</td>\n",
              "      <td>0.819889</td>\n",
              "      <td>0.199368</td>\n",
              "      <td>0.998133</td>\n",
              "      <td>0.281066</td>\n",
              "      <td>0.056720</td>\n",
              "      <td>2.152665</td>\n",
              "      <td>2.052463</td>\n",
              "      <td>2.031521</td>\n",
              "      <td>12.063419</td>\n",
              "      <td>0.015144</td>\n",
              "      <td>0.050769</td>\n",
              "      <td>0.040659</td>\n",
              "      <td>0.078173</td>\n",
              "      <td>0.230454</td>\n",
              "      <td>0.179555</td>\n",
              "      <td>0.502130</td>\n",
              "      <td>5.143927e-01</td>\n",
              "      <td>0.510853</td>\n",
              "      <td>0.11744</td>\n",
              "      <td>0.088442</td>\n",
              "      <td>0.977735</td>\n",
              "      <td>0.752471</td>\n",
              "      <td>0.044621</td>\n",
              "      <td>0.078942</td>\n",
              "      <td>0.149725</td>\n",
              "      <td>0.226282</td>\n",
              "      <td>0.231894</td>\n",
              "      <td>0.066333</td>\n",
              "      <td>0.100775</td>\n",
              "      <td>0.107399</td>\n",
              "      <td>0.008809</td>\n",
              "      <td>0.028358</td>\n",
              "      <td>0.114231</td>\n",
              "      <td>0.087543</td>\n",
              "      <td>0.977065</td>\n",
              "      <td>0.759637</td>\n",
              "      <td>0.042553</td>\n",
              "      <td>0.074490</td>\n",
              "      <td>0.145193</td>\n",
              "      <td>0.222315</td>\n",
              "      <td>0.228058</td>\n",
              "      <td>0.064958</td>\n",
              "      <td>0.105645</td>\n",
              "      <td>0.105975</td>\n",
              "      <td>0.008076</td>\n",
              "      <td>0.027022</td>\n",
              "      <td>0.117850</td>\n",
              "      <td>0.087955</td>\n",
              "      <td>0.977752</td>\n",
              "      <td>0.755746</td>\n",
              "      <td>0.044595</td>\n",
              "      <td>0.078078</td>\n",
              "      <td>0.149213</td>\n",
              "      <td>0.225897</td>\n",
              "      <td>0.231625</td>\n",
              "      <td>0.067169</td>\n",
              "      <td>0.101954</td>\n",
              "      <td>0.108607</td>\n",
              "      <td>0.008651</td>\n",
              "      <td>0.028236</td>\n",
              "      <td>0.102547</td>\n",
              "      <td>1.422245</td>\n",
              "      <td>0.143421</td>\n",
              "      <td>1.405292</td>\n",
              "      <td>0.100049</td>\n",
              "      <td>-962.858788</td>\n",
              "      <td>0.000042</td>\n",
              "      <td>0.710023</td>\n",
              "      <td>0.000081</td>\n",
              "      <td>0.015115</td>\n",
              "      <td>0.088055</td>\n",
              "      <td>0.000192</td>\n",
              "      <td>0.081376</td>\n",
              "      <td>0.003896</td>\n",
              "      <td>0.000023</td>\n",
              "      <td>0.003912</td>\n",
              "      <td>0.000007</td>\n",
              "      <td>0.003525</td>\n",
              "      <td>0.002936</td>\n",
              "      <td>0.00121</td>\n",
              "      <td>0.009928</td>\n",
              "      <td>0.000267</td>\n",
              "      <td>0.008130</td>\n",
              "      <td>0.000595</td>\n",
              "      <td>0.000507</td>\n",
              "      <td>0.000335</td>\n",
              "      <td>0.006402</td>\n",
              "      <td>0.007000</td>\n",
              "      <td>0.034362</td>\n",
              "      <td>0.267395</td>\n",
              "      <td>0.265474</td>\n",
              "      <td>1.899974</td>\n",
              "    </tr>\n",
              "    <tr>\n",
              "      <th>std</th>\n",
              "      <td>102790.175348</td>\n",
              "      <td>0.272419</td>\n",
              "      <td>0.722121</td>\n",
              "      <td>2.371231e+05</td>\n",
              "      <td>4.024908e+05</td>\n",
              "      <td>14493.737315</td>\n",
              "      <td>3.694465e+05</td>\n",
              "      <td>0.013831</td>\n",
              "      <td>4363.988632</td>\n",
              "      <td>141275.766519</td>\n",
              "      <td>3522.886321</td>\n",
              "      <td>1509.450419</td>\n",
              "      <td>11.944812</td>\n",
              "      <td>0.001803</td>\n",
              "      <td>0.384280</td>\n",
              "      <td>0.399526</td>\n",
              "      <td>0.043164</td>\n",
              "      <td>0.449521</td>\n",
              "      <td>0.231307</td>\n",
              "      <td>0.910682</td>\n",
              "      <td>0.509034</td>\n",
              "      <td>0.502737</td>\n",
              "      <td>3.265832</td>\n",
              "      <td>0.122126</td>\n",
              "      <td>0.219526</td>\n",
              "      <td>0.197499</td>\n",
              "      <td>0.268444</td>\n",
              "      <td>0.421124</td>\n",
              "      <td>0.383817</td>\n",
              "      <td>0.211062</td>\n",
              "      <td>1.910602e-01</td>\n",
              "      <td>0.194844</td>\n",
              "      <td>0.10824</td>\n",
              "      <td>0.082438</td>\n",
              "      <td>0.059223</td>\n",
              "      <td>0.113280</td>\n",
              "      <td>0.076036</td>\n",
              "      <td>0.134576</td>\n",
              "      <td>0.100049</td>\n",
              "      <td>0.144641</td>\n",
              "      <td>0.161380</td>\n",
              "      <td>0.081184</td>\n",
              "      <td>0.092576</td>\n",
              "      <td>0.110565</td>\n",
              "      <td>0.047732</td>\n",
              "      <td>0.069523</td>\n",
              "      <td>0.107936</td>\n",
              "      <td>0.084307</td>\n",
              "      <td>0.064575</td>\n",
              "      <td>0.110111</td>\n",
              "      <td>0.074445</td>\n",
              "      <td>0.132256</td>\n",
              "      <td>0.100977</td>\n",
              "      <td>0.143709</td>\n",
              "      <td>0.161160</td>\n",
              "      <td>0.081750</td>\n",
              "      <td>0.097880</td>\n",
              "      <td>0.111845</td>\n",
              "      <td>0.046276</td>\n",
              "      <td>0.070254</td>\n",
              "      <td>0.109076</td>\n",
              "      <td>0.082179</td>\n",
              "      <td>0.059897</td>\n",
              "      <td>0.112066</td>\n",
              "      <td>0.076144</td>\n",
              "      <td>0.134467</td>\n",
              "      <td>0.100368</td>\n",
              "      <td>0.145067</td>\n",
              "      <td>0.161934</td>\n",
              "      <td>0.082167</td>\n",
              "      <td>0.093642</td>\n",
              "      <td>0.112260</td>\n",
              "      <td>0.047415</td>\n",
              "      <td>0.070166</td>\n",
              "      <td>0.107462</td>\n",
              "      <td>2.400989</td>\n",
              "      <td>0.446698</td>\n",
              "      <td>2.379803</td>\n",
              "      <td>0.362291</td>\n",
              "      <td>826.808487</td>\n",
              "      <td>0.006502</td>\n",
              "      <td>0.453752</td>\n",
              "      <td>0.009016</td>\n",
              "      <td>0.122010</td>\n",
              "      <td>0.283376</td>\n",
              "      <td>0.013850</td>\n",
              "      <td>0.273412</td>\n",
              "      <td>0.062295</td>\n",
              "      <td>0.004771</td>\n",
              "      <td>0.062424</td>\n",
              "      <td>0.002550</td>\n",
              "      <td>0.059268</td>\n",
              "      <td>0.054110</td>\n",
              "      <td>0.03476</td>\n",
              "      <td>0.099144</td>\n",
              "      <td>0.016327</td>\n",
              "      <td>0.089798</td>\n",
              "      <td>0.024387</td>\n",
              "      <td>0.022518</td>\n",
              "      <td>0.018299</td>\n",
              "      <td>0.083849</td>\n",
              "      <td>0.110757</td>\n",
              "      <td>0.204685</td>\n",
              "      <td>0.916002</td>\n",
              "      <td>0.794056</td>\n",
              "      <td>1.869295</td>\n",
              "    </tr>\n",
              "    <tr>\n",
              "      <th>min</th>\n",
              "      <td>100002.000000</td>\n",
              "      <td>0.000000</td>\n",
              "      <td>0.000000</td>\n",
              "      <td>2.565000e+04</td>\n",
              "      <td>4.500000e+04</td>\n",
              "      <td>1615.500000</td>\n",
              "      <td>4.050000e+04</td>\n",
              "      <td>0.000290</td>\n",
              "      <td>-25229.000000</td>\n",
              "      <td>-17912.000000</td>\n",
              "      <td>-24672.000000</td>\n",
              "      <td>-7197.000000</td>\n",
              "      <td>0.000000</td>\n",
              "      <td>0.000000</td>\n",
              "      <td>0.000000</td>\n",
              "      <td>0.000000</td>\n",
              "      <td>0.000000</td>\n",
              "      <td>0.000000</td>\n",
              "      <td>0.000000</td>\n",
              "      <td>1.000000</td>\n",
              "      <td>1.000000</td>\n",
              "      <td>1.000000</td>\n",
              "      <td>0.000000</td>\n",
              "      <td>0.000000</td>\n",
              "      <td>0.000000</td>\n",
              "      <td>0.000000</td>\n",
              "      <td>0.000000</td>\n",
              "      <td>0.000000</td>\n",
              "      <td>0.000000</td>\n",
              "      <td>0.014568</td>\n",
              "      <td>8.173617e-08</td>\n",
              "      <td>0.000527</td>\n",
              "      <td>0.00000</td>\n",
              "      <td>0.000000</td>\n",
              "      <td>0.000000</td>\n",
              "      <td>0.000000</td>\n",
              "      <td>0.000000</td>\n",
              "      <td>0.000000</td>\n",
              "      <td>0.000000</td>\n",
              "      <td>0.000000</td>\n",
              "      <td>0.000000</td>\n",
              "      <td>0.000000</td>\n",
              "      <td>0.000000</td>\n",
              "      <td>0.000000</td>\n",
              "      <td>0.000000</td>\n",
              "      <td>0.000000</td>\n",
              "      <td>0.000000</td>\n",
              "      <td>0.000000</td>\n",
              "      <td>0.000000</td>\n",
              "      <td>0.000000</td>\n",
              "      <td>0.000000</td>\n",
              "      <td>0.000000</td>\n",
              "      <td>0.000000</td>\n",
              "      <td>0.000000</td>\n",
              "      <td>0.000000</td>\n",
              "      <td>0.000000</td>\n",
              "      <td>0.000000</td>\n",
              "      <td>0.000000</td>\n",
              "      <td>0.000000</td>\n",
              "      <td>0.000000</td>\n",
              "      <td>0.000000</td>\n",
              "      <td>0.000000</td>\n",
              "      <td>0.000000</td>\n",
              "      <td>0.000000</td>\n",
              "      <td>0.000000</td>\n",
              "      <td>0.000000</td>\n",
              "      <td>0.000000</td>\n",
              "      <td>0.000000</td>\n",
              "      <td>0.000000</td>\n",
              "      <td>0.000000</td>\n",
              "      <td>0.000000</td>\n",
              "      <td>0.000000</td>\n",
              "      <td>0.000000</td>\n",
              "      <td>0.000000</td>\n",
              "      <td>0.000000</td>\n",
              "      <td>0.000000</td>\n",
              "      <td>0.000000</td>\n",
              "      <td>0.000000</td>\n",
              "      <td>0.000000</td>\n",
              "      <td>-4292.000000</td>\n",
              "      <td>0.000000</td>\n",
              "      <td>0.000000</td>\n",
              "      <td>0.000000</td>\n",
              "      <td>0.000000</td>\n",
              "      <td>0.000000</td>\n",
              "      <td>0.000000</td>\n",
              "      <td>0.000000</td>\n",
              "      <td>0.000000</td>\n",
              "      <td>0.000000</td>\n",
              "      <td>0.000000</td>\n",
              "      <td>0.000000</td>\n",
              "      <td>0.000000</td>\n",
              "      <td>0.000000</td>\n",
              "      <td>0.00000</td>\n",
              "      <td>0.000000</td>\n",
              "      <td>0.000000</td>\n",
              "      <td>0.000000</td>\n",
              "      <td>0.000000</td>\n",
              "      <td>0.000000</td>\n",
              "      <td>0.000000</td>\n",
              "      <td>0.000000</td>\n",
              "      <td>0.000000</td>\n",
              "      <td>0.000000</td>\n",
              "      <td>0.000000</td>\n",
              "      <td>0.000000</td>\n",
              "      <td>0.000000</td>\n",
              "    </tr>\n",
              "    <tr>\n",
              "      <th>25%</th>\n",
              "      <td>189145.500000</td>\n",
              "      <td>0.000000</td>\n",
              "      <td>0.000000</td>\n",
              "      <td>1.125000e+05</td>\n",
              "      <td>2.700000e+05</td>\n",
              "      <td>16524.000000</td>\n",
              "      <td>2.385000e+05</td>\n",
              "      <td>0.010006</td>\n",
              "      <td>-19682.000000</td>\n",
              "      <td>-2760.000000</td>\n",
              "      <td>-7479.500000</td>\n",
              "      <td>-4299.000000</td>\n",
              "      <td>5.000000</td>\n",
              "      <td>1.000000</td>\n",
              "      <td>1.000000</td>\n",
              "      <td>0.000000</td>\n",
              "      <td>1.000000</td>\n",
              "      <td>0.000000</td>\n",
              "      <td>0.000000</td>\n",
              "      <td>2.000000</td>\n",
              "      <td>2.000000</td>\n",
              "      <td>2.000000</td>\n",
              "      <td>10.000000</td>\n",
              "      <td>0.000000</td>\n",
              "      <td>0.000000</td>\n",
              "      <td>0.000000</td>\n",
              "      <td>0.000000</td>\n",
              "      <td>0.000000</td>\n",
              "      <td>0.000000</td>\n",
              "      <td>0.334007</td>\n",
              "      <td>3.924574e-01</td>\n",
              "      <td>0.370650</td>\n",
              "      <td>0.05770</td>\n",
              "      <td>0.044200</td>\n",
              "      <td>0.976700</td>\n",
              "      <td>0.687200</td>\n",
              "      <td>0.007800</td>\n",
              "      <td>0.000000</td>\n",
              "      <td>0.069000</td>\n",
              "      <td>0.166700</td>\n",
              "      <td>0.083300</td>\n",
              "      <td>0.018700</td>\n",
              "      <td>0.050400</td>\n",
              "      <td>0.045300</td>\n",
              "      <td>0.000000</td>\n",
              "      <td>0.000000</td>\n",
              "      <td>0.052500</td>\n",
              "      <td>0.040700</td>\n",
              "      <td>0.976700</td>\n",
              "      <td>0.699400</td>\n",
              "      <td>0.007200</td>\n",
              "      <td>0.000000</td>\n",
              "      <td>0.069000</td>\n",
              "      <td>0.166700</td>\n",
              "      <td>0.083300</td>\n",
              "      <td>0.016600</td>\n",
              "      <td>0.054200</td>\n",
              "      <td>0.042700</td>\n",
              "      <td>0.000000</td>\n",
              "      <td>0.000000</td>\n",
              "      <td>0.058300</td>\n",
              "      <td>0.043700</td>\n",
              "      <td>0.976700</td>\n",
              "      <td>0.691400</td>\n",
              "      <td>0.007900</td>\n",
              "      <td>0.000000</td>\n",
              "      <td>0.069000</td>\n",
              "      <td>0.166700</td>\n",
              "      <td>0.083300</td>\n",
              "      <td>0.018700</td>\n",
              "      <td>0.051300</td>\n",
              "      <td>0.045700</td>\n",
              "      <td>0.000000</td>\n",
              "      <td>0.000000</td>\n",
              "      <td>0.041200</td>\n",
              "      <td>0.000000</td>\n",
              "      <td>0.000000</td>\n",
              "      <td>0.000000</td>\n",
              "      <td>0.000000</td>\n",
              "      <td>-1570.000000</td>\n",
              "      <td>0.000000</td>\n",
              "      <td>0.000000</td>\n",
              "      <td>0.000000</td>\n",
              "      <td>0.000000</td>\n",
              "      <td>0.000000</td>\n",
              "      <td>0.000000</td>\n",
              "      <td>0.000000</td>\n",
              "      <td>0.000000</td>\n",
              "      <td>0.000000</td>\n",
              "      <td>0.000000</td>\n",
              "      <td>0.000000</td>\n",
              "      <td>0.000000</td>\n",
              "      <td>0.000000</td>\n",
              "      <td>0.00000</td>\n",
              "      <td>0.000000</td>\n",
              "      <td>0.000000</td>\n",
              "      <td>0.000000</td>\n",
              "      <td>0.000000</td>\n",
              "      <td>0.000000</td>\n",
              "      <td>0.000000</td>\n",
              "      <td>0.000000</td>\n",
              "      <td>0.000000</td>\n",
              "      <td>0.000000</td>\n",
              "      <td>0.000000</td>\n",
              "      <td>0.000000</td>\n",
              "      <td>0.000000</td>\n",
              "    </tr>\n",
              "    <tr>\n",
              "      <th>50%</th>\n",
              "      <td>278202.000000</td>\n",
              "      <td>0.000000</td>\n",
              "      <td>0.000000</td>\n",
              "      <td>1.471500e+05</td>\n",
              "      <td>5.135310e+05</td>\n",
              "      <td>24903.000000</td>\n",
              "      <td>4.500000e+05</td>\n",
              "      <td>0.018850</td>\n",
              "      <td>-15750.000000</td>\n",
              "      <td>-1213.000000</td>\n",
              "      <td>-4504.000000</td>\n",
              "      <td>-3254.000000</td>\n",
              "      <td>9.000000</td>\n",
              "      <td>1.000000</td>\n",
              "      <td>1.000000</td>\n",
              "      <td>0.000000</td>\n",
              "      <td>1.000000</td>\n",
              "      <td>0.000000</td>\n",
              "      <td>0.000000</td>\n",
              "      <td>2.000000</td>\n",
              "      <td>2.000000</td>\n",
              "      <td>2.000000</td>\n",
              "      <td>12.000000</td>\n",
              "      <td>0.000000</td>\n",
              "      <td>0.000000</td>\n",
              "      <td>0.000000</td>\n",
              "      <td>0.000000</td>\n",
              "      <td>0.000000</td>\n",
              "      <td>0.000000</td>\n",
              "      <td>0.505998</td>\n",
              "      <td>5.659614e-01</td>\n",
              "      <td>0.535276</td>\n",
              "      <td>0.08760</td>\n",
              "      <td>0.076300</td>\n",
              "      <td>0.981600</td>\n",
              "      <td>0.755200</td>\n",
              "      <td>0.021100</td>\n",
              "      <td>0.000000</td>\n",
              "      <td>0.137900</td>\n",
              "      <td>0.166700</td>\n",
              "      <td>0.208300</td>\n",
              "      <td>0.048100</td>\n",
              "      <td>0.075600</td>\n",
              "      <td>0.074500</td>\n",
              "      <td>0.000000</td>\n",
              "      <td>0.003600</td>\n",
              "      <td>0.084000</td>\n",
              "      <td>0.074600</td>\n",
              "      <td>0.981600</td>\n",
              "      <td>0.764800</td>\n",
              "      <td>0.019000</td>\n",
              "      <td>0.000000</td>\n",
              "      <td>0.137900</td>\n",
              "      <td>0.166700</td>\n",
              "      <td>0.208300</td>\n",
              "      <td>0.045800</td>\n",
              "      <td>0.077100</td>\n",
              "      <td>0.073100</td>\n",
              "      <td>0.000000</td>\n",
              "      <td>0.001100</td>\n",
              "      <td>0.086400</td>\n",
              "      <td>0.075800</td>\n",
              "      <td>0.981600</td>\n",
              "      <td>0.758500</td>\n",
              "      <td>0.020800</td>\n",
              "      <td>0.000000</td>\n",
              "      <td>0.137900</td>\n",
              "      <td>0.166700</td>\n",
              "      <td>0.208300</td>\n",
              "      <td>0.048700</td>\n",
              "      <td>0.076100</td>\n",
              "      <td>0.074900</td>\n",
              "      <td>0.000000</td>\n",
              "      <td>0.003100</td>\n",
              "      <td>0.068800</td>\n",
              "      <td>0.000000</td>\n",
              "      <td>0.000000</td>\n",
              "      <td>0.000000</td>\n",
              "      <td>0.000000</td>\n",
              "      <td>-757.000000</td>\n",
              "      <td>0.000000</td>\n",
              "      <td>1.000000</td>\n",
              "      <td>0.000000</td>\n",
              "      <td>0.000000</td>\n",
              "      <td>0.000000</td>\n",
              "      <td>0.000000</td>\n",
              "      <td>0.000000</td>\n",
              "      <td>0.000000</td>\n",
              "      <td>0.000000</td>\n",
              "      <td>0.000000</td>\n",
              "      <td>0.000000</td>\n",
              "      <td>0.000000</td>\n",
              "      <td>0.000000</td>\n",
              "      <td>0.00000</td>\n",
              "      <td>0.000000</td>\n",
              "      <td>0.000000</td>\n",
              "      <td>0.000000</td>\n",
              "      <td>0.000000</td>\n",
              "      <td>0.000000</td>\n",
              "      <td>0.000000</td>\n",
              "      <td>0.000000</td>\n",
              "      <td>0.000000</td>\n",
              "      <td>0.000000</td>\n",
              "      <td>0.000000</td>\n",
              "      <td>0.000000</td>\n",
              "      <td>1.000000</td>\n",
              "    </tr>\n",
              "    <tr>\n",
              "      <th>75%</th>\n",
              "      <td>367142.500000</td>\n",
              "      <td>0.000000</td>\n",
              "      <td>1.000000</td>\n",
              "      <td>2.025000e+05</td>\n",
              "      <td>8.086500e+05</td>\n",
              "      <td>34596.000000</td>\n",
              "      <td>6.795000e+05</td>\n",
              "      <td>0.028663</td>\n",
              "      <td>-12413.000000</td>\n",
              "      <td>-289.000000</td>\n",
              "      <td>-2010.000000</td>\n",
              "      <td>-1720.000000</td>\n",
              "      <td>15.000000</td>\n",
              "      <td>1.000000</td>\n",
              "      <td>1.000000</td>\n",
              "      <td>0.000000</td>\n",
              "      <td>1.000000</td>\n",
              "      <td>1.000000</td>\n",
              "      <td>0.000000</td>\n",
              "      <td>3.000000</td>\n",
              "      <td>2.000000</td>\n",
              "      <td>2.000000</td>\n",
              "      <td>14.000000</td>\n",
              "      <td>0.000000</td>\n",
              "      <td>0.000000</td>\n",
              "      <td>0.000000</td>\n",
              "      <td>0.000000</td>\n",
              "      <td>0.000000</td>\n",
              "      <td>0.000000</td>\n",
              "      <td>0.675053</td>\n",
              "      <td>6.636171e-01</td>\n",
              "      <td>0.669057</td>\n",
              "      <td>0.14850</td>\n",
              "      <td>0.112200</td>\n",
              "      <td>0.986600</td>\n",
              "      <td>0.823200</td>\n",
              "      <td>0.051500</td>\n",
              "      <td>0.120000</td>\n",
              "      <td>0.206900</td>\n",
              "      <td>0.333300</td>\n",
              "      <td>0.375000</td>\n",
              "      <td>0.085600</td>\n",
              "      <td>0.121000</td>\n",
              "      <td>0.129900</td>\n",
              "      <td>0.003900</td>\n",
              "      <td>0.027700</td>\n",
              "      <td>0.143900</td>\n",
              "      <td>0.112400</td>\n",
              "      <td>0.986600</td>\n",
              "      <td>0.823600</td>\n",
              "      <td>0.049000</td>\n",
              "      <td>0.120800</td>\n",
              "      <td>0.206900</td>\n",
              "      <td>0.333300</td>\n",
              "      <td>0.375000</td>\n",
              "      <td>0.084100</td>\n",
              "      <td>0.131300</td>\n",
              "      <td>0.125200</td>\n",
              "      <td>0.003900</td>\n",
              "      <td>0.023100</td>\n",
              "      <td>0.148900</td>\n",
              "      <td>0.111600</td>\n",
              "      <td>0.986600</td>\n",
              "      <td>0.825600</td>\n",
              "      <td>0.051300</td>\n",
              "      <td>0.120000</td>\n",
              "      <td>0.206900</td>\n",
              "      <td>0.333300</td>\n",
              "      <td>0.375000</td>\n",
              "      <td>0.086800</td>\n",
              "      <td>0.123100</td>\n",
              "      <td>0.130300</td>\n",
              "      <td>0.003900</td>\n",
              "      <td>0.026600</td>\n",
              "      <td>0.127600</td>\n",
              "      <td>2.000000</td>\n",
              "      <td>0.000000</td>\n",
              "      <td>2.000000</td>\n",
              "      <td>0.000000</td>\n",
              "      <td>-274.000000</td>\n",
              "      <td>0.000000</td>\n",
              "      <td>1.000000</td>\n",
              "      <td>0.000000</td>\n",
              "      <td>0.000000</td>\n",
              "      <td>0.000000</td>\n",
              "      <td>0.000000</td>\n",
              "      <td>0.000000</td>\n",
              "      <td>0.000000</td>\n",
              "      <td>0.000000</td>\n",
              "      <td>0.000000</td>\n",
              "      <td>0.000000</td>\n",
              "      <td>0.000000</td>\n",
              "      <td>0.000000</td>\n",
              "      <td>0.00000</td>\n",
              "      <td>0.000000</td>\n",
              "      <td>0.000000</td>\n",
              "      <td>0.000000</td>\n",
              "      <td>0.000000</td>\n",
              "      <td>0.000000</td>\n",
              "      <td>0.000000</td>\n",
              "      <td>0.000000</td>\n",
              "      <td>0.000000</td>\n",
              "      <td>0.000000</td>\n",
              "      <td>0.000000</td>\n",
              "      <td>0.000000</td>\n",
              "      <td>3.000000</td>\n",
              "    </tr>\n",
              "    <tr>\n",
              "      <th>max</th>\n",
              "      <td>456255.000000</td>\n",
              "      <td>1.000000</td>\n",
              "      <td>19.000000</td>\n",
              "      <td>1.170000e+08</td>\n",
              "      <td>4.050000e+06</td>\n",
              "      <td>258025.500000</td>\n",
              "      <td>4.050000e+06</td>\n",
              "      <td>0.072508</td>\n",
              "      <td>-7489.000000</td>\n",
              "      <td>365243.000000</td>\n",
              "      <td>0.000000</td>\n",
              "      <td>0.000000</td>\n",
              "      <td>91.000000</td>\n",
              "      <td>1.000000</td>\n",
              "      <td>1.000000</td>\n",
              "      <td>1.000000</td>\n",
              "      <td>1.000000</td>\n",
              "      <td>1.000000</td>\n",
              "      <td>1.000000</td>\n",
              "      <td>20.000000</td>\n",
              "      <td>3.000000</td>\n",
              "      <td>3.000000</td>\n",
              "      <td>23.000000</td>\n",
              "      <td>1.000000</td>\n",
              "      <td>1.000000</td>\n",
              "      <td>1.000000</td>\n",
              "      <td>1.000000</td>\n",
              "      <td>1.000000</td>\n",
              "      <td>1.000000</td>\n",
              "      <td>0.962693</td>\n",
              "      <td>8.549997e-01</td>\n",
              "      <td>0.896010</td>\n",
              "      <td>1.00000</td>\n",
              "      <td>1.000000</td>\n",
              "      <td>1.000000</td>\n",
              "      <td>1.000000</td>\n",
              "      <td>1.000000</td>\n",
              "      <td>1.000000</td>\n",
              "      <td>1.000000</td>\n",
              "      <td>1.000000</td>\n",
              "      <td>1.000000</td>\n",
              "      <td>1.000000</td>\n",
              "      <td>1.000000</td>\n",
              "      <td>1.000000</td>\n",
              "      <td>1.000000</td>\n",
              "      <td>1.000000</td>\n",
              "      <td>1.000000</td>\n",
              "      <td>1.000000</td>\n",
              "      <td>1.000000</td>\n",
              "      <td>1.000000</td>\n",
              "      <td>1.000000</td>\n",
              "      <td>1.000000</td>\n",
              "      <td>1.000000</td>\n",
              "      <td>1.000000</td>\n",
              "      <td>1.000000</td>\n",
              "      <td>1.000000</td>\n",
              "      <td>1.000000</td>\n",
              "      <td>1.000000</td>\n",
              "      <td>1.000000</td>\n",
              "      <td>1.000000</td>\n",
              "      <td>1.000000</td>\n",
              "      <td>1.000000</td>\n",
              "      <td>1.000000</td>\n",
              "      <td>1.000000</td>\n",
              "      <td>1.000000</td>\n",
              "      <td>1.000000</td>\n",
              "      <td>1.000000</td>\n",
              "      <td>1.000000</td>\n",
              "      <td>1.000000</td>\n",
              "      <td>1.000000</td>\n",
              "      <td>1.000000</td>\n",
              "      <td>1.000000</td>\n",
              "      <td>1.000000</td>\n",
              "      <td>1.000000</td>\n",
              "      <td>1.000000</td>\n",
              "      <td>348.000000</td>\n",
              "      <td>34.000000</td>\n",
              "      <td>344.000000</td>\n",
              "      <td>24.000000</td>\n",
              "      <td>0.000000</td>\n",
              "      <td>1.000000</td>\n",
              "      <td>1.000000</td>\n",
              "      <td>1.000000</td>\n",
              "      <td>1.000000</td>\n",
              "      <td>1.000000</td>\n",
              "      <td>1.000000</td>\n",
              "      <td>1.000000</td>\n",
              "      <td>1.000000</td>\n",
              "      <td>1.000000</td>\n",
              "      <td>1.000000</td>\n",
              "      <td>1.000000</td>\n",
              "      <td>1.000000</td>\n",
              "      <td>1.000000</td>\n",
              "      <td>1.00000</td>\n",
              "      <td>1.000000</td>\n",
              "      <td>1.000000</td>\n",
              "      <td>1.000000</td>\n",
              "      <td>1.000000</td>\n",
              "      <td>1.000000</td>\n",
              "      <td>1.000000</td>\n",
              "      <td>4.000000</td>\n",
              "      <td>9.000000</td>\n",
              "      <td>8.000000</td>\n",
              "      <td>27.000000</td>\n",
              "      <td>261.000000</td>\n",
              "      <td>25.000000</td>\n",
              "    </tr>\n",
              "  </tbody>\n",
              "</table>\n",
              "</div>"
            ],
            "text/plain": [
              "          SK_ID_CURR         TARGET   CNT_CHILDREN  AMT_INCOME_TOTAL  \\\n",
              "count  307511.000000  307511.000000  307511.000000      3.075110e+05   \n",
              "mean   278180.518577       0.080729       0.417052      1.687979e+05   \n",
              "std    102790.175348       0.272419       0.722121      2.371231e+05   \n",
              "min    100002.000000       0.000000       0.000000      2.565000e+04   \n",
              "25%    189145.500000       0.000000       0.000000      1.125000e+05   \n",
              "50%    278202.000000       0.000000       0.000000      1.471500e+05   \n",
              "75%    367142.500000       0.000000       1.000000      2.025000e+05   \n",
              "max    456255.000000       1.000000      19.000000      1.170000e+08   \n",
              "\n",
              "         AMT_CREDIT    AMT_ANNUITY  AMT_GOODS_PRICE  \\\n",
              "count  3.075110e+05  307499.000000     3.072330e+05   \n",
              "mean   5.990260e+05   27108.573909     5.383962e+05   \n",
              "std    4.024908e+05   14493.737315     3.694465e+05   \n",
              "min    4.500000e+04    1615.500000     4.050000e+04   \n",
              "25%    2.700000e+05   16524.000000     2.385000e+05   \n",
              "50%    5.135310e+05   24903.000000     4.500000e+05   \n",
              "75%    8.086500e+05   34596.000000     6.795000e+05   \n",
              "max    4.050000e+06  258025.500000     4.050000e+06   \n",
              "\n",
              "       REGION_POPULATION_RELATIVE     DAYS_BIRTH  DAYS_EMPLOYED  \\\n",
              "count               307511.000000  307511.000000  307511.000000   \n",
              "mean                     0.020868  -16036.995067   63815.045904   \n",
              "std                      0.013831    4363.988632  141275.766519   \n",
              "min                      0.000290  -25229.000000  -17912.000000   \n",
              "25%                      0.010006  -19682.000000   -2760.000000   \n",
              "50%                      0.018850  -15750.000000   -1213.000000   \n",
              "75%                      0.028663  -12413.000000    -289.000000   \n",
              "max                      0.072508   -7489.000000  365243.000000   \n",
              "\n",
              "       DAYS_REGISTRATION  DAYS_ID_PUBLISH    OWN_CAR_AGE     FLAG_MOBIL  \\\n",
              "count      307511.000000    307511.000000  104582.000000  307511.000000   \n",
              "mean        -4986.120328     -2994.202373      12.061091       0.999997   \n",
              "std          3522.886321      1509.450419      11.944812       0.001803   \n",
              "min        -24672.000000     -7197.000000       0.000000       0.000000   \n",
              "25%         -7479.500000     -4299.000000       5.000000       1.000000   \n",
              "50%         -4504.000000     -3254.000000       9.000000       1.000000   \n",
              "75%         -2010.000000     -1720.000000      15.000000       1.000000   \n",
              "max             0.000000         0.000000      91.000000       1.000000   \n",
              "\n",
              "       FLAG_EMP_PHONE  FLAG_WORK_PHONE  FLAG_CONT_MOBILE     FLAG_PHONE  \\\n",
              "count   307511.000000    307511.000000     307511.000000  307511.000000   \n",
              "mean         0.819889         0.199368          0.998133       0.281066   \n",
              "std          0.384280         0.399526          0.043164       0.449521   \n",
              "min          0.000000         0.000000          0.000000       0.000000   \n",
              "25%          1.000000         0.000000          1.000000       0.000000   \n",
              "50%          1.000000         0.000000          1.000000       0.000000   \n",
              "75%          1.000000         0.000000          1.000000       1.000000   \n",
              "max          1.000000         1.000000          1.000000       1.000000   \n",
              "\n",
              "          FLAG_EMAIL  CNT_FAM_MEMBERS  REGION_RATING_CLIENT  \\\n",
              "count  307511.000000    307509.000000         307511.000000   \n",
              "mean        0.056720         2.152665              2.052463   \n",
              "std         0.231307         0.910682              0.509034   \n",
              "min         0.000000         1.000000              1.000000   \n",
              "25%         0.000000         2.000000              2.000000   \n",
              "50%         0.000000         2.000000              2.000000   \n",
              "75%         0.000000         3.000000              2.000000   \n",
              "max         1.000000        20.000000              3.000000   \n",
              "\n",
              "       REGION_RATING_CLIENT_W_CITY  HOUR_APPR_PROCESS_START  \\\n",
              "count                307511.000000            307511.000000   \n",
              "mean                      2.031521                12.063419   \n",
              "std                       0.502737                 3.265832   \n",
              "min                       1.000000                 0.000000   \n",
              "25%                       2.000000                10.000000   \n",
              "50%                       2.000000                12.000000   \n",
              "75%                       2.000000                14.000000   \n",
              "max                       3.000000                23.000000   \n",
              "\n",
              "       REG_REGION_NOT_LIVE_REGION  REG_REGION_NOT_WORK_REGION  \\\n",
              "count               307511.000000               307511.000000   \n",
              "mean                     0.015144                    0.050769   \n",
              "std                      0.122126                    0.219526   \n",
              "min                      0.000000                    0.000000   \n",
              "25%                      0.000000                    0.000000   \n",
              "50%                      0.000000                    0.000000   \n",
              "75%                      0.000000                    0.000000   \n",
              "max                      1.000000                    1.000000   \n",
              "\n",
              "       LIVE_REGION_NOT_WORK_REGION  REG_CITY_NOT_LIVE_CITY  \\\n",
              "count                307511.000000           307511.000000   \n",
              "mean                      0.040659                0.078173   \n",
              "std                       0.197499                0.268444   \n",
              "min                       0.000000                0.000000   \n",
              "25%                       0.000000                0.000000   \n",
              "50%                       0.000000                0.000000   \n",
              "75%                       0.000000                0.000000   \n",
              "max                       1.000000                1.000000   \n",
              "\n",
              "       REG_CITY_NOT_WORK_CITY  LIVE_CITY_NOT_WORK_CITY   EXT_SOURCE_1  \\\n",
              "count           307511.000000            307511.000000  134133.000000   \n",
              "mean                 0.230454                 0.179555       0.502130   \n",
              "std                  0.421124                 0.383817       0.211062   \n",
              "min                  0.000000                 0.000000       0.014568   \n",
              "25%                  0.000000                 0.000000       0.334007   \n",
              "50%                  0.000000                 0.000000       0.505998   \n",
              "75%                  0.000000                 0.000000       0.675053   \n",
              "max                  1.000000                 1.000000       0.962693   \n",
              "\n",
              "       EXT_SOURCE_2   EXT_SOURCE_3  APARTMENTS_AVG  BASEMENTAREA_AVG  \\\n",
              "count  3.068510e+05  246546.000000    151450.00000     127568.000000   \n",
              "mean   5.143927e-01       0.510853         0.11744          0.088442   \n",
              "std    1.910602e-01       0.194844         0.10824          0.082438   \n",
              "min    8.173617e-08       0.000527         0.00000          0.000000   \n",
              "25%    3.924574e-01       0.370650         0.05770          0.044200   \n",
              "50%    5.659614e-01       0.535276         0.08760          0.076300   \n",
              "75%    6.636171e-01       0.669057         0.14850          0.112200   \n",
              "max    8.549997e-01       0.896010         1.00000          1.000000   \n",
              "\n",
              "       YEARS_BEGINEXPLUATATION_AVG  YEARS_BUILD_AVG  COMMONAREA_AVG  \\\n",
              "count                157504.000000    103023.000000    92646.000000   \n",
              "mean                      0.977735         0.752471        0.044621   \n",
              "std                       0.059223         0.113280        0.076036   \n",
              "min                       0.000000         0.000000        0.000000   \n",
              "25%                       0.976700         0.687200        0.007800   \n",
              "50%                       0.981600         0.755200        0.021100   \n",
              "75%                       0.986600         0.823200        0.051500   \n",
              "max                       1.000000         1.000000        1.000000   \n",
              "\n",
              "       ELEVATORS_AVG  ENTRANCES_AVG  FLOORSMAX_AVG  FLOORSMIN_AVG  \\\n",
              "count  143620.000000  152683.000000  154491.000000   98869.000000   \n",
              "mean        0.078942       0.149725       0.226282       0.231894   \n",
              "std         0.134576       0.100049       0.144641       0.161380   \n",
              "min         0.000000       0.000000       0.000000       0.000000   \n",
              "25%         0.000000       0.069000       0.166700       0.083300   \n",
              "50%         0.000000       0.137900       0.166700       0.208300   \n",
              "75%         0.120000       0.206900       0.333300       0.375000   \n",
              "max         1.000000       1.000000       1.000000       1.000000   \n",
              "\n",
              "        LANDAREA_AVG  LIVINGAPARTMENTS_AVG  LIVINGAREA_AVG  \\\n",
              "count  124921.000000          97312.000000   153161.000000   \n",
              "mean        0.066333              0.100775        0.107399   \n",
              "std         0.081184              0.092576        0.110565   \n",
              "min         0.000000              0.000000        0.000000   \n",
              "25%         0.018700              0.050400        0.045300   \n",
              "50%         0.048100              0.075600        0.074500   \n",
              "75%         0.085600              0.121000        0.129900   \n",
              "max         1.000000              1.000000        1.000000   \n",
              "\n",
              "       NONLIVINGAPARTMENTS_AVG  NONLIVINGAREA_AVG  APARTMENTS_MODE  \\\n",
              "count             93997.000000      137829.000000    151450.000000   \n",
              "mean                  0.008809           0.028358         0.114231   \n",
              "std                   0.047732           0.069523         0.107936   \n",
              "min                   0.000000           0.000000         0.000000   \n",
              "25%                   0.000000           0.000000         0.052500   \n",
              "50%                   0.000000           0.003600         0.084000   \n",
              "75%                   0.003900           0.027700         0.143900   \n",
              "max                   1.000000           1.000000         1.000000   \n",
              "\n",
              "       BASEMENTAREA_MODE  YEARS_BEGINEXPLUATATION_MODE  YEARS_BUILD_MODE  \\\n",
              "count      127568.000000                 157504.000000     103023.000000   \n",
              "mean            0.087543                      0.977065          0.759637   \n",
              "std             0.084307                      0.064575          0.110111   \n",
              "min             0.000000                      0.000000          0.000000   \n",
              "25%             0.040700                      0.976700          0.699400   \n",
              "50%             0.074600                      0.981600          0.764800   \n",
              "75%             0.112400                      0.986600          0.823600   \n",
              "max             1.000000                      1.000000          1.000000   \n",
              "\n",
              "       COMMONAREA_MODE  ELEVATORS_MODE  ENTRANCES_MODE  FLOORSMAX_MODE  \\\n",
              "count     92646.000000   143620.000000   152683.000000   154491.000000   \n",
              "mean          0.042553        0.074490        0.145193        0.222315   \n",
              "std           0.074445        0.132256        0.100977        0.143709   \n",
              "min           0.000000        0.000000        0.000000        0.000000   \n",
              "25%           0.007200        0.000000        0.069000        0.166700   \n",
              "50%           0.019000        0.000000        0.137900        0.166700   \n",
              "75%           0.049000        0.120800        0.206900        0.333300   \n",
              "max           1.000000        1.000000        1.000000        1.000000   \n",
              "\n",
              "       FLOORSMIN_MODE  LANDAREA_MODE  LIVINGAPARTMENTS_MODE  LIVINGAREA_MODE  \\\n",
              "count    98869.000000  124921.000000           97312.000000    153161.000000   \n",
              "mean         0.228058       0.064958               0.105645         0.105975   \n",
              "std          0.161160       0.081750               0.097880         0.111845   \n",
              "min          0.000000       0.000000               0.000000         0.000000   \n",
              "25%          0.083300       0.016600               0.054200         0.042700   \n",
              "50%          0.208300       0.045800               0.077100         0.073100   \n",
              "75%          0.375000       0.084100               0.131300         0.125200   \n",
              "max          1.000000       1.000000               1.000000         1.000000   \n",
              "\n",
              "       NONLIVINGAPARTMENTS_MODE  NONLIVINGAREA_MODE  APARTMENTS_MEDI  \\\n",
              "count              93997.000000       137829.000000    151450.000000   \n",
              "mean                   0.008076            0.027022         0.117850   \n",
              "std                    0.046276            0.070254         0.109076   \n",
              "min                    0.000000            0.000000         0.000000   \n",
              "25%                    0.000000            0.000000         0.058300   \n",
              "50%                    0.000000            0.001100         0.086400   \n",
              "75%                    0.003900            0.023100         0.148900   \n",
              "max                    1.000000            1.000000         1.000000   \n",
              "\n",
              "       BASEMENTAREA_MEDI  YEARS_BEGINEXPLUATATION_MEDI  YEARS_BUILD_MEDI  \\\n",
              "count      127568.000000                 157504.000000     103023.000000   \n",
              "mean            0.087955                      0.977752          0.755746   \n",
              "std             0.082179                      0.059897          0.112066   \n",
              "min             0.000000                      0.000000          0.000000   \n",
              "25%             0.043700                      0.976700          0.691400   \n",
              "50%             0.075800                      0.981600          0.758500   \n",
              "75%             0.111600                      0.986600          0.825600   \n",
              "max             1.000000                      1.000000          1.000000   \n",
              "\n",
              "       COMMONAREA_MEDI  ELEVATORS_MEDI  ENTRANCES_MEDI  FLOORSMAX_MEDI  \\\n",
              "count     92646.000000   143620.000000   152683.000000   154491.000000   \n",
              "mean          0.044595        0.078078        0.149213        0.225897   \n",
              "std           0.076144        0.134467        0.100368        0.145067   \n",
              "min           0.000000        0.000000        0.000000        0.000000   \n",
              "25%           0.007900        0.000000        0.069000        0.166700   \n",
              "50%           0.020800        0.000000        0.137900        0.166700   \n",
              "75%           0.051300        0.120000        0.206900        0.333300   \n",
              "max           1.000000        1.000000        1.000000        1.000000   \n",
              "\n",
              "       FLOORSMIN_MEDI  LANDAREA_MEDI  LIVINGAPARTMENTS_MEDI  LIVINGAREA_MEDI  \\\n",
              "count    98869.000000  124921.000000           97312.000000    153161.000000   \n",
              "mean         0.231625       0.067169               0.101954         0.108607   \n",
              "std          0.161934       0.082167               0.093642         0.112260   \n",
              "min          0.000000       0.000000               0.000000         0.000000   \n",
              "25%          0.083300       0.018700               0.051300         0.045700   \n",
              "50%          0.208300       0.048700               0.076100         0.074900   \n",
              "75%          0.375000       0.086800               0.123100         0.130300   \n",
              "max          1.000000       1.000000               1.000000         1.000000   \n",
              "\n",
              "       NONLIVINGAPARTMENTS_MEDI  NONLIVINGAREA_MEDI  TOTALAREA_MODE  \\\n",
              "count              93997.000000       137829.000000   159080.000000   \n",
              "mean                   0.008651            0.028236        0.102547   \n",
              "std                    0.047415            0.070166        0.107462   \n",
              "min                    0.000000            0.000000        0.000000   \n",
              "25%                    0.000000            0.000000        0.041200   \n",
              "50%                    0.000000            0.003100        0.068800   \n",
              "75%                    0.003900            0.026600        0.127600   \n",
              "max                    1.000000            1.000000        1.000000   \n",
              "\n",
              "       OBS_30_CNT_SOCIAL_CIRCLE  DEF_30_CNT_SOCIAL_CIRCLE  \\\n",
              "count             306490.000000             306490.000000   \n",
              "mean                   1.422245                  0.143421   \n",
              "std                    2.400989                  0.446698   \n",
              "min                    0.000000                  0.000000   \n",
              "25%                    0.000000                  0.000000   \n",
              "50%                    0.000000                  0.000000   \n",
              "75%                    2.000000                  0.000000   \n",
              "max                  348.000000                 34.000000   \n",
              "\n",
              "       OBS_60_CNT_SOCIAL_CIRCLE  DEF_60_CNT_SOCIAL_CIRCLE  \\\n",
              "count             306490.000000             306490.000000   \n",
              "mean                   1.405292                  0.100049   \n",
              "std                    2.379803                  0.362291   \n",
              "min                    0.000000                  0.000000   \n",
              "25%                    0.000000                  0.000000   \n",
              "50%                    0.000000                  0.000000   \n",
              "75%                    2.000000                  0.000000   \n",
              "max                  344.000000                 24.000000   \n",
              "\n",
              "       DAYS_LAST_PHONE_CHANGE  FLAG_DOCUMENT_2  FLAG_DOCUMENT_3  \\\n",
              "count           307510.000000    307511.000000    307511.000000   \n",
              "mean              -962.858788         0.000042         0.710023   \n",
              "std                826.808487         0.006502         0.453752   \n",
              "min              -4292.000000         0.000000         0.000000   \n",
              "25%              -1570.000000         0.000000         0.000000   \n",
              "50%               -757.000000         0.000000         1.000000   \n",
              "75%               -274.000000         0.000000         1.000000   \n",
              "max                  0.000000         1.000000         1.000000   \n",
              "\n",
              "       FLAG_DOCUMENT_4  FLAG_DOCUMENT_5  FLAG_DOCUMENT_6  FLAG_DOCUMENT_7  \\\n",
              "count    307511.000000    307511.000000    307511.000000    307511.000000   \n",
              "mean          0.000081         0.015115         0.088055         0.000192   \n",
              "std           0.009016         0.122010         0.283376         0.013850   \n",
              "min           0.000000         0.000000         0.000000         0.000000   \n",
              "25%           0.000000         0.000000         0.000000         0.000000   \n",
              "50%           0.000000         0.000000         0.000000         0.000000   \n",
              "75%           0.000000         0.000000         0.000000         0.000000   \n",
              "max           1.000000         1.000000         1.000000         1.000000   \n",
              "\n",
              "       FLAG_DOCUMENT_8  FLAG_DOCUMENT_9  FLAG_DOCUMENT_10  FLAG_DOCUMENT_11  \\\n",
              "count    307511.000000    307511.000000     307511.000000     307511.000000   \n",
              "mean          0.081376         0.003896          0.000023          0.003912   \n",
              "std           0.273412         0.062295          0.004771          0.062424   \n",
              "min           0.000000         0.000000          0.000000          0.000000   \n",
              "25%           0.000000         0.000000          0.000000          0.000000   \n",
              "50%           0.000000         0.000000          0.000000          0.000000   \n",
              "75%           0.000000         0.000000          0.000000          0.000000   \n",
              "max           1.000000         1.000000          1.000000          1.000000   \n",
              "\n",
              "       FLAG_DOCUMENT_12  FLAG_DOCUMENT_13  FLAG_DOCUMENT_14  FLAG_DOCUMENT_15  \\\n",
              "count     307511.000000     307511.000000     307511.000000      307511.00000   \n",
              "mean           0.000007          0.003525          0.002936           0.00121   \n",
              "std            0.002550          0.059268          0.054110           0.03476   \n",
              "min            0.000000          0.000000          0.000000           0.00000   \n",
              "25%            0.000000          0.000000          0.000000           0.00000   \n",
              "50%            0.000000          0.000000          0.000000           0.00000   \n",
              "75%            0.000000          0.000000          0.000000           0.00000   \n",
              "max            1.000000          1.000000          1.000000           1.00000   \n",
              "\n",
              "       FLAG_DOCUMENT_16  FLAG_DOCUMENT_17  FLAG_DOCUMENT_18  FLAG_DOCUMENT_19  \\\n",
              "count     307511.000000     307511.000000     307511.000000     307511.000000   \n",
              "mean           0.009928          0.000267          0.008130          0.000595   \n",
              "std            0.099144          0.016327          0.089798          0.024387   \n",
              "min            0.000000          0.000000          0.000000          0.000000   \n",
              "25%            0.000000          0.000000          0.000000          0.000000   \n",
              "50%            0.000000          0.000000          0.000000          0.000000   \n",
              "75%            0.000000          0.000000          0.000000          0.000000   \n",
              "max            1.000000          1.000000          1.000000          1.000000   \n",
              "\n",
              "       FLAG_DOCUMENT_20  FLAG_DOCUMENT_21  AMT_REQ_CREDIT_BUREAU_HOUR  \\\n",
              "count     307511.000000     307511.000000               265992.000000   \n",
              "mean           0.000507          0.000335                    0.006402   \n",
              "std            0.022518          0.018299                    0.083849   \n",
              "min            0.000000          0.000000                    0.000000   \n",
              "25%            0.000000          0.000000                    0.000000   \n",
              "50%            0.000000          0.000000                    0.000000   \n",
              "75%            0.000000          0.000000                    0.000000   \n",
              "max            1.000000          1.000000                    4.000000   \n",
              "\n",
              "       AMT_REQ_CREDIT_BUREAU_DAY  AMT_REQ_CREDIT_BUREAU_WEEK  \\\n",
              "count              265992.000000               265992.000000   \n",
              "mean                    0.007000                    0.034362   \n",
              "std                     0.110757                    0.204685   \n",
              "min                     0.000000                    0.000000   \n",
              "25%                     0.000000                    0.000000   \n",
              "50%                     0.000000                    0.000000   \n",
              "75%                     0.000000                    0.000000   \n",
              "max                     9.000000                    8.000000   \n",
              "\n",
              "       AMT_REQ_CREDIT_BUREAU_MON  AMT_REQ_CREDIT_BUREAU_QRT  \\\n",
              "count              265992.000000              265992.000000   \n",
              "mean                    0.267395                   0.265474   \n",
              "std                     0.916002                   0.794056   \n",
              "min                     0.000000                   0.000000   \n",
              "25%                     0.000000                   0.000000   \n",
              "50%                     0.000000                   0.000000   \n",
              "75%                     0.000000                   0.000000   \n",
              "max                    27.000000                 261.000000   \n",
              "\n",
              "       AMT_REQ_CREDIT_BUREAU_YEAR  \n",
              "count               265992.000000  \n",
              "mean                     1.899974  \n",
              "std                      1.869295  \n",
              "min                      0.000000  \n",
              "25%                      0.000000  \n",
              "50%                      1.000000  \n",
              "75%                      3.000000  \n",
              "max                     25.000000  "
            ]
          },
          "metadata": {
            "tags": []
          },
          "execution_count": 5
        }
      ]
    },
    {
      "cell_type": "markdown",
      "metadata": {
        "id": "FNoWd71l1cgn"
      },
      "source": [
        "# Data Cleaning and Preparation"
      ]
    },
    {
      "cell_type": "code",
      "metadata": {
        "id": "XgqaDC2l1cgs",
        "outputId": "242fa860-e54a-4d5b-8016-de7771b33fd0",
        "colab": {
          "base_uri": "https://localhost:8080/",
          "height": 282
        }
      },
      "source": [
        "#заметим выбросы:\n",
        "fig, (ax1, ax2) = plt.subplots(\n",
        "    nrows=1, ncols=2,\n",
        "    figsize=(8, 4)\n",
        ")\n",
        "\n",
        "ax1.hist(train['DAYS_EMPLOYED']);\n",
        "ax1.set_xlabel('Days Employment');\n",
        "\n",
        "ax2.hist(test['DAYS_EMPLOYED']);\n",
        "ax2.set_xlabel('Days Employment');"
      ],
      "execution_count": null,
      "outputs": [
        {
          "output_type": "display_data",
          "data": {
            "image/png": "[encoded data removed]",
            "text/plain": [
              "<Figure size 576x288 with 2 Axes>"
            ]
          },
          "metadata": {
            "tags": [],
            "needs_background": "light"
          }
        }
      ]
    },
    {
      "cell_type": "code",
      "metadata": {
        "id": "Bo9bibZT1cg-",
        "outputId": "c9fe501e-176f-4315-f1af-490a31337653",
        "colab": {
          "base_uri": "https://localhost:8080/",
          "height": 352
        }
      },
      "source": [
        "# заменим их на пропуски\n",
        "train['DAYS_EMPLOYED'].replace({365243: np.nan}, inplace = True)\n",
        "test['DAYS_EMPLOYED'].replace({365243: np.nan}, inplace = True)\n",
        "\n",
        "fig, (ax1, ax2) = plt.subplots(\n",
        "    nrows=1, ncols=2,\n",
        "    figsize=(8, 4)\n",
        ")\n",
        "\n",
        "ax1.hist(train['DAYS_EMPLOYED']);\n",
        "ax1.set_xlabel('Days Employment');\n",
        "\n",
        "ax2.hist(test['DAYS_EMPLOYED']);\n",
        "ax2.set_xlabel('Days Employment');"
      ],
      "execution_count": null,
      "outputs": [
        {
          "output_type": "stream",
          "text": [
            "/usr/local/lib/python3.6/dist-packages/numpy/lib/histograms.py:839: RuntimeWarning: invalid value encountered in greater_equal\n",
            "  keep = (tmp_a >= first_edge)\n",
            "/usr/local/lib/python3.6/dist-packages/numpy/lib/histograms.py:840: RuntimeWarning: invalid value encountered in less_equal\n",
            "  keep &= (tmp_a <= last_edge)\n"
          ],
          "name": "stderr"
        },
        {
          "output_type": "display_data",
          "data": {
            "image/png": "[encoded data removed]",
            "text/plain": [
              "<Figure size 576x288 with 2 Axes>"
            ]
          },
          "metadata": {
            "tags": [],
            "needs_background": "light"
          }
        }
      ]
    },
    {
      "cell_type": "code",
      "metadata": {
        "id": "4Qpm49B81chU"
      },
      "source": [
        "#напишем функцию для проверки пропущенных значений\n",
        "def missing_values_table(df):\n",
        "        # Total missing values\n",
        "        mis_val = df.isnull().sum()\n",
        "        \n",
        "        # Percentage of missing values\n",
        "        mis_val_percent = 100 * df.isnull().sum() / len(df)\n",
        "        \n",
        "        # Make a table with the results\n",
        "        mis_val_table = pd.concat([mis_val, mis_val_percent], axis=1)\n",
        "        \n",
        "        # Rename the columns\n",
        "        mis_val_table_ren_columns = mis_val_table.rename(\n",
        "        columns = {0 : 'Missing Values', 1 : '% of Total Values'})\n",
        "        \n",
        "        # Sort the table by percentage of missing descending\n",
        "        mis_val_table_ren_columns = mis_val_table_ren_columns[\n",
        "            mis_val_table_ren_columns.iloc[:,1] != 0].sort_values(\n",
        "        '% of Total Values', ascending=False).round(1)\n",
        "        \n",
        "        # Print some summary information\n",
        "        print (\"Your selected dataframe has \" + str(df.shape[1]) + \" columns.\\n\"      \n",
        "            \"There are \" + str(mis_val_table_ren_columns.shape[0]) +\n",
        "              \" columns that have missing values.\")\n",
        "        \n",
        "        # Return the dataframe with missing information\n",
        "        return mis_val_table_ren_columns"
      ],
      "execution_count": null,
      "outputs": []
    },
    {
      "cell_type": "code",
      "metadata": {
        "id": "_sLng6xt1chb",
        "outputId": "2fae8264-eb6b-4df4-ecf7-6c7899032a11",
        "colab": {
          "base_uri": "https://localhost:8080/",
          "height": 381
        }
      },
      "source": [
        "missing_values = missing_values_table(train)\n",
        "missing_values.head(10)"
      ],
      "execution_count": null,
      "outputs": [
        {
          "output_type": "stream",
          "text": [
            "Your selected dataframe has 122 columns.\n",
            "There are 68 columns that have missing values.\n"
          ],
          "name": "stdout"
        },
        {
          "output_type": "execute_result",
          "data": {
            "text/html": [
              "<div>\n",
              "<style scoped>\n",
              "    .dataframe tbody tr th:only-of-type {\n",
              "        vertical-align: middle;\n",
              "    }\n",
              "\n",
              "    .dataframe tbody tr th {\n",
              "        vertical-align: top;\n",
              "    }\n",
              "\n",
              "    .dataframe thead th {\n",
              "        text-align: right;\n",
              "    }\n",
              "</style>\n",
              "<table border=\"1\" class=\"dataframe\">\n",
              "  <thead>\n",
              "    <tr style=\"text-align: right;\">\n",
              "      <th></th>\n",
              "      <th>Missing Values</th>\n",
              "      <th>% of Total Values</th>\n",
              "    </tr>\n",
              "  </thead>\n",
              "  <tbody>\n",
              "    <tr>\n",
              "      <th>COMMONAREA_MODE</th>\n",
              "      <td>214865</td>\n",
              "      <td>69.9</td>\n",
              "    </tr>\n",
              "    <tr>\n",
              "      <th>COMMONAREA_AVG</th>\n",
              "      <td>214865</td>\n",
              "      <td>69.9</td>\n",
              "    </tr>\n",
              "    <tr>\n",
              "      <th>COMMONAREA_MEDI</th>\n",
              "      <td>214865</td>\n",
              "      <td>69.9</td>\n",
              "    </tr>\n",
              "    <tr>\n",
              "      <th>NONLIVINGAPARTMENTS_MEDI</th>\n",
              "      <td>213514</td>\n",
              "      <td>69.4</td>\n",
              "    </tr>\n",
              "    <tr>\n",
              "      <th>NONLIVINGAPARTMENTS_MODE</th>\n",
              "      <td>213514</td>\n",
              "      <td>69.4</td>\n",
              "    </tr>\n",
              "    <tr>\n",
              "      <th>NONLIVINGAPARTMENTS_AVG</th>\n",
              "      <td>213514</td>\n",
              "      <td>69.4</td>\n",
              "    </tr>\n",
              "    <tr>\n",
              "      <th>FONDKAPREMONT_MODE</th>\n",
              "      <td>210295</td>\n",
              "      <td>68.4</td>\n",
              "    </tr>\n",
              "    <tr>\n",
              "      <th>LIVINGAPARTMENTS_MEDI</th>\n",
              "      <td>210199</td>\n",
              "      <td>68.4</td>\n",
              "    </tr>\n",
              "    <tr>\n",
              "      <th>LIVINGAPARTMENTS_AVG</th>\n",
              "      <td>210199</td>\n",
              "      <td>68.4</td>\n",
              "    </tr>\n",
              "    <tr>\n",
              "      <th>LIVINGAPARTMENTS_MODE</th>\n",
              "      <td>210199</td>\n",
              "      <td>68.4</td>\n",
              "    </tr>\n",
              "  </tbody>\n",
              "</table>\n",
              "</div>"
            ],
            "text/plain": [
              "                          Missing Values  % of Total Values\n",
              "COMMONAREA_MODE                   214865               69.9\n",
              "COMMONAREA_AVG                    214865               69.9\n",
              "COMMONAREA_MEDI                   214865               69.9\n",
              "NONLIVINGAPARTMENTS_MEDI          213514               69.4\n",
              "NONLIVINGAPARTMENTS_MODE          213514               69.4\n",
              "NONLIVINGAPARTMENTS_AVG           213514               69.4\n",
              "FONDKAPREMONT_MODE                210295               68.4\n",
              "LIVINGAPARTMENTS_MEDI             210199               68.4\n",
              "LIVINGAPARTMENTS_AVG              210199               68.4\n",
              "LIVINGAPARTMENTS_MODE             210199               68.4"
            ]
          },
          "metadata": {
            "tags": []
          },
          "execution_count": 9
        }
      ]
    },
    {
      "cell_type": "code",
      "metadata": {
        "id": "n-r_9ULS1ch6",
        "outputId": "7be3d3a9-56f3-4250-baaa-7e5860412d09",
        "colab": {
          "base_uri": "https://localhost:8080/",
          "height": 33
        }
      },
      "source": [
        "#удалим столбцы с пропусками более 50%\n",
        "mis_val_table_ren_columns = missing_values.loc[missing_values['% of Total Values'] > 50]\n",
        "train = train.drop(mis_val_table_ren_columns.index, axis=1)\n",
        "train.shape"
      ],
      "execution_count": null,
      "outputs": [
        {
          "output_type": "execute_result",
          "data": {
            "text/plain": [
              "(307511, 81)"
            ]
          },
          "metadata": {
            "tags": []
          },
          "execution_count": 10
        }
      ]
    },
    {
      "cell_type": "code",
      "metadata": {
        "id": "SibeFXma1ciF",
        "outputId": "d17e8e30-9d76-4ed0-95c9-41e440a71d3e",
        "colab": {
          "base_uri": "https://localhost:8080/",
          "height": 33
        }
      },
      "source": [
        "#в качестве зависимой переменной берем TARGET:\n",
        "y = train['TARGET']\n",
        "\n",
        "#удаляем ID и TАRGET из тренировочной выборки:\n",
        "train = train.drop(['TARGET'], axis=1)\n",
        "train.shape"
      ],
      "execution_count": null,
      "outputs": [
        {
          "output_type": "execute_result",
          "data": {
            "text/plain": [
              "(307511, 80)"
            ]
          },
          "metadata": {
            "tags": []
          },
          "execution_count": 11
        }
      ]
    },
    {
      "cell_type": "code",
      "metadata": {
        "id": "r38_e16l1ciO",
        "outputId": "1a1fd99f-8598-4ed5-beb8-ff2f28a6c95a",
        "colab": {
          "base_uri": "https://localhost:8080/",
          "height": 50
        }
      },
      "source": [
        "#разделяем категориальные и числовые переменные\n",
        "cat = []\n",
        "num = []\n",
        "\n",
        "for i in train.columns:\n",
        "    if train[i].dtype == 'object':\n",
        "        cat.append(i)\n",
        "    else:\n",
        "        num.append(i)\n",
        "\n",
        "print(\"Categorical: \" + str(len(cat)))\n",
        "print(\"Numerical: \" + str(len(num)))"
      ],
      "execution_count": null,
      "outputs": [
        {
          "output_type": "stream",
          "text": [
            "Categorical: 13\n",
            "Numerical: 67\n"
          ],
          "name": "stdout"
        }
      ]
    },
    {
      "cell_type": "code",
      "metadata": {
        "id": "RCQXH4jh1cia"
      },
      "source": [
        "#создаем список самых частых значений для категориальных переменных\n",
        "most_freq_cat_nans = []\n",
        "for i in cat:\n",
        "    most_freq_cat_nans.append(train[i].value_counts().idxmax())"
      ],
      "execution_count": null,
      "outputs": []
    },
    {
      "cell_type": "code",
      "metadata": {
        "id": "YBV3WJnh1ciz",
        "outputId": "ddfa6fdc-10aa-4234-ac18-a42fa55fd8d0",
        "colab": {
          "base_uri": "https://localhost:8080/",
          "height": 33
        }
      },
      "source": [
        "#заменяем пропуски самыми частыми значениями в категориальных переменных и медианой в числовых\n",
        "for i in range(len(cat)):\n",
        "    train[cat[i]].fillna(most_freq_cat_nans[i], inplace=True)\n",
        "    \n",
        "for i in num:\n",
        "    train[i].fillna(train[i].median(), inplace=True)\n",
        "\n",
        "print(train.isna().sum().max())"
      ],
      "execution_count": null,
      "outputs": [
        {
          "output_type": "stream",
          "text": [
            "0\n"
          ],
          "name": "stdout"
        }
      ]
    },
    {
      "cell_type": "code",
      "metadata": {
        "id": "d4xaaoqm1cjA",
        "outputId": "9977881a-c159-417d-bc22-aee4f870c03e",
        "colab": {
          "base_uri": "https://localhost:8080/",
          "height": 50
        }
      },
      "source": [
        "#те же действия для тестовой выборки:\n",
        "test = test.drop(mis_val_table_ren_columns.index, axis=1)\n",
        "#test = test.drop(['SK_ID_CURR'], axis=1)\n",
        "\n",
        "cat = []\n",
        "num = []\n",
        "\n",
        "for i in test.columns:\n",
        "    if test[i].dtype == 'object':\n",
        "        cat.append(i)\n",
        "    else:\n",
        "        num.append(i)\n",
        "\n",
        "print(len(cat), len(num))\n",
        "\n",
        "most_freq_cat_nans = [] \n",
        "for i in cat:\n",
        "    most_freq_cat_nans.append(test[i].value_counts().idxmax())\n",
        "    \n",
        "for i in range(len(cat)):\n",
        "    test[cat[i]].fillna(most_freq_cat_nans[i], inplace=True)\n",
        "    \n",
        "for i in num:\n",
        "    test[i].fillna(test[i].median(), inplace=True)\n",
        "\n",
        "print(test.isna().sum().max()) "
      ],
      "execution_count": null,
      "outputs": [
        {
          "output_type": "stream",
          "text": [
            "13 67\n",
            "0\n"
          ],
          "name": "stdout"
        }
      ]
    },
    {
      "cell_type": "code",
      "metadata": {
        "id": "WrT_-eBf1cjN"
      },
      "source": [
        "#объединим тестовую и тренировочную выборки\n",
        "df = train.append(test)\n",
        "df.drop(['SK_ID_CURR'], axis = 1, inplace = True)\n",
        "df.tail()"
      ],
      "execution_count": null,
      "outputs": []
    },
    {
      "cell_type": "markdown",
      "metadata": {
        "id": "pa9b9rLq1cjW"
      },
      "source": [
        "Закодируем все категориальные переменные с помощью One Hot Encoding "
      ]
    },
    {
      "cell_type": "code",
      "metadata": {
        "id": "Bj-Dp6eh1cjX"
      },
      "source": [
        "categorical_columns = [col for col in df.columns if df[col].dtype == 'object']\n",
        "df = pd.get_dummies(df, columns= categorical_columns, dummy_na= True)\n",
        "df.tail()"
      ],
      "execution_count": null,
      "outputs": []
    },
    {
      "cell_type": "code",
      "metadata": {
        "id": "fgr25trg1cjf"
      },
      "source": [
        "x_train = df[:307511]\n",
        "x_test = df[307511:]"
      ],
      "execution_count": null,
      "outputs": []
    },
    {
      "cell_type": "markdown",
      "metadata": {
        "id": "BBJNFN_J1cjl"
      },
      "source": [
        "# Decision Tree"
      ]
    },
    {
      "cell_type": "markdown",
      "metadata": {
        "id": "RkPVmxg0Ed4O"
      },
      "source": [
        "## max_depth"
      ]
    },
    {
      "cell_type": "markdown",
      "metadata": {
        "id": "Pw0Vh3dW1cjm"
      },
      "source": [
        "Зависимость метрики от глубины дерева:"
      ]
    },
    {
      "cell_type": "code",
      "metadata": {
        "id": "ZlmWtwlz1cjn"
      },
      "source": [
        "#функция для оценки ошибки модели(DecisionTreeClassifier) с помощью кроссвалидации данных(k-fold):\n",
        "from sklearn.tree import DecisionTreeClassifier\n",
        "from sklearn.model_selection import KFold\n",
        "from sklearn.metrics import roc_auc_score, accuracy_score, roc_curve, auc\n",
        "\n",
        "depths = [2, 3, 5, 7, 10, 15, 20]\n",
        "\n",
        "def kfold1(X, y):\n",
        "    \n",
        "    result = []\n",
        "    for depth in depths:\n",
        "        # Инициализируем модель\n",
        "        model = DecisionTreeClassifier(random_state=42,\n",
        "                                   # функция для impurity ('gini' или 'entropy')\n",
        "                                   criterion='gini',\n",
        "                                   # максимальная глубина дерева\n",
        "                                   max_depth=depth,\n",
        "                                   # минимальное число элементов в узле для разбиения (может быть долей)\n",
        "                                   min_samples_split=2,\n",
        "                                   # минимальное число элементов в листе (может быть долей)\n",
        "                                   min_samples_leaf=1\n",
        "                                  )\n",
        "        \n",
        "        kf = KFold(n_splits = 3, random_state = 42, shuffle = True)\n",
        "        roc_auc_list = []\n",
        "        \n",
        "        for i, (train_index, test_index) in enumerate(kf.split(X)):\n",
        "            \n",
        "            X_train, X_test = X.iloc[train_index], X.iloc[test_index]\n",
        "            y_train, y_test = y[train_index], y[test_index]\n",
        "        \n",
        "            model.fit(X_train, y_train)\n",
        "            pred_prob = model.predict_proba(X_test)\n",
        "            predict = pred_prob[:,1]\n",
        "            roc_auc = roc_auc_score(y_test, predict)\n",
        "            print(i, roc_auc)\n",
        "            roc_auc_list.append(roc_auc)\n",
        "            \n",
        "        result.append(np.mean(roc_auc_list))\n",
        "        \n",
        "    return result"
      ],
      "execution_count": null,
      "outputs": []
    },
    {
      "cell_type": "code",
      "metadata": {
        "scrolled": false,
        "id": "BLgHgw941cjt",
        "outputId": "1c04bfd2-cad3-438f-f399-3df9d1757778",
        "colab": {
          "base_uri": "https://localhost:8080/"
        }
      },
      "source": [
        "cross_val_1 = kfold1(x_train, y)"
      ],
      "execution_count": null,
      "outputs": [
        {
          "output_type": "stream",
          "text": [
            "0 0.6498316130024933\n",
            "1 0.6501047474155235\n",
            "2 0.6516388620537137\n",
            "0 0.6832643171658872\n",
            "1 0.6817836782068539\n",
            "2 0.6848589225641716\n",
            "0 0.708382449624464\n",
            "1 0.7059227779570731\n",
            "2 0.7061530868340526\n",
            "0 0.7140221463354974\n",
            "1 0.7102827343718726\n",
            "2 0.7101841340262687\n",
            "0 0.7013870171322645\n",
            "1 0.7008336134095461\n",
            "2 0.7017705331155769\n",
            "0 0.6373506789551795\n",
            "1 0.6413591789183251\n",
            "2 0.6398409809768586\n",
            "0 0.5590742886497411\n",
            "1 0.562774270435491\n",
            "2 0.5697144009119186\n"
          ],
          "name": "stdout"
        }
      ]
    },
    {
      "cell_type": "code",
      "metadata": {
        "id": "U5Vm24aK1cjx",
        "outputId": "fd456171-27dd-4a93-95c2-9b28b35949aa",
        "colab": {
          "base_uri": "https://localhost:8080/",
          "height": 299
        }
      },
      "source": [
        "plt.plot(depths, cross_val_1, '-+', markersize=12)\n",
        "plt.title(\"Зависимость метрики от глубины дерева\")\n",
        "plt.xlabel(\"max_depth\")   \n",
        "plt.ylabel(\"cross validation score\")\n",
        "plt.show()"
      ],
      "execution_count": null,
      "outputs": [
        {
          "output_type": "display_data",
          "data": {
            "image/png": "[encoded data removed]",
            "text/plain": [
              "<Figure size 432x288 with 1 Axes>"
            ]
          },
          "metadata": {
            "tags": [],
            "needs_background": "light"
          }
        }
      ]
    },
    {
      "cell_type": "markdown",
      "metadata": {
        "id": "CEDfPp_41cj1"
      },
      "source": [
        "Зависимость метрики от минимального числа элементов в узле для разбиения:"
      ]
    },
    {
      "cell_type": "markdown",
      "metadata": {
        "id": "o_crSdaaEtAF"
      },
      "source": [
        "## min_samples_split"
      ]
    },
    {
      "cell_type": "code",
      "metadata": {
        "id": "2dLnXuBs1cj2"
      },
      "source": [
        "splits = [2, 5, 10, 50, 100, 200, 500]\n",
        "\n",
        "def kfold2(X, y):\n",
        "    \n",
        "    result = []\n",
        "    for split in splits:\n",
        "        # Инициализируем модель\n",
        "        model = DecisionTreeClassifier(random_state=42,\n",
        "                                   # функция для impurity ('gini' или 'entropy')\n",
        "                                   criterion='gini',\n",
        "                                   # максимальная глубина дерева\n",
        "                                   max_depth=7,\n",
        "                                   # минимальное число элементов в узле для разбиения (может быть долей)\n",
        "                                   min_samples_split=split,\n",
        "                                   # минимальное число элементов в листе (может быть долей)\n",
        "                                   min_samples_leaf=1\n",
        "                                  )\n",
        "        \n",
        "        kf = KFold(n_splits = 3, random_state = 42, shuffle = True)\n",
        "        roc_auc_list = []\n",
        "        \n",
        "        for i, (train_index, test_index) in enumerate(kf.split(X)):\n",
        "            \n",
        "            X_train, X_test = X.iloc[train_index], X.iloc[test_index]\n",
        "            y_train, y_test = y[train_index], y[test_index]\n",
        "        \n",
        "            model.fit(X_train, y_train)\n",
        "            pred_prob = model.predict_proba(X_test)\n",
        "            predict = pred_prob[:,1]\n",
        "            roc_auc = roc_auc_score(y_test, predict)\n",
        "            print(i, roc_auc)\n",
        "            roc_auc_list.append(roc_auc)\n",
        "            \n",
        "        result.append(np.mean(roc_auc_list))\n",
        "        \n",
        "    return result"
      ],
      "execution_count": null,
      "outputs": []
    },
    {
      "cell_type": "code",
      "metadata": {
        "id": "URlIX8t01cj4",
        "outputId": "83d297b7-2c2b-4e41-f34b-d0856b65a203"
      },
      "source": [
        "cross_val_2 = kfold2(x_train, y)"
      ],
      "execution_count": null,
      "outputs": [
        {
          "output_type": "stream",
          "text": [
            "0 0.7140221463354974\n",
            "1 0.7102827343718726\n",
            "2 0.7101841340262687\n",
            "0 0.7140115750578133\n",
            "1 0.7102827343718726\n",
            "2 0.710116426209273\n",
            "0 0.7139898719975486\n",
            "1 0.7103968359568178\n",
            "2 0.7101917416606587\n",
            "0 0.7141333547787081\n",
            "1 0.7104082403698571\n",
            "2 0.7103264957892854\n",
            "0 0.7142076566281452\n",
            "1 0.7104082403698571\n",
            "2 0.7103339046493802\n",
            "0 0.7142146215163568\n",
            "1 0.7112739567317388\n",
            "2 0.7103098297262989\n",
            "0 0.7145044051367813\n",
            "1 0.71142938834392\n",
            "2 0.7109222371956059\n"
          ],
          "name": "stdout"
        }
      ]
    },
    {
      "cell_type": "code",
      "metadata": {
        "id": "NWeQ3OGk1cj8",
        "outputId": "2affd26c-5a50-4e70-ca0e-89e5b0bf623b"
      },
      "source": [
        "plt.plot(splits, cross_val_2, '-+', markersize=12)\n",
        "plt.title(\"Зависимость метрики от минимального числа элементов в узле для разбиения\")\n",
        "plt.xlabel(\"min_samples_split\")   \n",
        "plt.ylabel(\"cross validation score\")\n",
        "plt.show()"
      ],
      "execution_count": null,
      "outputs": [
        {
          "output_type": "display_data",
          "data": {
            "image/png": "[encoded data removed]",
            "text/plain": [
              "<Figure size 432x288 with 1 Axes>"
            ]
          },
          "metadata": {
            "tags": []
          }
        }
      ]
    },
    {
      "cell_type": "markdown",
      "metadata": {
        "id": "dPSjwrDPEzNv"
      },
      "source": [
        "## min_samples_leaf"
      ]
    },
    {
      "cell_type": "markdown",
      "metadata": {
        "id": "QPZrchOv1cj_"
      },
      "source": [
        "Зависимость метрики от минимального числа элементов в листе:"
      ]
    },
    {
      "cell_type": "code",
      "metadata": {
        "id": "9lRZsZAj1cj_"
      },
      "source": [
        "leafs = [1, 2, 5, 10, 50, 100]\n",
        "\n",
        "def kfold3(X, y):\n",
        "    \n",
        "    result = []\n",
        "    for leaf in leafs:\n",
        "        # Инициализируем модель\n",
        "        model = DecisionTreeClassifier(random_state=42,\n",
        "                                   # функция для impurity ('gini' или 'entropy')\n",
        "                                   criterion='gini',\n",
        "                                   # максимальная глубина дерева\n",
        "                                   max_depth=7,\n",
        "                                   # минимальное число элементов в узле для разбиения (может быть долей)\n",
        "                                   min_samples_split=10,\n",
        "                                   # минимальное число элементов в листе (может быть долей)\n",
        "                                   min_samples_leaf=leaf\n",
        "                                  )\n",
        "        \n",
        "        kf = KFold(n_splits = 3, random_state = 42, shuffle = True)\n",
        "        roc_auc_list = []\n",
        "        \n",
        "        for i, (train_index, test_index) in enumerate(kf.split(X)):\n",
        "            \n",
        "            X_train, X_test = X.iloc[train_index], X.iloc[test_index]\n",
        "            y_train, y_test = y[train_index], y[test_index]\n",
        "        \n",
        "            model.fit(X_train, y_train)\n",
        "            pred_prob = model.predict_proba(X_test)\n",
        "            predict = pred_prob[:,1]\n",
        "            roc_auc = roc_auc_score(y_test, predict)\n",
        "            print(i, roc_auc)\n",
        "            roc_auc_list.append(roc_auc)\n",
        "            \n",
        "        result.append(np.mean(roc_auc_list))\n",
        "        \n",
        "    return result"
      ],
      "execution_count": null,
      "outputs": []
    },
    {
      "cell_type": "code",
      "metadata": {
        "id": "mBMWizCD1ckE",
        "outputId": "0f0c0eb9-196a-4073-874a-06d1bb20d3b0"
      },
      "source": [
        "cross_val_3 = kfold3(x_train, y)"
      ],
      "execution_count": null,
      "outputs": [
        {
          "output_type": "stream",
          "text": [
            "0 0.7139898719975486\n",
            "1 0.7103968359568178\n",
            "2 0.7101917416606587\n",
            "0 0.7143676497088483\n",
            "1 0.7100517064583661\n",
            "2 0.7103491270172417\n",
            "0 0.7141479991017889\n",
            "1 0.7102481082176174\n",
            "2 0.709752879639988\n",
            "0 0.7133981056847722\n",
            "1 0.7101865939640377\n",
            "2 0.7099213950663616\n",
            "0 0.7134822306090526\n",
            "1 0.7091959215263192\n",
            "2 0.7096357344615081\n",
            "0 0.7133716991729108\n",
            "1 0.7105882461150346\n",
            "2 0.7102085251811832\n"
          ],
          "name": "stdout"
        }
      ]
    },
    {
      "cell_type": "code",
      "metadata": {
        "id": "mTRGu3vf1ckK",
        "outputId": "22c1b8d7-a30b-4b9b-af43-f03f58e7f860"
      },
      "source": [
        "plt.plot(leafs, cross_val_3, '+-', markersize=12)\n",
        "plt.title(\"Зависимость метрики от минимального числа элементов в листе\")\n",
        "plt.xlabel(\"min_samples_split\")   \n",
        "plt.ylabel(\"cross validation score\")\n",
        "plt.show()"
      ],
      "execution_count": null,
      "outputs": [
        {
          "output_type": "display_data",
          "data": {
            "image/png": "[encoded data removed]",
            "text/plain": [
              "<Figure size 432x288 with 1 Axes>"
            ]
          },
          "metadata": {
            "tags": []
          }
        }
      ]
    },
    {
      "cell_type": "markdown",
      "metadata": {
        "id": "KYGVWxgs1ckP"
      },
      "source": [
        "Подберем \"лучшие\" гиперпараметры для дерева решений:"
      ]
    },
    {
      "cell_type": "markdown",
      "metadata": {
        "id": "qzQqhhoD1ckP"
      },
      "source": [
        "## GridSearchCV"
      ]
    },
    {
      "cell_type": "code",
      "metadata": {
        "id": "8q8k_Yrf1ckQ"
      },
      "source": [
        "from sklearn.model_selection import GridSearchCV\n",
        "\n",
        "parameters = {'criterion':('gini', 'entropy'),\n",
        "              'max_depth':[5, 7, 10], \n",
        "              'min_samples_split':[2, 10, 100],\n",
        "              'min_samples_leaf' :[1, 2, 5]\n",
        "              }\n",
        "\n",
        "model = DecisionTreeClassifier(random_state = 42)\n",
        "\n",
        "clf = GridSearchCV(model, parameters, cv = 3, scoring = 'roc_auc')\n",
        "\n",
        "clf.fit(x_train, y)"
      ],
      "execution_count": null,
      "outputs": []
    },
    {
      "cell_type": "code",
      "metadata": {
        "id": "4xJK7SNt1ckV",
        "outputId": "e6675bb0-2453-4646-e785-84ea68f340a8"
      },
      "source": [
        "print(clf.best_score_)\n",
        "print(clf.best_params_) "
      ],
      "execution_count": null,
      "outputs": [
        {
          "output_type": "stream",
          "text": [
            "0.7130550610015264\n",
            "{'criterion': 'gini', 'max_depth': 7, 'min_samples_leaf': 1, 'min_samples_split': 100}\n"
          ],
          "name": "stdout"
        }
      ]
    },
    {
      "cell_type": "markdown",
      "metadata": {
        "id": "o1TY56OL1ckk"
      },
      "source": [
        "Включая \"лучшие\" гиперпараметры из GridSearchCV и запустим новый поиск RandomizedSearchCV:"
      ]
    },
    {
      "cell_type": "markdown",
      "metadata": {
        "id": "I4WPXdVo1ckl"
      },
      "source": [
        "## RandomizedSearchCV"
      ]
    },
    {
      "cell_type": "code",
      "metadata": {
        "id": "vGm8WioF1ckm"
      },
      "source": [
        "from sklearn.model_selection import RandomizedSearchCV\n",
        "\n",
        "parameters = {'max_depth':[5, 7, 10], \n",
        "              'min_samples_split':[100, 200, 500],\n",
        "              'min_samples_leaf' :[1, 2]\n",
        "              }\n",
        "\n",
        "model = DecisionTreeClassifier(random_state = 42,\n",
        "                               criterion = 'gini')\n",
        "\n",
        "rnd_search = RandomizedSearchCV(model, parameters, cv = 3, scoring = 'roc_auc')\n",
        "\n",
        "rnd_search.fit(x_train, y)"
      ],
      "execution_count": null,
      "outputs": []
    },
    {
      "cell_type": "code",
      "metadata": {
        "id": "9L9c5RaO1ckq",
        "outputId": "6d2cacf0-c6d2-499e-919e-511450eaaa10"
      },
      "source": [
        "print(rnd_search.best_score_)\n",
        "print(rnd_search.best_params_) "
      ],
      "execution_count": null,
      "outputs": [
        {
          "output_type": "stream",
          "text": [
            "0.7133324018868655\n",
            "{'min_samples_split': 500, 'min_samples_leaf': 1, 'max_depth': 7}\n"
          ],
          "name": "stdout"
        }
      ]
    },
    {
      "cell_type": "code",
      "metadata": {
        "id": "NOmnCQ1p1ckv",
        "outputId": "86879ab1-be8a-4261-9a37-28b7f7f38ca8"
      },
      "source": [
        "#записываем прогноз\n",
        "pred_prob = rnd_search.predict_proba(x_test)\n",
        "prediction = pred_prob[:,1]\n",
        "\n",
        "sample_submission['TARGET'] = prediction\n",
        "sample_submission.head()"
      ],
      "execution_count": null,
      "outputs": [
        {
          "output_type": "execute_result",
          "data": {
            "text/html": [
              "<div>\n",
              "<style scoped>\n",
              "    .dataframe tbody tr th:only-of-type {\n",
              "        vertical-align: middle;\n",
              "    }\n",
              "\n",
              "    .dataframe tbody tr th {\n",
              "        vertical-align: top;\n",
              "    }\n",
              "\n",
              "    .dataframe thead th {\n",
              "        text-align: right;\n",
              "    }\n",
              "</style>\n",
              "<table border=\"1\" class=\"dataframe\">\n",
              "  <thead>\n",
              "    <tr style=\"text-align: right;\">\n",
              "      <th></th>\n",
              "      <th>SK_ID_CURR</th>\n",
              "      <th>TARGET</th>\n",
              "    </tr>\n",
              "  </thead>\n",
              "  <tbody>\n",
              "    <tr>\n",
              "      <th>0</th>\n",
              "      <td>100001</td>\n",
              "      <td>0.105695</td>\n",
              "    </tr>\n",
              "    <tr>\n",
              "      <th>1</th>\n",
              "      <td>100005</td>\n",
              "      <td>0.117175</td>\n",
              "    </tr>\n",
              "    <tr>\n",
              "      <th>2</th>\n",
              "      <td>100013</td>\n",
              "      <td>0.021252</td>\n",
              "    </tr>\n",
              "    <tr>\n",
              "      <th>3</th>\n",
              "      <td>100028</td>\n",
              "      <td>0.038785</td>\n",
              "    </tr>\n",
              "    <tr>\n",
              "      <th>4</th>\n",
              "      <td>100038</td>\n",
              "      <td>0.070405</td>\n",
              "    </tr>\n",
              "  </tbody>\n",
              "</table>\n",
              "</div>"
            ],
            "text/plain": [
              "   SK_ID_CURR    TARGET\n",
              "0      100001  0.105695\n",
              "1      100005  0.117175\n",
              "2      100013  0.021252\n",
              "3      100028  0.038785\n",
              "4      100038  0.070405"
            ]
          },
          "metadata": {
            "tags": []
          },
          "execution_count": 89
        }
      ]
    },
    {
      "cell_type": "code",
      "metadata": {
        "id": "fibwo2ty1ck0"
      },
      "source": [
        "#кладем результат в файл:\n",
        "sample_submission.to_csv('sub2.csv', index = None)"
      ],
      "execution_count": null,
      "outputs": []
    },
    {
      "cell_type": "markdown",
      "metadata": {
        "id": "28CHZuCV1ck5"
      },
      "source": [
        "## Public Score: 0.70300\n",
        "## Private Score: 0.69187"
      ]
    },
    {
      "cell_type": "markdown",
      "metadata": {
        "id": "jhkVcNmK1ck6"
      },
      "source": [
        "# Random Forest"
      ]
    },
    {
      "cell_type": "markdown",
      "metadata": {
        "id": "62L34V0YFFki"
      },
      "source": [
        "## n_estimators"
      ]
    },
    {
      "cell_type": "code",
      "metadata": {
        "id": "4U01z41M1ck6"
      },
      "source": [
        "#функция для оценки ошибки модели(RandomForestClassifier) с помощью кроссвалидации данных(k-fold):\n",
        "from sklearn.ensemble import RandomForestClassifier\n",
        "from sklearn.model_selection import KFold\n",
        "from sklearn.metrics import roc_auc_score, accuracy_score, roc_curve, auc\n",
        "\n",
        "n_estimators = [10, 30, 50, 100, 500]\n",
        "\n",
        "def kfold4(X, y):\n",
        "    \n",
        "    result = []\n",
        "    for estimators in n_estimators:\n",
        "        # Инициализируем модель\n",
        "\n",
        "        model = RandomForestClassifier(random_state=42,\n",
        "                               # опции, относящиеся к отдельным деревьям такаие же, как в tree.DecisionTreeClassifier\n",
        "                               # число деревьев в лесу\n",
        "                               n_estimators=estimators,\n",
        "                               # функция для impurity ('gini' или 'entropy')\n",
        "                               criterion='gini',\n",
        "                               max_depth=5,\n",
        "                               min_samples_split = 10,\n",
        "                               min_samples_leaf =5  )\n",
        "        \n",
        "        kf = KFold(n_splits = 3, random_state = 42, shuffle = True)\n",
        "        roc_auc_list = []\n",
        "        \n",
        "        for i, (train_index, test_index) in enumerate(kf.split(X)):\n",
        "            \n",
        "            X_train, X_test = X.iloc[train_index], X.iloc[test_index]\n",
        "            y_train, y_test = y[train_index], y[test_index]\n",
        "        \n",
        "            model.fit(X_train, y_train)\n",
        "            pred_prob = model.predict_proba(X_test)\n",
        "            predict = pred_prob[:,1]\n",
        "            roc_auc = roc_auc_score(y_test, predict)\n",
        "            print(i, roc_auc)\n",
        "            roc_auc_list.append(roc_auc)\n",
        "            \n",
        "        result.append(np.mean(roc_auc_list))\n",
        "        \n",
        "    return result"
      ],
      "execution_count": null,
      "outputs": []
    },
    {
      "cell_type": "code",
      "metadata": {
        "id": "peBjg4pg1ck-",
        "outputId": "57210c8c-f8fb-4a5f-8396-90841ec5bbf6",
        "colab": {
          "base_uri": "https://localhost:8080/"
        }
      },
      "source": [
        "cross_val_4 = kfold4(x_train, y)"
      ],
      "execution_count": null,
      "outputs": [
        {
          "output_type": "stream",
          "text": [
            "0 0.7035452891315513\n",
            "1 0.6962079265313708\n",
            "2 0.6989434818360346\n",
            "0 0.715581491021806\n",
            "1 0.7112579256487805\n",
            "2 0.7148266251487572\n",
            "0 0.7191065555056614\n",
            "1 0.7142751192873634\n",
            "2 0.7188535903688391\n",
            "0 0.7210089913231162\n",
            "1 0.7172142220868412\n",
            "2 0.7214083511963661\n",
            "0 0.7231622278396146\n",
            "1 0.7187649103640348\n",
            "2 0.7226392119713363\n"
          ],
          "name": "stdout"
        }
      ]
    },
    {
      "cell_type": "code",
      "metadata": {
        "id": "HJWF7K4R1clC",
        "outputId": "cd6895c4-657e-42ef-cf8e-d29adaa0af80",
        "colab": {
          "base_uri": "https://localhost:8080/",
          "height": 299
        }
      },
      "source": [
        "plt.plot(n_estimators, cross_val_4, '-+', markersize=12)\n",
        "plt.title(\"Зависимость метрики от числа деревьев\")\n",
        "plt.xlabel(\"n_estimators\")   \n",
        "plt.ylabel(\"cross validation score\")\n",
        "plt.show()"
      ],
      "execution_count": null,
      "outputs": [
        {
          "output_type": "display_data",
          "data": {
            "image/png": "[encoded data removed]",
            "text/plain": [
              "<Figure size 432x288 with 1 Axes>"
            ]
          },
          "metadata": {
            "tags": [],
            "needs_background": "light"
          }
        }
      ]
    },
    {
      "cell_type": "markdown",
      "metadata": {
        "id": "ce_XjD6VFWSx"
      },
      "source": [
        "## criterion"
      ]
    },
    {
      "cell_type": "code",
      "metadata": {
        "id": "QVz6Sn5a1clG"
      },
      "source": [
        "criterions = ['gini', 'entropy']\n",
        "\n",
        "def kfold5(X, y):\n",
        "    \n",
        "    result = []\n",
        "    for criterion in criterions:\n",
        "        # Инициализируем модель\n",
        "\n",
        "        model = RandomForestClassifier(random_state=42,\n",
        "                               # опции, относящиеся к отдельным деревьям такаие же, как в tree.DecisionTreeClassifier\n",
        "                               # число деревьев в лесу\n",
        "                               n_estimators=100,\n",
        "                               # функция для impurity ('gini' или 'entropy')\n",
        "                               criterion=criterion,\n",
        "                               max_depth=5)\n",
        "        \n",
        "        kf = KFold(n_splits = 3, random_state = 42, shuffle = True)\n",
        "        roc_auc_list = []\n",
        "        \n",
        "        for i, (train_index, test_index) in enumerate(kf.split(X)):\n",
        "            \n",
        "            X_train, X_test = X.iloc[train_index], X.iloc[test_index]\n",
        "            y_train, y_test = y[train_index], y[test_index]\n",
        "        \n",
        "            model.fit(X_train, y_train)\n",
        "            pred_prob = model.predict_proba(X_test)\n",
        "            predict = pred_prob[:,1]\n",
        "            roc_auc = roc_auc_score(y_test, predict)\n",
        "            print(i, roc_auc)\n",
        "            roc_auc_list.append(roc_auc)\n",
        "            \n",
        "        result.append(np.mean(roc_auc_list))\n",
        "        \n",
        "    return result"
      ],
      "execution_count": null,
      "outputs": []
    },
    {
      "cell_type": "code",
      "metadata": {
        "id": "EyrPyuvE8m9g",
        "outputId": "bcb872ce-d863-4778-d5e1-ce45b2d25529",
        "colab": {
          "base_uri": "https://localhost:8080/"
        }
      },
      "source": [
        "cross_val_5 = kfold5(x_train, y)"
      ],
      "execution_count": null,
      "outputs": [
        {
          "output_type": "stream",
          "text": [
            "0 0.7210089913231162\n",
            "1 0.7172142220868412\n",
            "2 0.7214083511963661\n",
            "0 0.7256576021111478\n",
            "1 0.7169342466825921\n",
            "2 0.7224481892282552\n"
          ],
          "name": "stdout"
        }
      ]
    },
    {
      "cell_type": "code",
      "metadata": {
        "id": "ohpCjPoM1clL",
        "outputId": "bf883c0e-3a6b-4e2f-c0c8-158816342b42",
        "colab": {
          "base_uri": "https://localhost:8080/",
          "height": 299
        }
      },
      "source": [
        "plt.plot(criterions, cross_val_5, '+', markersize=20)\n",
        "plt.title(\"Зависимость метрики от функции загрязения узла\")\n",
        "plt.xlabel(\"criterion\")   \n",
        "plt.ylabel(\"cross validation score\")\n",
        "plt.show()"
      ],
      "execution_count": null,
      "outputs": [
        {
          "output_type": "display_data",
          "data": {
            "image/png": "[encoded data removed]",
            "text/plain": [
              "<Figure size 432x288 with 1 Axes>"
            ]
          },
          "metadata": {
            "tags": [],
            "needs_background": "light"
          }
        }
      ]
    },
    {
      "cell_type": "markdown",
      "metadata": {
        "id": "NNi3nhj9FZ3s"
      },
      "source": [
        "## max_depths"
      ]
    },
    {
      "cell_type": "code",
      "metadata": {
        "id": "AHJNiEnQ1clW"
      },
      "source": [
        "max_depths = [3, 5, 7, 10, 15]\n",
        "\n",
        "def kfold6(X, y):\n",
        "    \n",
        "    result = []\n",
        "    for max_depth in max_depths:\n",
        "        # Инициализируем модель\n",
        "\n",
        "        model = RandomForestClassifier(random_state=42,\n",
        "                               # опции, относящиеся к отдельным деревьям такаие же, как в tree.DecisionTreeClassifier\n",
        "                               # число деревьев в лесу\n",
        "                               n_estimators=100,\n",
        "                               # функция для impurity ('gini' или 'entropy')\n",
        "                               criterion='entropy',\n",
        "                               max_depth=max_depth)\n",
        "        \n",
        "        kf = KFold(n_splits = 3, random_state = 42, shuffle = True)\n",
        "        roc_auc_list = []\n",
        "        \n",
        "        for i, (train_index, test_index) in enumerate(kf.split(X)):\n",
        "            \n",
        "            X_train, X_test = X.iloc[train_index], X.iloc[test_index]\n",
        "            y_train, y_test = y[train_index], y[test_index]\n",
        "        \n",
        "            model.fit(X_train, y_train)\n",
        "            pred_prob = model.predict_proba(X_test)\n",
        "            predict = pred_prob[:,1]\n",
        "            roc_auc = roc_auc_score(y_test, predict)\n",
        "            print(i, roc_auc)\n",
        "            roc_auc_list.append(roc_auc)\n",
        "            \n",
        "        result.append(np.mean(roc_auc_list))\n",
        "        \n",
        "    return result"
      ],
      "execution_count": null,
      "outputs": []
    },
    {
      "cell_type": "code",
      "metadata": {
        "id": "25y8WoqY1cla",
        "outputId": "f86de8db-d8b8-4181-c72e-0bb0e2ea8624",
        "colab": {
          "base_uri": "https://localhost:8080/"
        }
      },
      "source": [
        "cross_val_6 = kfold6(x_train, y)"
      ],
      "execution_count": null,
      "outputs": [
        {
          "output_type": "stream",
          "text": [
            "0 0.7160318741814646\n",
            "1 0.7105838940905049\n",
            "2 0.7162972625803096\n",
            "0 0.7256576021111478\n",
            "1 0.7169342466825921\n",
            "2 0.7224481892282552\n",
            "0 0.7286800464501411\n",
            "1 0.7245746048813471\n",
            "2 0.7277295932106507\n",
            "0 0.7346512656265934\n",
            "1 0.7311120806380987\n",
            "2 0.7331807898088036\n",
            "0 0.7370935407968466\n",
            "1 0.7330991835961862\n",
            "2 0.7360123386794609\n"
          ],
          "name": "stdout"
        }
      ]
    },
    {
      "cell_type": "code",
      "metadata": {
        "id": "c8G3gP2a1clh",
        "outputId": "f20d4d80-0153-4607-d740-d80d9a6054f7",
        "colab": {
          "base_uri": "https://localhost:8080/",
          "height": 299
        }
      },
      "source": [
        "plt.plot(max_depths, cross_val_6, '-+', markersize=12)\n",
        "plt.title(\"Зависимость метрики от глубины дерева\")\n",
        "plt.xlabel(\"max_depths\")   \n",
        "plt.ylabel(\"cross validation score\")\n",
        "plt.show()"
      ],
      "execution_count": null,
      "outputs": [
        {
          "output_type": "display_data",
          "data": {
            "image/png": "[encoded data removed]",
            "text/plain": [
              "<Figure size 432x288 with 1 Axes>"
            ]
          },
          "metadata": {
            "tags": [],
            "needs_background": "light"
          }
        }
      ]
    },
    {
      "cell_type": "markdown",
      "metadata": {
        "id": "uyNjKHblEOb8"
      },
      "source": [
        ""
      ]
    },
    {
      "cell_type": "markdown",
      "metadata": {
        "id": "ui-aTd0JFkMF"
      },
      "source": [
        "## RandomizedSearchCV"
      ]
    },
    {
      "cell_type": "markdown",
      "metadata": {
        "id": "6-Hf6fZUGFo8"
      },
      "source": [
        "Посмотрим на перебор гиперпараметров с помощью RandomizedSearchCV:"
      ]
    },
    {
      "cell_type": "code",
      "metadata": {
        "id": "swqv-JVf1cl0"
      },
      "source": [
        "from sklearn.model_selection import RandomizedSearchCV\n",
        "\n",
        "parameters = {'criterion':('gini', 'entropy'),\n",
        "              'max_depth':[3, 5], \n",
        "              'n_estimators':[10, 100],\n",
        "              }\n",
        "\n",
        "model = RandomForestClassifier(random_state = 42,\n",
        "                               criterion = 'entropy')\n",
        "\n",
        "rnd_search = RandomizedSearchCV(model, parameters, cv = 3, scoring = 'roc_auc')\n",
        "\n",
        "rnd_search.fit(x_train, y)"
      ],
      "execution_count": null,
      "outputs": []
    },
    {
      "cell_type": "code",
      "metadata": {
        "id": "p4Yp9UfAr6mq",
        "outputId": "eeaf93e4-65e7-4ebd-db2f-20fd1afc52a7",
        "colab": {
          "base_uri": "https://localhost:8080/"
        }
      },
      "source": [
        "print(rnd_search.best_score_)\n",
        "print(rnd_search.best_params_) "
      ],
      "execution_count": null,
      "outputs": [
        {
          "output_type": "stream",
          "text": [
            "0.7201560667093467\n",
            "{'n_estimators': 100, 'max_depth': 5, 'criterion': 'entropy'}\n"
          ],
          "name": "stdout"
        }
      ]
    },
    {
      "cell_type": "markdown",
      "metadata": {
        "id": "XZbRLgMzr4hS"
      },
      "source": [
        "Учитывая результаты запустим более строгий GridSearchCV:"
      ]
    },
    {
      "cell_type": "markdown",
      "metadata": {
        "id": "iSw-sbmxEQms"
      },
      "source": [
        "## GridSearchCV"
      ]
    },
    {
      "cell_type": "code",
      "metadata": {
        "id": "lzvcnXw01clo"
      },
      "source": [
        "from sklearn.model_selection import GridSearchCV\n",
        "from sklearn.ensemble import RandomForestClassifier\n",
        "from sklearn.model_selection import KFold\n",
        "from sklearn.metrics import roc_auc_score, accuracy_score, roc_curve, auc\n",
        "\n",
        "parameters = {'criterion':('gini', 'entropy'),\n",
        "              'max_depth':[15, 20], \n",
        "              'n_estimators':[300, 500],\n",
        "              }\n",
        "\n",
        "model = RandomForestClassifier(random_state = 42,\n",
        "                               n_jobs = -1)\n",
        "\n",
        "clf = GridSearchCV(model, parameters, cv = 3, scoring = 'roc_auc')\n",
        "\n",
        "clf.fit(x_train, y)"
      ],
      "execution_count": null,
      "outputs": []
    },
    {
      "cell_type": "markdown",
      "metadata": {
        "id": "vzU7EjuhpUid"
      },
      "source": [
        "(считалось более часа)"
      ]
    },
    {
      "cell_type": "code",
      "metadata": {
        "id": "tRu3IRIt1clw",
        "outputId": "22daac1c-e6a7-4973-83d2-38c3cc7ce150",
        "colab": {
          "base_uri": "https://localhost:8080/"
        }
      },
      "source": [
        "#выведем лучшую среднюю метрику на кросс-валидации и лучшие параметры\n",
        "print(clf.best_score_)\n",
        "print(clf.best_params_) "
      ],
      "execution_count": null,
      "outputs": [
        {
          "output_type": "stream",
          "text": [
            "0.7400145928173124\n",
            "{'criterion': 'entropy', 'max_depth': 20, 'n_estimators': 500}\n"
          ],
          "name": "stdout"
        }
      ]
    },
    {
      "cell_type": "code",
      "metadata": {
        "id": "EOKl68XW1cmY"
      },
      "source": [
        "def kfold7(X, y):\n",
        "    \n",
        "    model = RandomForestClassifier(random_state=42,\n",
        "                               # опции, относящиеся к отдельным деревьям такаие же, как в tree.DecisionTreeClassifier\n",
        "                               # число деревьев в лесу\n",
        "                               n_estimators=500,\n",
        "                               # функция для impurity ('gini' или 'entropy')\n",
        "                               criterion='entropy',\n",
        "                               max_depth=20)\n",
        "        \n",
        "    kf = KFold(n_splits = 3, random_state = 42, shuffle = True)\n",
        "    roc_auc_list = []\n",
        "        \n",
        "    for i, (train_index, test_index) in enumerate(kf.split(X)):\n",
        "            \n",
        "        X_train, X_test = X.iloc[train_index], X.iloc[test_index]\n",
        "        y_train, y_test = y[train_index], y[test_index]\n",
        "        \n",
        "        model.fit(X_train, y_train)\n",
        "        pred_prob = model.predict_proba(X_test)\n",
        "        predict = pred_prob[:,1]\n",
        "        roc_auc = roc_auc_score(y_test, predict)\n",
        "        print(i, roc_auc)\n",
        "        roc_auc_list.append(roc_auc)\n",
        "            \n",
        "        \n",
        "    return np.mean(roc_auc_list)"
      ],
      "execution_count": null,
      "outputs": []
    },
    {
      "cell_type": "code",
      "metadata": {
        "id": "CGRpUMvKARUk",
        "outputId": "2fc3b2e0-bcee-4486-e4f6-b6788c86b2b9",
        "colab": {
          "base_uri": "https://localhost:8080/"
        }
      },
      "source": [
        "kfold7(x_train, y)"
      ],
      "execution_count": null,
      "outputs": [
        {
          "output_type": "stream",
          "text": [
            "0 0.7421337147393537\n",
            "1 0.7382916091278787\n",
            "2 0.741111903549363\n"
          ],
          "name": "stdout"
        },
        {
          "output_type": "execute_result",
          "data": {
            "text/plain": [
              "0.7405124091388652"
            ]
          },
          "metadata": {
            "tags": []
          },
          "execution_count": 59
        }
      ]
    },
    {
      "cell_type": "markdown",
      "metadata": {
        "id": "m4iO7T2-uXIj"
      },
      "source": [
        "Построим случайный лес на \"наилучших\" гиперпараметрах, найденных с помощью GridSearchCV: \n",
        "\n",
        "criterion - entropy,\n",
        "max_depth = 20,\n",
        "n_estimators = 500\n",
        "\n",
        "---\n",
        "\n"
      ]
    },
    {
      "cell_type": "code",
      "metadata": {
        "id": "LzH7MjfWsLOT"
      },
      "source": [
        "model = RandomForestClassifier(random_state=42,\n",
        "                               # опции, относящиеся к отдельным деревьям такаие же, как в tree.DecisionTreeClassifier\n",
        "                               # число деревьев в лесу\n",
        "                               n_estimators=500,\n",
        "                               # функция для impurity ('gini' или 'entropy')\n",
        "                               criterion='entropy',\n",
        "                               max_depth=20)\n",
        "\n",
        "model.fit(x_train, y)"
      ],
      "execution_count": null,
      "outputs": []
    },
    {
      "cell_type": "code",
      "metadata": {
        "id": "xa-ZJ_x11cl8"
      },
      "source": [
        "#записываем прогноз\n",
        "pred_prob = model.predict_proba(x_test)\n",
        "prediction = pred_prob[:,1]\n",
        "\n",
        "sample_submission['TARGET'] = prediction\n",
        "sample_submission.head()\n",
        "\n",
        "#кладем результат в файл:\n",
        "sample_submission.to_csv('/content/drive/My Drive/Credit data/sub3.csv', index = None)"
      ],
      "execution_count": null,
      "outputs": []
    },
    {
      "cell_type": "markdown",
      "metadata": {
        "id": "rlXFtRwXyiz2"
      },
      "source": [
        "## Public Score: 0.72641\n",
        "## Private Score: 0.72614"
      ]
    },
    {
      "cell_type": "markdown",
      "metadata": {
        "id": "0_VhFygiFqEj"
      },
      "source": [
        "## Feature importances"
      ]
    },
    {
      "cell_type": "markdown",
      "metadata": {
        "id": "xd698QFrvC5v"
      },
      "source": [
        "Оценим значимость переменных для построения леса:"
      ]
    },
    {
      "cell_type": "code",
      "metadata": {
        "id": "goWUDrif1cmB",
        "outputId": "6746ca84-b5ef-4bcf-b7bc-e34f8c0d2ba5",
        "colab": {
          "base_uri": "https://localhost:8080/",
          "height": 257
        }
      },
      "source": [
        "imp = pd.DataFrame({'feature': df.columns,\n",
        "                    'importance': model.feature_importances_}).sort_values('importance', ascending=False)\n",
        "imp.head(7)"
      ],
      "execution_count": null,
      "outputs": [
        {
          "output_type": "execute_result",
          "data": {
            "text/html": [
              "<div>\n",
              "<style scoped>\n",
              "    .dataframe tbody tr th:only-of-type {\n",
              "        vertical-align: middle;\n",
              "    }\n",
              "\n",
              "    .dataframe tbody tr th {\n",
              "        vertical-align: top;\n",
              "    }\n",
              "\n",
              "    .dataframe thead th {\n",
              "        text-align: right;\n",
              "    }\n",
              "</style>\n",
              "<table border=\"1\" class=\"dataframe\">\n",
              "  <thead>\n",
              "    <tr style=\"text-align: right;\">\n",
              "      <th></th>\n",
              "      <th>feature</th>\n",
              "      <th>importance</th>\n",
              "    </tr>\n",
              "  </thead>\n",
              "  <tbody>\n",
              "    <tr>\n",
              "      <th>26</th>\n",
              "      <td>EXT_SOURCE_2</td>\n",
              "      <td>0.086810</td>\n",
              "    </tr>\n",
              "    <tr>\n",
              "      <th>27</th>\n",
              "      <td>EXT_SOURCE_3</td>\n",
              "      <td>0.085160</td>\n",
              "    </tr>\n",
              "    <tr>\n",
              "      <th>6</th>\n",
              "      <td>DAYS_BIRTH</td>\n",
              "      <td>0.041699</td>\n",
              "    </tr>\n",
              "    <tr>\n",
              "      <th>7</th>\n",
              "      <td>DAYS_EMPLOYED</td>\n",
              "      <td>0.039995</td>\n",
              "    </tr>\n",
              "    <tr>\n",
              "      <th>9</th>\n",
              "      <td>DAYS_ID_PUBLISH</td>\n",
              "      <td>0.037842</td>\n",
              "    </tr>\n",
              "    <tr>\n",
              "      <th>39</th>\n",
              "      <td>DAYS_LAST_PHONE_CHANGE</td>\n",
              "      <td>0.035903</td>\n",
              "    </tr>\n",
              "    <tr>\n",
              "      <th>8</th>\n",
              "      <td>DAYS_REGISTRATION</td>\n",
              "      <td>0.035894</td>\n",
              "    </tr>\n",
              "  </tbody>\n",
              "</table>\n",
              "</div>"
            ],
            "text/plain": [
              "                   feature  importance\n",
              "26            EXT_SOURCE_2    0.086810\n",
              "27            EXT_SOURCE_3    0.085160\n",
              "6               DAYS_BIRTH    0.041699\n",
              "7            DAYS_EMPLOYED    0.039995\n",
              "9          DAYS_ID_PUBLISH    0.037842\n",
              "39  DAYS_LAST_PHONE_CHANGE    0.035903\n",
              "8        DAYS_REGISTRATION    0.035894"
            ]
          },
          "metadata": {
            "tags": []
          },
          "execution_count": 52
        }
      ]
    },
    {
      "cell_type": "code",
      "metadata": {
        "id": "XMmPl5lnDFgO",
        "outputId": "4cb5afa5-ea58-49d3-f875-8bbaf2dfea2a",
        "colab": {
          "base_uri": "https://localhost:8080/",
          "height": 321
        }
      },
      "source": [
        "plt.figure(figsize=(10, 5))\n",
        "plt.bar(imp['feature'][:5], imp['importance'][:5]);"
      ],
      "execution_count": null,
      "outputs": [
        {
          "output_type": "display_data",
          "data": {
            "image/png": "[encoded data removed]",
            "text/plain": [
              "<Figure size 720x360 with 1 Axes>"
            ]
          },
          "metadata": {
            "tags": [],
            "needs_background": "light"
          }
        }
      ]
    },
    {
      "cell_type": "markdown",
      "metadata": {
        "id": "xdd7S5jUy_yA"
      },
      "source": [
        "Таким образом топ-5 переменных, которые внесли наибольший вклад в построение модели: \n",
        "\n",
        "EXT_SOURCE_2,\n",
        "EXT_SOURCE_3,\n",
        "DAYS_BIRTH,\n",
        "DAYS_EMPLOYED,\n",
        "DAYS_ID_PUBLISH\t"
      ]
    },
    {
      "cell_type": "markdown",
      "metadata": {
        "id": "zsi7-bJizTAS"
      },
      "source": [
        "1. Построим модель только на этих признаках:"
      ]
    },
    {
      "cell_type": "code",
      "metadata": {
        "id": "7ggy98L-00tA"
      },
      "source": [
        "x_new = x_train[['EXT_SOURCE_2','EXT_SOURCE_3','DAYS_BIRTH','DAYS_EMPLOYED','DAYS_ID_PUBLISH'\t]].copy()\n",
        "x_new.tail()"
      ],
      "execution_count": null,
      "outputs": []
    },
    {
      "cell_type": "code",
      "metadata": {
        "id": "jYBm94Fr1cme",
        "outputId": "cb75a614-82da-4c5c-8aaf-2ccd03595f9c",
        "colab": {
          "base_uri": "https://localhost:8080/"
        }
      },
      "source": [
        "kfold7(x_new, y)"
      ],
      "execution_count": null,
      "outputs": [
        {
          "output_type": "stream",
          "text": [
            "0 0.7037271749121664\n",
            "1 0.7054851895617442\n",
            "2 0.7018855350166724\n"
          ],
          "name": "stdout"
        },
        {
          "output_type": "execute_result",
          "data": {
            "text/plain": [
              "0.7036992998301944"
            ]
          },
          "metadata": {
            "tags": []
          },
          "execution_count": 56
        }
      ]
    },
    {
      "cell_type": "markdown",
      "metadata": {
        "id": "r3DJBOMQ3As-"
      },
      "source": [
        "Таким образом, среднее значение метрики на кросс-валидации упало примерно на 0.04, но в целом можно сказать, что мы получили адекватную модель, а также более интерпретируемую."
      ]
    },
    {
      "cell_type": "markdown",
      "metadata": {
        "id": "UoHdY1ro2gqz"
      },
      "source": [
        "2. Построим модель на всех признаках, исключая самый важный:"
      ]
    },
    {
      "cell_type": "code",
      "metadata": {
        "id": "ghxY9v2R1cmo"
      },
      "source": [
        "x_new_2 = x_train.drop(['EXT_SOURCE_2'], axis=1)\n",
        "#x_new_2.tail()"
      ],
      "execution_count": null,
      "outputs": []
    },
    {
      "cell_type": "code",
      "metadata": {
        "id": "fQhmptUw1cm0",
        "outputId": "1a52b7e0-054a-419d-906a-3548c877b023",
        "colab": {
          "base_uri": "https://localhost:8080/"
        }
      },
      "source": [
        "kfold7(x_new_2, y)"
      ],
      "execution_count": null,
      "outputs": [
        {
          "output_type": "stream",
          "text": [
            "0 0.7213221407487004\n",
            "1 0.7203273559893775\n",
            "2 0.7221465898936317\n"
          ],
          "name": "stdout"
        },
        {
          "output_type": "execute_result",
          "data": {
            "text/plain": [
              "0.7212653622105698"
            ]
          },
          "metadata": {
            "tags": []
          },
          "execution_count": 58
        }
      ]
    },
    {
      "cell_type": "markdown",
      "metadata": {
        "id": "X9IpRhD8FULp"
      },
      "source": [
        "Убрав самый значимый признак для построения модели, мы потеряли около 0.02 сотых качества. Модель также адекватно прогнозирует, \n",
        "но отмечаем, что переменная EXT_SOURCE_2 вносит наибольший вклад в качество предсказания."
      ]
    },
    {
      "cell_type": "markdown",
      "metadata": {
        "id": "sPnhBF6M4WyH"
      },
      "source": [
        "# Best Decision with random forest"
      ]
    },
    {
      "cell_type": "markdown",
      "metadata": {
        "id": "MjXHWi2O5HDc"
      },
      "source": [
        "Попробуем добиться наилучшего скора с помощью случайного леса. Будем использовать LabelEncoder, чтобы избежать слишком большого числа переменных и уменьшить время работы алгоритма."
      ]
    },
    {
      "cell_type": "code",
      "metadata": {
        "id": "Skyvebkk1cnM",
        "outputId": "4cf5beec-6491-4ae9-c0ac-9d48b808adeb",
        "colab": {
          "base_uri": "https://localhost:8080/",
          "height": 50
        }
      },
      "source": [
        "from sklearn import preprocessing\n",
        "\n",
        "df = train.append(test)\n",
        "\n",
        "le = preprocessing.LabelEncoder()\n",
        "le_count = 0\n",
        "\n",
        "for col in df:\n",
        "    if df[col].dtype == 'object':\n",
        "        le.fit(df[col])\n",
        "        df[col] = le.transform(df[col])\n",
        "        le_count += 1\n",
        "print ('{} variable are label encoded'.format(le_count))\n",
        "df.shape"
      ],
      "execution_count": null,
      "outputs": [
        {
          "output_type": "stream",
          "text": [
            "13 variable are label encoded\n"
          ],
          "name": "stdout"
        },
        {
          "output_type": "execute_result",
          "data": {
            "text/plain": [
              "(356255, 80)"
            ]
          },
          "metadata": {
            "tags": []
          },
          "execution_count": 16
        }
      ]
    },
    {
      "cell_type": "markdown",
      "metadata": {
        "id": "ilqoL83k1cnR"
      },
      "source": [
        "Увеличим количество переменных, добавив новые таблицы."
      ]
    },
    {
      "cell_type": "markdown",
      "metadata": {
        "id": "E2Mtnozn1cnR"
      },
      "source": [
        "### Bureau"
      ]
    },
    {
      "cell_type": "code",
      "metadata": {
        "id": "IxW_mWtW1cnS"
      },
      "source": [
        "bureau = pd.read_csv('/content/drive/My Drive/Credit data/bureau.csv', nrows = None)"
      ],
      "execution_count": null,
      "outputs": []
    },
    {
      "cell_type": "code",
      "metadata": {
        "id": "UFf0Q_Ie1cnV",
        "outputId": "84e947d1-d1c3-442b-cfde-5ab50479ae4a",
        "colab": {
          "base_uri": "https://localhost:8080/",
          "height": 100
        }
      },
      "source": [
        "#смотрим на пропуски\n",
        "missing_values = missing_values_table(bureau)\n",
        "\n",
        "#удалим столбцы с пропусками более 50%\n",
        "mis_val_table_ren_columns = missing_values.loc[missing_values['% of Total Values'] > 50]\n",
        "bureau = bureau.drop(mis_val_table_ren_columns.index, axis=1)\n",
        "\n",
        "#разбиваем переменные на 2 типа\n",
        "cat = []\n",
        "num = []\n",
        "\n",
        "for i in bureau.columns:\n",
        "    if bureau[i].dtype == 'object':\n",
        "        cat.append(i)\n",
        "    else:\n",
        "        num.append(i)\n",
        "\n",
        "print(\"Categorical: \" + str(len(cat)))\n",
        "print(\"Numerical: \" + str(len(num)))\n",
        "\n",
        "#заполняем пропуски\n",
        "most_freq_cat_nans = [] \n",
        "for i in cat:\n",
        "    most_freq_cat_nans.append(bureau[i].value_counts().idxmax())\n",
        "    \n",
        "for i in range(len(cat)):\n",
        "    bureau[cat[i]].fillna(most_freq_cat_nans[i], inplace=True)\n",
        "    \n",
        "for i in num:\n",
        "    bureau[i].fillna(bureau[i].median(), inplace=True)\n",
        "\n",
        "print(bureau.isna().sum().max()) "
      ],
      "execution_count": null,
      "outputs": [
        {
          "output_type": "stream",
          "text": [
            "Your selected dataframe has 17 columns.\n",
            "There are 7 columns that have missing values.\n",
            "Categorical: 3\n",
            "Numerical: 12\n",
            "0\n"
          ],
          "name": "stdout"
        }
      ]
    },
    {
      "cell_type": "code",
      "metadata": {
        "id": "75j_9L761cnY"
      },
      "source": [
        "le_count = 0\n",
        "\n",
        "for col in bureau:\n",
        "    if bureau[col].dtype == 'object':\n",
        "        le.fit(bureau[col])\n",
        "        bureau[col] = le.transform(bureau[col])\n",
        "        le_count += 1\n",
        "print ('{} variable are label encoded'.format(le_count))\n",
        "\n",
        "bureau = bureau.groupby('SK_ID_CURR', as_index = False).mean()\n",
        "bureau.tail()"
      ],
      "execution_count": null,
      "outputs": []
    },
    {
      "cell_type": "code",
      "metadata": {
        "id": "WPUxJyNy1cnb",
        "outputId": "aab6a30b-bca8-4e78-fb70-9063428caa46",
        "colab": {
          "base_uri": "https://localhost:8080/",
          "height": 33
        }
      },
      "source": [
        "df = df.merge(bureau, how='left', on='SK_ID_CURR')\n",
        "del bureau\n",
        "print(df.shape)"
      ],
      "execution_count": null,
      "outputs": [
        {
          "output_type": "stream",
          "text": [
            "(356255, 94)\n"
          ],
          "name": "stdout"
        }
      ]
    },
    {
      "cell_type": "markdown",
      "metadata": {
        "id": "-R5IFwXz1cne"
      },
      "source": [
        "### POS_CASH_balance"
      ]
    },
    {
      "cell_type": "code",
      "metadata": {
        "id": "QjCRActk1cnf"
      },
      "source": [
        "pos = pd.read_csv('/content/drive/My Drive/Credit data/POS_CASH_balance.csv', nrows = None)"
      ],
      "execution_count": null,
      "outputs": []
    },
    {
      "cell_type": "code",
      "metadata": {
        "id": "j3eNP_tv1cnh",
        "outputId": "f4002356-0165-42eb-bff8-4c5d89281a21",
        "colab": {
          "base_uri": "https://localhost:8080/",
          "height": 100
        }
      },
      "source": [
        "#смотрим на пропуски\n",
        "missing_values = missing_values_table(pos)\n",
        "\n",
        "#удалим столбцы с пропусками более 50%\n",
        "mis_val_table_ren_columns = missing_values.loc[missing_values['% of Total Values'] > 50]\n",
        "pos = pos.drop(mis_val_table_ren_columns.index, axis=1)\n",
        "\n",
        "#разбиваем переменные на 2 типа\n",
        "cat = []\n",
        "num = []\n",
        "\n",
        "for i in pos.columns:\n",
        "    if pos[i].dtype == 'object':\n",
        "        cat.append(i)\n",
        "    else:\n",
        "        num.append(i)\n",
        "\n",
        "print(\"Categorical: \" + str(len(cat)))\n",
        "print(\"Numerical: \" + str(len(num)))\n",
        "\n",
        "#заполняем пропуски\n",
        "most_freq_cat_nans = [] \n",
        "for i in cat:\n",
        "    most_freq_cat_nans.append(pos[i].value_counts().idxmax())\n",
        "    \n",
        "for i in range(len(cat)):\n",
        "    pos[cat[i]].fillna(most_freq_cat_nans[i], inplace=True)\n",
        "    \n",
        "for i in num:\n",
        "    pos[i].fillna(pos[i].median(), inplace=True)\n",
        "\n",
        "print(pos.isna().sum().max()) "
      ],
      "execution_count": null,
      "outputs": [
        {
          "output_type": "stream",
          "text": [
            "Your selected dataframe has 8 columns.\n",
            "There are 2 columns that have missing values.\n",
            "Categorical: 1\n",
            "Numerical: 7\n",
            "0\n"
          ],
          "name": "stdout"
        }
      ]
    },
    {
      "cell_type": "code",
      "metadata": {
        "id": "9hRacidw1cnk",
        "outputId": "c335cf0f-1162-47c0-fc99-eca6f6f95806",
        "colab": {
          "base_uri": "https://localhost:8080/",
          "height": 33
        }
      },
      "source": [
        "le_count = 0\n",
        "\n",
        "for col in pos:\n",
        "    if pos[col].dtype == 'object':\n",
        "        le.fit(pos[col])\n",
        "        pos[col] = le.transform(pos[col])\n",
        "        le_count += 1\n",
        "print ('{} variable are label encoded'.format(le_count))\n",
        "\n",
        "pos = pos.groupby('SK_ID_CURR', as_index = False).mean()"
      ],
      "execution_count": null,
      "outputs": [
        {
          "output_type": "stream",
          "text": [
            "1 variable are label encoded\n"
          ],
          "name": "stdout"
        }
      ]
    },
    {
      "cell_type": "code",
      "metadata": {
        "id": "rD6BxsnK1cnr",
        "outputId": "a45a43b7-3dff-4dd2-eef5-0541b38c4932",
        "colab": {
          "base_uri": "https://localhost:8080/",
          "height": 33
        }
      },
      "source": [
        "df = df.merge(pos, how='left', on='SK_ID_CURR')\n",
        "del pos\n",
        "print(df.shape)"
      ],
      "execution_count": null,
      "outputs": [
        {
          "output_type": "stream",
          "text": [
            "(356255, 101)\n"
          ],
          "name": "stdout"
        }
      ]
    },
    {
      "cell_type": "markdown",
      "metadata": {
        "id": "knH3I82A1cnt"
      },
      "source": [
        "### Credit_card_balance"
      ]
    },
    {
      "cell_type": "code",
      "metadata": {
        "id": "VlDSdkhN1cnu"
      },
      "source": [
        "cc = pd.read_csv('/content/drive/My Drive/Credit data/credit_card_balance.csv', nrows = None)"
      ],
      "execution_count": null,
      "outputs": []
    },
    {
      "cell_type": "code",
      "metadata": {
        "id": "w1IgT8VR1cnz",
        "outputId": "f69a0aef-f66c-4af6-ccb4-6d5518e3f500",
        "colab": {
          "base_uri": "https://localhost:8080/",
          "height": 100
        }
      },
      "source": [
        "#смотрим на пропуски\n",
        "missing_values = missing_values_table(cc)\n",
        "\n",
        "#удалим столбцы с пропусками более 50%\n",
        "mis_val_table_ren_columns = missing_values.loc[missing_values['% of Total Values'] > 50]\n",
        "cc = cc.drop(mis_val_table_ren_columns.index, axis=1)\n",
        "\n",
        "#разбиваем переменные на 2 типа\n",
        "cat = []\n",
        "num = []\n",
        "\n",
        "for i in cc.columns:\n",
        "    if cc[i].dtype == 'object':\n",
        "        cat.append(i)\n",
        "    else:\n",
        "        num.append(i)\n",
        "\n",
        "print(\"Categorical: \" + str(len(cat)))\n",
        "print(\"Numerical: \" + str(len(num)))\n",
        "\n",
        "#заполняем пропуски\n",
        "most_freq_cat_nans = [] \n",
        "for i in cat:\n",
        "    most_freq_cat_nans.append(cc[i].value_counts().idxmax())\n",
        "    \n",
        "for i in range(len(cat)):\n",
        "    cc[cat[i]].fillna(most_freq_cat_nans[i], inplace=True)\n",
        "    \n",
        "for i in num:\n",
        "    cc[i].fillna(cc[i].median(), inplace=True)\n",
        "\n",
        "print(cc.isna().sum().max()) "
      ],
      "execution_count": null,
      "outputs": [
        {
          "output_type": "stream",
          "text": [
            "Your selected dataframe has 23 columns.\n",
            "There are 9 columns that have missing values.\n",
            "Categorical: 1\n",
            "Numerical: 22\n",
            "0\n"
          ],
          "name": "stdout"
        }
      ]
    },
    {
      "cell_type": "code",
      "metadata": {
        "id": "o15pXOsu1cn2",
        "outputId": "3ec7f603-1c23-4f7a-a342-3c261258d850",
        "colab": {
          "base_uri": "https://localhost:8080/",
          "height": 33
        }
      },
      "source": [
        "le_count = 0\n",
        "\n",
        "for col in cc:\n",
        "    if cc[col].dtype == 'object':\n",
        "        le.fit(cc[col])\n",
        "        cc[col] = le.transform(cc[col])\n",
        "        le_count += 1\n",
        "print ('{} variable are label encoded'.format(le_count))\n",
        "\n",
        "cc = cc.groupby('SK_ID_CURR', as_index = False).mean()"
      ],
      "execution_count": null,
      "outputs": [
        {
          "output_type": "stream",
          "text": [
            "1 variable are label encoded\n"
          ],
          "name": "stdout"
        }
      ]
    },
    {
      "cell_type": "code",
      "metadata": {
        "id": "x-5-hdzt1cn5",
        "outputId": "e878d44f-791c-41b9-bc00-9d1db5b3401d",
        "colab": {
          "base_uri": "https://localhost:8080/",
          "height": 33
        }
      },
      "source": [
        "df = df.merge(cc, how='left', on='SK_ID_CURR')\n",
        "del cc\n",
        "print(df.shape)"
      ],
      "execution_count": null,
      "outputs": [
        {
          "output_type": "stream",
          "text": [
            "(356255, 123)\n"
          ],
          "name": "stdout"
        }
      ]
    },
    {
      "cell_type": "markdown",
      "metadata": {
        "id": "Y8br3i_-8x1q"
      },
      "source": [
        "## Installments_payments"
      ]
    },
    {
      "cell_type": "code",
      "metadata": {
        "id": "_aLlAyG68mzT"
      },
      "source": [
        "ip = pd.read_csv('/content/drive/My Drive/Credit data/installments_payments.csv', nrows = None)"
      ],
      "execution_count": null,
      "outputs": []
    },
    {
      "cell_type": "code",
      "metadata": {
        "id": "1K4oEpDa8m5D",
        "outputId": "7c399671-1686-469a-fa7c-8716a07a8784",
        "colab": {
          "base_uri": "https://localhost:8080/",
          "height": 100
        }
      },
      "source": [
        "#смотрим на пропуски\n",
        "missing_values = missing_values_table(ip)\n",
        "\n",
        "#удалим столбцы с пропусками более 50%\n",
        "mis_val_table_ren_columns = missing_values.loc[missing_values['% of Total Values'] > 50]\n",
        "ip = ip.drop(mis_val_table_ren_columns.index, axis=1)\n",
        "\n",
        "#разбиваем переменные на 2 типа\n",
        "cat = []\n",
        "num = []\n",
        "\n",
        "for i in ip.columns:\n",
        "    if ip[i].dtype == 'object':\n",
        "        cat.append(i)\n",
        "    else:\n",
        "        num.append(i)\n",
        "\n",
        "print(\"Categorical: \" + str(len(cat)))\n",
        "print(\"Numerical: \" + str(len(num)))\n",
        "\n",
        "#заполняем пропуски\n",
        "most_freq_cat_nans = [] \n",
        "for i in cat:\n",
        "    most_freq_cat_nans.append(ip[i].value_counts().idxmax())\n",
        "    \n",
        "for i in range(len(cat)):\n",
        "    ip[cat[i]].fillna(most_freq_cat_nans[i], inplace=True)\n",
        "    \n",
        "for i in num:\n",
        "    ip[i].fillna(ip[i].median(), inplace=True)\n",
        "\n",
        "print(ip.isna().sum().max()) "
      ],
      "execution_count": null,
      "outputs": [
        {
          "output_type": "stream",
          "text": [
            "Your selected dataframe has 8 columns.\n",
            "There are 2 columns that have missing values.\n",
            "Categorical: 0\n",
            "Numerical: 8\n",
            "0\n"
          ],
          "name": "stdout"
        }
      ]
    },
    {
      "cell_type": "code",
      "metadata": {
        "id": "X2b-Q76J8nJG",
        "outputId": "6097b38f-8235-4821-9a3a-e461aa02f546",
        "colab": {
          "base_uri": "https://localhost:8080/",
          "height": 33
        }
      },
      "source": [
        "le_count = 0\n",
        "\n",
        "for col in ip:\n",
        "    if ip[col].dtype == 'object':\n",
        "        le.fit(ip[col])\n",
        "        ip[col] = le.transform(ip[col])\n",
        "        le_count += 1\n",
        "print ('{} variable are label encoded'.format(le_count))\n",
        "\n",
        "ip = ip.groupby('SK_ID_CURR', as_index = False).mean()"
      ],
      "execution_count": null,
      "outputs": [
        {
          "output_type": "stream",
          "text": [
            "0 variable are label encoded\n"
          ],
          "name": "stdout"
        }
      ]
    },
    {
      "cell_type": "code",
      "metadata": {
        "id": "kODdz07g8nQJ",
        "outputId": "090fc198-1733-4d0c-ca66-f230f0f39bc6",
        "colab": {
          "base_uri": "https://localhost:8080/",
          "height": 33
        }
      },
      "source": [
        "df = df.merge(ip, how='left', on='SK_ID_CURR')\n",
        "del ip\n",
        "print(df.shape)"
      ],
      "execution_count": null,
      "outputs": [
        {
          "output_type": "stream",
          "text": [
            "(356255, 130)\n"
          ],
          "name": "stdout"
        }
      ]
    },
    {
      "cell_type": "markdown",
      "metadata": {
        "id": "4GzjejAe1cn7"
      },
      "source": [
        "Удалим пропуски в общей таблице и столбец SK_ID_CURR:"
      ]
    },
    {
      "cell_type": "code",
      "metadata": {
        "id": "885qdQfj1cn8"
      },
      "source": [
        "for i in df.columns:\n",
        "    df[i] = df[i].fillna(df[i].mean())\n",
        "\n",
        "print(df.isna().sum().max()) \n",
        "df = df.drop(['SK_ID_CURR'], axis=1)\n",
        "df.head()"
      ],
      "execution_count": null,
      "outputs": []
    },
    {
      "cell_type": "code",
      "metadata": {
        "id": "t1XNLLT-1cn_"
      },
      "source": [
        "x_train = df[:307511]\n",
        "x_test = df[307511:]"
      ],
      "execution_count": null,
      "outputs": []
    },
    {
      "cell_type": "code",
      "metadata": {
        "id": "-hSBmsghB8Mu",
        "outputId": "a4c68dca-61d6-40fa-d3b8-74eaed1328a1",
        "colab": {
          "base_uri": "https://localhost:8080/",
          "height": 83
        }
      },
      "source": [
        "#тестируем модель\n",
        "kfold7(x_train, y)"
      ],
      "execution_count": null,
      "outputs": [
        {
          "output_type": "stream",
          "text": [
            "0 0.7508197076674932\n",
            "1 0.7513449791960789\n",
            "2 0.7521830290167282\n"
          ],
          "name": "stdout"
        },
        {
          "output_type": "execute_result",
          "data": {
            "text/plain": [
              "0.7514492386267667"
            ]
          },
          "metadata": {
            "tags": []
          },
          "execution_count": 52
        }
      ]
    },
    {
      "cell_type": "code",
      "metadata": {
        "id": "_MF0lImdB8I3"
      },
      "source": [
        "#обучаем окончательную модель\n",
        "model = RandomForestClassifier(random_state=42,\n",
        "                               # опции, относящиеся к отдельным деревьям такаие же, как в tree.DecisionTreeClassifier\n",
        "                               # число деревьев в лесу\n",
        "                               n_estimators=500,\n",
        "                               # функция для impurity ('gini' или 'entropy')\n",
        "                               criterion='entropy',\n",
        "                               max_depth=20)\n",
        "\n",
        "model.fit(x_train, y)"
      ],
      "execution_count": null,
      "outputs": []
    },
    {
      "cell_type": "code",
      "metadata": {
        "id": "yNqO0d37B8K5"
      },
      "source": [
        "#записываем прогноз\n",
        "pred_prob = model.predict_proba(x_test)\n",
        "prediction = pred_prob[:,1]\n",
        "\n",
        "sample_submission['TARGET'] = prediction\n",
        "sample_submission.head()\n",
        "\n",
        "#кладем результат в файл:\n",
        "sample_submission.to_csv('/content/drive/My Drive/Credit data/sub4.csv', index = None)"
      ],
      "execution_count": null,
      "outputs": []
    },
    {
      "cell_type": "markdown",
      "metadata": {
        "id": "WhjTLECe1cpU"
      },
      "source": [
        "## Public score: 0.73194\n",
        "## Private score: 0.74019\n",
        "\n"
      ]
    },
    {
      "cell_type": "markdown",
      "metadata": {
        "id": "fUgfD6SDdOJQ"
      },
      "source": [
        "Попробуем применить алгоритмы бустинга:"
      ]
    },
    {
      "cell_type": "markdown",
      "metadata": {
        "id": "f5cbkwS3WpW7"
      },
      "source": [
        "# Gradient Boosting"
      ]
    },
    {
      "cell_type": "code",
      "metadata": {
        "id": "1uQYEGQmYjAX"
      },
      "source": [
        "from sklearn.ensemble import GradientBoostingClassifier\n",
        "\n",
        "def kfold8(X, y):\n",
        "    \n",
        "    model = GradientBoostingClassifier(random_state=42,\n",
        "                                learning_rate = 0.05,\n",
        "                                loss = 'deviance',\n",
        "                                n_estimators = 200,\n",
        "                                max_depth = 3\n",
        "                                 )\n",
        "        \n",
        "    kf = KFold(n_splits = 3, random_state = 42, shuffle = True)\n",
        "    roc_auc_list = []\n",
        "        \n",
        "    for i, (train_index, test_index) in enumerate(kf.split(X)):\n",
        "            \n",
        "        X_train, X_test = X.iloc[train_index], X.iloc[test_index]\n",
        "        y_train, y_test = y[train_index], y[test_index]\n",
        "        \n",
        "        model.fit(X_train, y_train)\n",
        "        pred_prob = model.predict_proba(X_test)\n",
        "        predict = pred_prob[:,1]\n",
        "        roc_auc = roc_auc_score(y_test, predict)\n",
        "        print(i, roc_auc)\n",
        "        roc_auc_list.append(roc_auc)\n",
        "            \n",
        "        \n",
        "    return np.mean(roc_auc_list)"
      ],
      "execution_count": null,
      "outputs": []
    },
    {
      "cell_type": "code",
      "metadata": {
        "id": "E-oK5PBcY2s7",
        "outputId": "120cc1a5-601c-4140-9f82-34ce7aa28dd6",
        "colab": {
          "base_uri": "https://localhost:8080/",
          "height": 83
        }
      },
      "source": [
        "kfold8(x_train, y)"
      ],
      "execution_count": null,
      "outputs": [
        {
          "output_type": "stream",
          "text": [
            "0 0.7580814544174705\n",
            "1 0.757964863722555\n",
            "2 0.758370413322828\n"
          ],
          "name": "stdout"
        },
        {
          "output_type": "execute_result",
          "data": {
            "text/plain": [
              "0.7581389104876178"
            ]
          },
          "metadata": {
            "tags": []
          },
          "execution_count": 38
        }
      ]
    },
    {
      "cell_type": "markdown",
      "metadata": {
        "id": "LHYjCWK0v5bV"
      },
      "source": [
        "# XGBoost"
      ]
    },
    {
      "cell_type": "code",
      "metadata": {
        "id": "8ZYXf-QusfDy"
      },
      "source": [
        "from xgboost import XGBClassifier\n",
        "\n",
        "def kfold9(X, y):\n",
        "    \n",
        "    model = XGBClassifier(seed=42,\n",
        "                      n_estimators=1000,\n",
        "                      max_depth=3,\n",
        "                      learning_rate=0.08)\n",
        "        \n",
        "    kf = KFold(n_splits = 3, random_state = 42, shuffle = True)\n",
        "    roc_auc_list = []\n",
        "        \n",
        "    for i, (train_index, test_index) in enumerate(kf.split(X)):\n",
        "            \n",
        "        X_train, X_test = X.iloc[train_index], X.iloc[test_index]\n",
        "        y_train, y_test = y[train_index], y[test_index]\n",
        "        \n",
        "        model.fit(X_train, y_train)\n",
        "        pred_prob = model.predict_proba(X_test)\n",
        "        predict = pred_prob[:,1]\n",
        "        roc_auc = roc_auc_score(y_test, predict)\n",
        "        print(i, roc_auc)\n",
        "        roc_auc_list.append(roc_auc)\n",
        "            \n",
        "        \n",
        "    return np.mean(roc_auc_list)"
      ],
      "execution_count": null,
      "outputs": []
    },
    {
      "cell_type": "code",
      "metadata": {
        "id": "zokv3nJz_2x8",
        "outputId": "82d5aa6d-532d-4d84-8a9c-65b8b677f8dc",
        "colab": {
          "base_uri": "https://localhost:8080/",
          "height": 83
        }
      },
      "source": [
        "kfold9(x_train, y)"
      ],
      "execution_count": null,
      "outputs": [
        {
          "output_type": "stream",
          "text": [
            "0 0.7702775186471015\n",
            "1 0.7687823336781393\n",
            "2 0.7691138877608447\n"
          ],
          "name": "stdout"
        },
        {
          "output_type": "execute_result",
          "data": {
            "text/plain": [
              "0.7693912466953617"
            ]
          },
          "metadata": {
            "tags": []
          },
          "execution_count": 57
        }
      ]
    },
    {
      "cell_type": "code",
      "metadata": {
        "id": "J0SywEDi04iD"
      },
      "source": [
        "xb = XGBClassifier(seed=42,\n",
        "                      n_estimators=1000,\n",
        "                      max_depth=3,\n",
        "                      learning_rate=0.1)\n",
        "\n",
        "xb.fit(x_train, y)"
      ],
      "execution_count": null,
      "outputs": []
    },
    {
      "cell_type": "code",
      "metadata": {
        "id": "WOKR4tZzTZ3O"
      },
      "source": [
        "#записываем прогноз\n",
        "pred_prob = xb.predict_proba(x_test)\n",
        "prediction = pred_prob[:,1]\n",
        "\n",
        "sample_submission['TARGET'] = prediction\n",
        "sample_submission.head()\n",
        "\n",
        "#кладем результат в файл:\n",
        "sample_submission.to_csv('/content/drive/My Drive/Credit data/sub5.csv', index = None)"
      ],
      "execution_count": null,
      "outputs": []
    },
    {
      "cell_type": "markdown",
      "metadata": {
        "id": "2gynxtG4eBFR"
      },
      "source": [
        "Отмечаем заметный рост метрик:"
      ]
    },
    {
      "cell_type": "markdown",
      "metadata": {
        "id": "TZlxgEzswJiC"
      },
      "source": [
        "## Public score: 0.76506\n",
        "## Private score: 0.76257"
      ]
    },
    {
      "cell_type": "code",
      "metadata": {
        "id": "IpSPzisswZzz"
      },
      "source": [
        ""
      ],
      "execution_count": null,
      "outputs": []
    }
  ]
}