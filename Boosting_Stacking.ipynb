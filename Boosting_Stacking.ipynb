{
  "nbformat": 4,
  "nbformat_minor": 0,
  "metadata": {
    "kernelspec": {
      "display_name": "Python 3",
      "language": "python",
      "name": "python3"
    },
    "language_info": {
      "codemirror_mode": {
        "name": "ipython",
        "version": 3
      },
      "file_extension": ".py",
      "mimetype": "text/x-python",
      "name": "python",
      "nbconvert_exporter": "python",
      "pygments_lexer": "ipython3",
      "version": "3.7.7"
    },
    "colab": {
      "name": "Boosting_Stacking.ipynb",
      "provenance": [],
      "collapsed_sections": [],
      "toc_visible": true
    }
  },
  "cells": [
    {
      "cell_type": "markdown",
      "metadata": {
        "id": "DRj3ha8J1cfI"
      },
      "source": [
        "# Home Credit Default Risk"
      ]
    },
    {
      "cell_type": "code",
      "metadata": {
        "id": "pJU8tiju1cfR"
      },
      "source": [
        "import numpy as np\n",
        "import pandas as pd\n",
        "import matplotlib.pyplot as plt\n",
        "from sklearn.model_selection import train_test_split\n",
        "pd.options.display.max_columns = 200\n",
        "plt.style.use('ggplot')"
      ],
      "execution_count": null,
      "outputs": []
    },
    {
      "cell_type": "code",
      "metadata": {
        "id": "873z0ctu2r63"
      },
      "source": [
        "from google.colab import drive\n",
        "drive.mount('/content/drive')\n",
        "!ls \"/content/drive/My Drive/Credit data\""
      ],
      "execution_count": null,
      "outputs": []
    },
    {
      "cell_type": "code",
      "metadata": {
        "id": "7BjbwN561cfy"
      },
      "source": [
        "#загружаем тренировочную, тестовую выборки, а также пример предсказаний\n",
        "train = pd.read_csv('/content/drive/My Drive/Credit data/application_train.csv')\n",
        "test = pd.read_csv('/content/drive/My Drive/Credit data/application_test.csv')\n",
        "sample_submission = pd.read_csv(\"/content/drive/My Drive/Credit data/sample_submission.csv\")"
      ],
      "execution_count": null,
      "outputs": []
    },
    {
      "cell_type": "code",
      "metadata": {
        "id": "SdIITSKY1cf_",
        "outputId": "f8b8f266-a779-47b0-8f3f-6248347ca839",
        "colab": {
          "base_uri": "https://localhost:8080/",
          "height": 33
        }
      },
      "source": [
        "train.shape"
      ],
      "execution_count": null,
      "outputs": [
        {
          "output_type": "execute_result",
          "data": {
            "text/plain": [
              "(307511, 122)"
            ]
          },
          "metadata": {
            "tags": []
          },
          "execution_count": 4
        }
      ]
    },
    {
      "cell_type": "code",
      "metadata": {
        "id": "k28EfzYI1cgM"
      },
      "source": [
        "#посмотрим на данные\n",
        "train.describe()"
      ],
      "execution_count": null,
      "outputs": []
    },
    {
      "cell_type": "markdown",
      "metadata": {
        "id": "FNoWd71l1cgn"
      },
      "source": [
        "# Data Cleaning and Preparation"
      ]
    },
    {
      "cell_type": "code",
      "metadata": {
        "id": "XgqaDC2l1cgs",
        "outputId": "c8d8a704-99ca-438d-fb5c-5e036baec6a4",
        "colab": {
          "base_uri": "https://localhost:8080/",
          "height": 282
        }
      },
      "source": [
        "#заметим выбросы:\n",
        "fig, (ax1, ax2) = plt.subplots(\n",
        "    nrows=1, ncols=2,\n",
        "    figsize=(8, 4)\n",
        ")\n",
        "\n",
        "ax1.hist(train['DAYS_EMPLOYED']);\n",
        "ax1.set_xlabel('Days Employment');\n",
        "\n",
        "ax2.hist(test['DAYS_EMPLOYED']);\n",
        "ax2.set_xlabel('Days Employment');"
      ],
      "execution_count": null,
      "outputs": [
        {
          "output_type": "display_data",
          "data": {
            "image/png": "[encoded data removed]",
            "text/plain": [
              "<Figure size 576x288 with 2 Axes>"
            ]
          },
          "metadata": {
            "tags": [],
            "needs_background": "light"
          }
        }
      ]
    },
    {
      "cell_type": "code",
      "metadata": {
        "id": "Bo9bibZT1cg-",
        "outputId": "d61b97fa-3f99-440f-acde-fadc661c7cce",
        "colab": {
          "base_uri": "https://localhost:8080/",
          "height": 352
        }
      },
      "source": [
        "# заменим их на пропуски\n",
        "train['DAYS_EMPLOYED'].replace({365243: np.nan}, inplace = True)\n",
        "test['DAYS_EMPLOYED'].replace({365243: np.nan}, inplace = True)\n",
        "\n",
        "fig, (ax1, ax2) = plt.subplots(\n",
        "    nrows=1, ncols=2,\n",
        "    figsize=(8, 4)\n",
        ")\n",
        "\n",
        "ax1.hist(train['DAYS_EMPLOYED']);\n",
        "ax1.set_xlabel('Days Employment');\n",
        "\n",
        "ax2.hist(test['DAYS_EMPLOYED']);\n",
        "ax2.set_xlabel('Days Employment');"
      ],
      "execution_count": null,
      "outputs": [
        {
          "output_type": "stream",
          "text": [
            "/usr/local/lib/python3.6/dist-packages/numpy/lib/histograms.py:839: RuntimeWarning: invalid value encountered in greater_equal\n",
            "  keep = (tmp_a >= first_edge)\n",
            "/usr/local/lib/python3.6/dist-packages/numpy/lib/histograms.py:840: RuntimeWarning: invalid value encountered in less_equal\n",
            "  keep &= (tmp_a <= last_edge)\n"
          ],
          "name": "stderr"
        },
        {
          "output_type": "display_data",
          "data": {
            "image/png": "[encoded data removed]",
            "text/plain": [
              "<Figure size 576x288 with 2 Axes>"
            ]
          },
          "metadata": {
            "tags": [],
            "needs_background": "light"
          }
        }
      ]
    },
    {
      "cell_type": "code",
      "metadata": {
        "id": "4Qpm49B81chU"
      },
      "source": [
        "#напишем функцию для проверки пропущенных значений\n",
        "def missing_values_table(df):\n",
        "        # Total missing values\n",
        "        mis_val = df.isnull().sum()\n",
        "        \n",
        "        # Percentage of missing values\n",
        "        mis_val_percent = 100 * df.isnull().sum() / len(df)\n",
        "        \n",
        "        # Make a table with the results\n",
        "        mis_val_table = pd.concat([mis_val, mis_val_percent], axis=1)\n",
        "        \n",
        "        # Rename the columns\n",
        "        mis_val_table_ren_columns = mis_val_table.rename(\n",
        "        columns = {0 : 'Missing Values', 1 : '% of Total Values'})\n",
        "        \n",
        "        # Sort the table by percentage of missing descending\n",
        "        mis_val_table_ren_columns = mis_val_table_ren_columns[\n",
        "            mis_val_table_ren_columns.iloc[:,1] != 0].sort_values(\n",
        "        '% of Total Values', ascending=False).round(1)\n",
        "        \n",
        "        # Print some summary information\n",
        "        print (\"Your selected dataframe has \" + str(df.shape[1]) + \" columns.\\n\"      \n",
        "            \"There are \" + str(mis_val_table_ren_columns.shape[0]) +\n",
        "              \" columns that have missing values.\")\n",
        "        \n",
        "        # Return the dataframe with missing information\n",
        "        return mis_val_table_ren_columns"
      ],
      "execution_count": null,
      "outputs": []
    },
    {
      "cell_type": "code",
      "metadata": {
        "id": "_sLng6xt1chb",
        "outputId": "4fb5b1f2-b277-4494-aedc-37f06f5285e7",
        "colab": {
          "base_uri": "https://localhost:8080/",
          "height": 381
        }
      },
      "source": [
        "missing_values = missing_values_table(train)\n",
        "missing_values.head(10)"
      ],
      "execution_count": null,
      "outputs": [
        {
          "output_type": "stream",
          "text": [
            "Your selected dataframe has 122 columns.\n",
            "There are 68 columns that have missing values.\n"
          ],
          "name": "stdout"
        },
        {
          "output_type": "execute_result",
          "data": {
            "text/html": [
              "<div>\n",
              "<style scoped>\n",
              "    .dataframe tbody tr th:only-of-type {\n",
              "        vertical-align: middle;\n",
              "    }\n",
              "\n",
              "    .dataframe tbody tr th {\n",
              "        vertical-align: top;\n",
              "    }\n",
              "\n",
              "    .dataframe thead th {\n",
              "        text-align: right;\n",
              "    }\n",
              "</style>\n",
              "<table border=\"1\" class=\"dataframe\">\n",
              "  <thead>\n",
              "    <tr style=\"text-align: right;\">\n",
              "      <th></th>\n",
              "      <th>Missing Values</th>\n",
              "      <th>% of Total Values</th>\n",
              "    </tr>\n",
              "  </thead>\n",
              "  <tbody>\n",
              "    <tr>\n",
              "      <th>COMMONAREA_MODE</th>\n",
              "      <td>214865</td>\n",
              "      <td>69.9</td>\n",
              "    </tr>\n",
              "    <tr>\n",
              "      <th>COMMONAREA_AVG</th>\n",
              "      <td>214865</td>\n",
              "      <td>69.9</td>\n",
              "    </tr>\n",
              "    <tr>\n",
              "      <th>COMMONAREA_MEDI</th>\n",
              "      <td>214865</td>\n",
              "      <td>69.9</td>\n",
              "    </tr>\n",
              "    <tr>\n",
              "      <th>NONLIVINGAPARTMENTS_MEDI</th>\n",
              "      <td>213514</td>\n",
              "      <td>69.4</td>\n",
              "    </tr>\n",
              "    <tr>\n",
              "      <th>NONLIVINGAPARTMENTS_MODE</th>\n",
              "      <td>213514</td>\n",
              "      <td>69.4</td>\n",
              "    </tr>\n",
              "    <tr>\n",
              "      <th>NONLIVINGAPARTMENTS_AVG</th>\n",
              "      <td>213514</td>\n",
              "      <td>69.4</td>\n",
              "    </tr>\n",
              "    <tr>\n",
              "      <th>FONDKAPREMONT_MODE</th>\n",
              "      <td>210295</td>\n",
              "      <td>68.4</td>\n",
              "    </tr>\n",
              "    <tr>\n",
              "      <th>LIVINGAPARTMENTS_MEDI</th>\n",
              "      <td>210199</td>\n",
              "      <td>68.4</td>\n",
              "    </tr>\n",
              "    <tr>\n",
              "      <th>LIVINGAPARTMENTS_AVG</th>\n",
              "      <td>210199</td>\n",
              "      <td>68.4</td>\n",
              "    </tr>\n",
              "    <tr>\n",
              "      <th>LIVINGAPARTMENTS_MODE</th>\n",
              "      <td>210199</td>\n",
              "      <td>68.4</td>\n",
              "    </tr>\n",
              "  </tbody>\n",
              "</table>\n",
              "</div>"
            ],
            "text/plain": [
              "                          Missing Values  % of Total Values\n",
              "COMMONAREA_MODE                   214865               69.9\n",
              "COMMONAREA_AVG                    214865               69.9\n",
              "COMMONAREA_MEDI                   214865               69.9\n",
              "NONLIVINGAPARTMENTS_MEDI          213514               69.4\n",
              "NONLIVINGAPARTMENTS_MODE          213514               69.4\n",
              "NONLIVINGAPARTMENTS_AVG           213514               69.4\n",
              "FONDKAPREMONT_MODE                210295               68.4\n",
              "LIVINGAPARTMENTS_MEDI             210199               68.4\n",
              "LIVINGAPARTMENTS_AVG              210199               68.4\n",
              "LIVINGAPARTMENTS_MODE             210199               68.4"
            ]
          },
          "metadata": {
            "tags": []
          },
          "execution_count": 7
        }
      ]
    },
    {
      "cell_type": "code",
      "metadata": {
        "id": "n-r_9ULS1ch6",
        "outputId": "7178be1b-6767-4383-f252-f302def3db7f",
        "colab": {
          "base_uri": "https://localhost:8080/",
          "height": 33
        }
      },
      "source": [
        "#удалим столбцы с пропусками более 50%\n",
        "mis_val_table_ren_columns = missing_values.loc[missing_values['% of Total Values'] > 50]\n",
        "train = train.drop(mis_val_table_ren_columns.index, axis=1)\n",
        "train.shape"
      ],
      "execution_count": null,
      "outputs": [
        {
          "output_type": "execute_result",
          "data": {
            "text/plain": [
              "(307511, 81)"
            ]
          },
          "metadata": {
            "tags": []
          },
          "execution_count": 8
        }
      ]
    },
    {
      "cell_type": "code",
      "metadata": {
        "id": "SibeFXma1ciF",
        "outputId": "e562b0d1-740d-44df-d78b-a69edb2f9c4f",
        "colab": {
          "base_uri": "https://localhost:8080/",
          "height": 33
        }
      },
      "source": [
        "#в качестве зависимой переменной берем TARGET:\n",
        "y = train['TARGET']\n",
        "\n",
        "#удаляем ID и TАRGET из тренировочной выборки:\n",
        "train = train.drop(['TARGET'], axis=1)\n",
        "train.shape"
      ],
      "execution_count": null,
      "outputs": [
        {
          "output_type": "execute_result",
          "data": {
            "text/plain": [
              "(307511, 80)"
            ]
          },
          "metadata": {
            "tags": []
          },
          "execution_count": 9
        }
      ]
    },
    {
      "cell_type": "code",
      "metadata": {
        "id": "r38_e16l1ciO",
        "outputId": "cdf82205-4725-451b-ce3e-b7877d25471b",
        "colab": {
          "base_uri": "https://localhost:8080/",
          "height": 50
        }
      },
      "source": [
        "#разделяем категориальные и числовые переменные\n",
        "cat = []\n",
        "num = []\n",
        "\n",
        "for i in train.columns:\n",
        "    if train[i].dtype == 'object':\n",
        "        cat.append(i)\n",
        "    else:\n",
        "        num.append(i)\n",
        "\n",
        "print(\"Categorical: \" + str(len(cat)))\n",
        "print(\"Numerical: \" + str(len(num)))"
      ],
      "execution_count": null,
      "outputs": [
        {
          "output_type": "stream",
          "text": [
            "Categorical: 13\n",
            "Numerical: 67\n"
          ],
          "name": "stdout"
        }
      ]
    },
    {
      "cell_type": "code",
      "metadata": {
        "id": "RCQXH4jh1cia"
      },
      "source": [
        "#создаем список самых частых значений для категориальных переменных\n",
        "most_freq_cat_nans = []\n",
        "for i in cat:\n",
        "    most_freq_cat_nans.append(train[i].value_counts().idxmax())"
      ],
      "execution_count": null,
      "outputs": []
    },
    {
      "cell_type": "code",
      "metadata": {
        "id": "YBV3WJnh1ciz",
        "outputId": "45de04db-fc40-44e5-bb82-6ffb7ddcee44",
        "colab": {
          "base_uri": "https://localhost:8080/",
          "height": 33
        }
      },
      "source": [
        "#заменяем пропуски самыми частыми значениями в категориальных переменных и медианой в числовых\n",
        "for i in range(len(cat)):\n",
        "    train[cat[i]].fillna(most_freq_cat_nans[i], inplace=True)\n",
        "    \n",
        "for i in num:\n",
        "    train[i].fillna(train[i].median(), inplace=True)\n",
        "\n",
        "print(train.isna().sum().max())"
      ],
      "execution_count": null,
      "outputs": [
        {
          "output_type": "stream",
          "text": [
            "0\n"
          ],
          "name": "stdout"
        }
      ]
    },
    {
      "cell_type": "code",
      "metadata": {
        "id": "d4xaaoqm1cjA",
        "outputId": "9286a2a7-fc23-4eec-e849-589ba7501d22",
        "colab": {
          "base_uri": "https://localhost:8080/",
          "height": 50
        }
      },
      "source": [
        "#те же действия для тестовой выборки:\n",
        "test = test.drop(mis_val_table_ren_columns.index, axis=1)\n",
        "#test = test.drop(['SK_ID_CURR'], axis=1)\n",
        "\n",
        "cat = []\n",
        "num = []\n",
        "\n",
        "for i in test.columns:\n",
        "    if test[i].dtype == 'object':\n",
        "        cat.append(i)\n",
        "    else:\n",
        "        num.append(i)\n",
        "\n",
        "print(len(cat), len(num))\n",
        "\n",
        "most_freq_cat_nans = [] \n",
        "for i in cat:\n",
        "    most_freq_cat_nans.append(test[i].value_counts().idxmax())\n",
        "    \n",
        "for i in range(len(cat)):\n",
        "    test[cat[i]].fillna(most_freq_cat_nans[i], inplace=True)\n",
        "    \n",
        "for i in num:\n",
        "    test[i].fillna(test[i].median(), inplace=True)\n",
        "\n",
        "print(test.isna().sum().max()) "
      ],
      "execution_count": null,
      "outputs": [
        {
          "output_type": "stream",
          "text": [
            "13 67\n",
            "0\n"
          ],
          "name": "stdout"
        }
      ]
    },
    {
      "cell_type": "code",
      "metadata": {
        "id": "WrT_-eBf1cjN",
        "outputId": "40993cb7-38d0-43de-9395-8dc17fbd6c13",
        "colab": {
          "base_uri": "https://localhost:8080/",
          "height": 301
        }
      },
      "source": [
        "#объединим тестовую и тренировочную выборки\n",
        "df = train.append(test)\n",
        "df.drop(['SK_ID_CURR'], axis = 1, inplace = True)\n",
        "df.tail()"
      ],
      "execution_count": null,
      "outputs": [
        {
          "output_type": "execute_result",
          "data": {
            "text/html": [
              "<div>\n",
              "<style scoped>\n",
              "    .dataframe tbody tr th:only-of-type {\n",
              "        vertical-align: middle;\n",
              "    }\n",
              "\n",
              "    .dataframe tbody tr th {\n",
              "        vertical-align: top;\n",
              "    }\n",
              "\n",
              "    .dataframe thead th {\n",
              "        text-align: right;\n",
              "    }\n",
              "</style>\n",
              "<table border=\"1\" class=\"dataframe\">\n",
              "  <thead>\n",
              "    <tr style=\"text-align: right;\">\n",
              "      <th></th>\n",
              "      <th>NAME_CONTRACT_TYPE</th>\n",
              "      <th>CODE_GENDER</th>\n",
              "      <th>FLAG_OWN_CAR</th>\n",
              "      <th>FLAG_OWN_REALTY</th>\n",
              "      <th>CNT_CHILDREN</th>\n",
              "      <th>AMT_INCOME_TOTAL</th>\n",
              "      <th>AMT_CREDIT</th>\n",
              "      <th>AMT_ANNUITY</th>\n",
              "      <th>AMT_GOODS_PRICE</th>\n",
              "      <th>NAME_TYPE_SUITE</th>\n",
              "      <th>NAME_INCOME_TYPE</th>\n",
              "      <th>NAME_EDUCATION_TYPE</th>\n",
              "      <th>NAME_FAMILY_STATUS</th>\n",
              "      <th>NAME_HOUSING_TYPE</th>\n",
              "      <th>REGION_POPULATION_RELATIVE</th>\n",
              "      <th>DAYS_BIRTH</th>\n",
              "      <th>DAYS_EMPLOYED</th>\n",
              "      <th>DAYS_REGISTRATION</th>\n",
              "      <th>DAYS_ID_PUBLISH</th>\n",
              "      <th>FLAG_MOBIL</th>\n",
              "      <th>FLAG_EMP_PHONE</th>\n",
              "      <th>FLAG_WORK_PHONE</th>\n",
              "      <th>FLAG_CONT_MOBILE</th>\n",
              "      <th>FLAG_PHONE</th>\n",
              "      <th>FLAG_EMAIL</th>\n",
              "      <th>OCCUPATION_TYPE</th>\n",
              "      <th>CNT_FAM_MEMBERS</th>\n",
              "      <th>REGION_RATING_CLIENT</th>\n",
              "      <th>REGION_RATING_CLIENT_W_CITY</th>\n",
              "      <th>WEEKDAY_APPR_PROCESS_START</th>\n",
              "      <th>HOUR_APPR_PROCESS_START</th>\n",
              "      <th>REG_REGION_NOT_LIVE_REGION</th>\n",
              "      <th>REG_REGION_NOT_WORK_REGION</th>\n",
              "      <th>LIVE_REGION_NOT_WORK_REGION</th>\n",
              "      <th>REG_CITY_NOT_LIVE_CITY</th>\n",
              "      <th>REG_CITY_NOT_WORK_CITY</th>\n",
              "      <th>LIVE_CITY_NOT_WORK_CITY</th>\n",
              "      <th>ORGANIZATION_TYPE</th>\n",
              "      <th>EXT_SOURCE_2</th>\n",
              "      <th>EXT_SOURCE_3</th>\n",
              "      <th>YEARS_BEGINEXPLUATATION_AVG</th>\n",
              "      <th>FLOORSMAX_AVG</th>\n",
              "      <th>YEARS_BEGINEXPLUATATION_MODE</th>\n",
              "      <th>FLOORSMAX_MODE</th>\n",
              "      <th>YEARS_BEGINEXPLUATATION_MEDI</th>\n",
              "      <th>FLOORSMAX_MEDI</th>\n",
              "      <th>TOTALAREA_MODE</th>\n",
              "      <th>EMERGENCYSTATE_MODE</th>\n",
              "      <th>OBS_30_CNT_SOCIAL_CIRCLE</th>\n",
              "      <th>DEF_30_CNT_SOCIAL_CIRCLE</th>\n",
              "      <th>OBS_60_CNT_SOCIAL_CIRCLE</th>\n",
              "      <th>DEF_60_CNT_SOCIAL_CIRCLE</th>\n",
              "      <th>DAYS_LAST_PHONE_CHANGE</th>\n",
              "      <th>FLAG_DOCUMENT_2</th>\n",
              "      <th>FLAG_DOCUMENT_3</th>\n",
              "      <th>FLAG_DOCUMENT_4</th>\n",
              "      <th>FLAG_DOCUMENT_5</th>\n",
              "      <th>FLAG_DOCUMENT_6</th>\n",
              "      <th>FLAG_DOCUMENT_7</th>\n",
              "      <th>FLAG_DOCUMENT_8</th>\n",
              "      <th>FLAG_DOCUMENT_9</th>\n",
              "      <th>FLAG_DOCUMENT_10</th>\n",
              "      <th>FLAG_DOCUMENT_11</th>\n",
              "      <th>FLAG_DOCUMENT_12</th>\n",
              "      <th>FLAG_DOCUMENT_13</th>\n",
              "      <th>FLAG_DOCUMENT_14</th>\n",
              "      <th>FLAG_DOCUMENT_15</th>\n",
              "      <th>FLAG_DOCUMENT_16</th>\n",
              "      <th>FLAG_DOCUMENT_17</th>\n",
              "      <th>FLAG_DOCUMENT_18</th>\n",
              "      <th>FLAG_DOCUMENT_19</th>\n",
              "      <th>FLAG_DOCUMENT_20</th>\n",
              "      <th>FLAG_DOCUMENT_21</th>\n",
              "      <th>AMT_REQ_CREDIT_BUREAU_HOUR</th>\n",
              "      <th>AMT_REQ_CREDIT_BUREAU_DAY</th>\n",
              "      <th>AMT_REQ_CREDIT_BUREAU_WEEK</th>\n",
              "      <th>AMT_REQ_CREDIT_BUREAU_MON</th>\n",
              "      <th>AMT_REQ_CREDIT_BUREAU_QRT</th>\n",
              "      <th>AMT_REQ_CREDIT_BUREAU_YEAR</th>\n",
              "    </tr>\n",
              "  </thead>\n",
              "  <tbody>\n",
              "    <tr>\n",
              "      <th>48739</th>\n",
              "      <td>Cash loans</td>\n",
              "      <td>F</td>\n",
              "      <td>N</td>\n",
              "      <td>Y</td>\n",
              "      <td>0</td>\n",
              "      <td>121500.0</td>\n",
              "      <td>412560.0</td>\n",
              "      <td>17473.5</td>\n",
              "      <td>270000.0</td>\n",
              "      <td>Unaccompanied</td>\n",
              "      <td>Working</td>\n",
              "      <td>Secondary / secondary special</td>\n",
              "      <td>Widow</td>\n",
              "      <td>House / apartment</td>\n",
              "      <td>0.002042</td>\n",
              "      <td>-19970</td>\n",
              "      <td>-5169.0</td>\n",
              "      <td>-9094.0</td>\n",
              "      <td>-3399</td>\n",
              "      <td>1</td>\n",
              "      <td>1</td>\n",
              "      <td>1</td>\n",
              "      <td>1</td>\n",
              "      <td>1</td>\n",
              "      <td>0</td>\n",
              "      <td>Laborers</td>\n",
              "      <td>1.0</td>\n",
              "      <td>3</td>\n",
              "      <td>3</td>\n",
              "      <td>WEDNESDAY</td>\n",
              "      <td>16</td>\n",
              "      <td>0</td>\n",
              "      <td>0</td>\n",
              "      <td>0</td>\n",
              "      <td>0</td>\n",
              "      <td>0</td>\n",
              "      <td>0</td>\n",
              "      <td>Other</td>\n",
              "      <td>0.648575</td>\n",
              "      <td>0.643026</td>\n",
              "      <td>0.9816</td>\n",
              "      <td>0.1667</td>\n",
              "      <td>0.9816</td>\n",
              "      <td>0.1667</td>\n",
              "      <td>0.9816</td>\n",
              "      <td>0.1667</td>\n",
              "      <td>0.0707</td>\n",
              "      <td>No</td>\n",
              "      <td>1.0</td>\n",
              "      <td>0.0</td>\n",
              "      <td>1.0</td>\n",
              "      <td>0.0</td>\n",
              "      <td>-684.0</td>\n",
              "      <td>0</td>\n",
              "      <td>0</td>\n",
              "      <td>0</td>\n",
              "      <td>1</td>\n",
              "      <td>0</td>\n",
              "      <td>0</td>\n",
              "      <td>0</td>\n",
              "      <td>0</td>\n",
              "      <td>0</td>\n",
              "      <td>0</td>\n",
              "      <td>0</td>\n",
              "      <td>0</td>\n",
              "      <td>0</td>\n",
              "      <td>0</td>\n",
              "      <td>0</td>\n",
              "      <td>0</td>\n",
              "      <td>0</td>\n",
              "      <td>0</td>\n",
              "      <td>0</td>\n",
              "      <td>0</td>\n",
              "      <td>0.0</td>\n",
              "      <td>0.0</td>\n",
              "      <td>0.0</td>\n",
              "      <td>0.0</td>\n",
              "      <td>0.0</td>\n",
              "      <td>1.0</td>\n",
              "    </tr>\n",
              "    <tr>\n",
              "      <th>48740</th>\n",
              "      <td>Cash loans</td>\n",
              "      <td>F</td>\n",
              "      <td>N</td>\n",
              "      <td>N</td>\n",
              "      <td>2</td>\n",
              "      <td>157500.0</td>\n",
              "      <td>622413.0</td>\n",
              "      <td>31909.5</td>\n",
              "      <td>495000.0</td>\n",
              "      <td>Unaccompanied</td>\n",
              "      <td>Commercial associate</td>\n",
              "      <td>Secondary / secondary special</td>\n",
              "      <td>Married</td>\n",
              "      <td>House / apartment</td>\n",
              "      <td>0.035792</td>\n",
              "      <td>-11186</td>\n",
              "      <td>-1149.0</td>\n",
              "      <td>-3015.0</td>\n",
              "      <td>-3003</td>\n",
              "      <td>1</td>\n",
              "      <td>1</td>\n",
              "      <td>0</td>\n",
              "      <td>1</td>\n",
              "      <td>0</td>\n",
              "      <td>0</td>\n",
              "      <td>Sales staff</td>\n",
              "      <td>4.0</td>\n",
              "      <td>2</td>\n",
              "      <td>2</td>\n",
              "      <td>MONDAY</td>\n",
              "      <td>11</td>\n",
              "      <td>0</td>\n",
              "      <td>0</td>\n",
              "      <td>0</td>\n",
              "      <td>0</td>\n",
              "      <td>1</td>\n",
              "      <td>1</td>\n",
              "      <td>Trade: type 7</td>\n",
              "      <td>0.684596</td>\n",
              "      <td>0.519097</td>\n",
              "      <td>0.9816</td>\n",
              "      <td>0.1667</td>\n",
              "      <td>0.9816</td>\n",
              "      <td>0.1667</td>\n",
              "      <td>0.9816</td>\n",
              "      <td>0.1667</td>\n",
              "      <td>0.0707</td>\n",
              "      <td>No</td>\n",
              "      <td>2.0</td>\n",
              "      <td>0.0</td>\n",
              "      <td>2.0</td>\n",
              "      <td>0.0</td>\n",
              "      <td>0.0</td>\n",
              "      <td>0</td>\n",
              "      <td>1</td>\n",
              "      <td>0</td>\n",
              "      <td>0</td>\n",
              "      <td>0</td>\n",
              "      <td>0</td>\n",
              "      <td>0</td>\n",
              "      <td>0</td>\n",
              "      <td>0</td>\n",
              "      <td>0</td>\n",
              "      <td>0</td>\n",
              "      <td>0</td>\n",
              "      <td>0</td>\n",
              "      <td>0</td>\n",
              "      <td>0</td>\n",
              "      <td>0</td>\n",
              "      <td>0</td>\n",
              "      <td>0</td>\n",
              "      <td>0</td>\n",
              "      <td>0</td>\n",
              "      <td>0.0</td>\n",
              "      <td>0.0</td>\n",
              "      <td>0.0</td>\n",
              "      <td>0.0</td>\n",
              "      <td>0.0</td>\n",
              "      <td>2.0</td>\n",
              "    </tr>\n",
              "    <tr>\n",
              "      <th>48741</th>\n",
              "      <td>Cash loans</td>\n",
              "      <td>F</td>\n",
              "      <td>Y</td>\n",
              "      <td>Y</td>\n",
              "      <td>1</td>\n",
              "      <td>202500.0</td>\n",
              "      <td>315000.0</td>\n",
              "      <td>33205.5</td>\n",
              "      <td>315000.0</td>\n",
              "      <td>Unaccompanied</td>\n",
              "      <td>Commercial associate</td>\n",
              "      <td>Secondary / secondary special</td>\n",
              "      <td>Married</td>\n",
              "      <td>House / apartment</td>\n",
              "      <td>0.026392</td>\n",
              "      <td>-15922</td>\n",
              "      <td>-3037.0</td>\n",
              "      <td>-2681.0</td>\n",
              "      <td>-1504</td>\n",
              "      <td>1</td>\n",
              "      <td>1</td>\n",
              "      <td>0</td>\n",
              "      <td>1</td>\n",
              "      <td>1</td>\n",
              "      <td>0</td>\n",
              "      <td>Laborers</td>\n",
              "      <td>3.0</td>\n",
              "      <td>2</td>\n",
              "      <td>2</td>\n",
              "      <td>WEDNESDAY</td>\n",
              "      <td>12</td>\n",
              "      <td>0</td>\n",
              "      <td>0</td>\n",
              "      <td>0</td>\n",
              "      <td>0</td>\n",
              "      <td>0</td>\n",
              "      <td>0</td>\n",
              "      <td>Business Entity Type 3</td>\n",
              "      <td>0.632770</td>\n",
              "      <td>0.283712</td>\n",
              "      <td>0.9955</td>\n",
              "      <td>0.3333</td>\n",
              "      <td>0.9955</td>\n",
              "      <td>0.3333</td>\n",
              "      <td>0.9955</td>\n",
              "      <td>0.3333</td>\n",
              "      <td>0.1663</td>\n",
              "      <td>No</td>\n",
              "      <td>0.0</td>\n",
              "      <td>0.0</td>\n",
              "      <td>0.0</td>\n",
              "      <td>0.0</td>\n",
              "      <td>-838.0</td>\n",
              "      <td>0</td>\n",
              "      <td>1</td>\n",
              "      <td>0</td>\n",
              "      <td>0</td>\n",
              "      <td>0</td>\n",
              "      <td>0</td>\n",
              "      <td>0</td>\n",
              "      <td>0</td>\n",
              "      <td>0</td>\n",
              "      <td>0</td>\n",
              "      <td>0</td>\n",
              "      <td>0</td>\n",
              "      <td>0</td>\n",
              "      <td>0</td>\n",
              "      <td>0</td>\n",
              "      <td>0</td>\n",
              "      <td>0</td>\n",
              "      <td>0</td>\n",
              "      <td>0</td>\n",
              "      <td>0</td>\n",
              "      <td>0.0</td>\n",
              "      <td>0.0</td>\n",
              "      <td>0.0</td>\n",
              "      <td>0.0</td>\n",
              "      <td>3.0</td>\n",
              "      <td>1.0</td>\n",
              "    </tr>\n",
              "    <tr>\n",
              "      <th>48742</th>\n",
              "      <td>Cash loans</td>\n",
              "      <td>M</td>\n",
              "      <td>N</td>\n",
              "      <td>N</td>\n",
              "      <td>0</td>\n",
              "      <td>225000.0</td>\n",
              "      <td>450000.0</td>\n",
              "      <td>25128.0</td>\n",
              "      <td>450000.0</td>\n",
              "      <td>Family</td>\n",
              "      <td>Commercial associate</td>\n",
              "      <td>Higher education</td>\n",
              "      <td>Married</td>\n",
              "      <td>House / apartment</td>\n",
              "      <td>0.018850</td>\n",
              "      <td>-13968</td>\n",
              "      <td>-2731.0</td>\n",
              "      <td>-1461.0</td>\n",
              "      <td>-1364</td>\n",
              "      <td>1</td>\n",
              "      <td>1</td>\n",
              "      <td>1</td>\n",
              "      <td>1</td>\n",
              "      <td>1</td>\n",
              "      <td>0</td>\n",
              "      <td>Managers</td>\n",
              "      <td>2.0</td>\n",
              "      <td>2</td>\n",
              "      <td>2</td>\n",
              "      <td>MONDAY</td>\n",
              "      <td>10</td>\n",
              "      <td>0</td>\n",
              "      <td>1</td>\n",
              "      <td>1</td>\n",
              "      <td>0</td>\n",
              "      <td>1</td>\n",
              "      <td>1</td>\n",
              "      <td>Self-employed</td>\n",
              "      <td>0.445701</td>\n",
              "      <td>0.595456</td>\n",
              "      <td>0.9896</td>\n",
              "      <td>0.6250</td>\n",
              "      <td>0.9896</td>\n",
              "      <td>0.6250</td>\n",
              "      <td>0.9896</td>\n",
              "      <td>0.6250</td>\n",
              "      <td>0.1974</td>\n",
              "      <td>No</td>\n",
              "      <td>0.0</td>\n",
              "      <td>0.0</td>\n",
              "      <td>0.0</td>\n",
              "      <td>0.0</td>\n",
              "      <td>-2308.0</td>\n",
              "      <td>0</td>\n",
              "      <td>1</td>\n",
              "      <td>0</td>\n",
              "      <td>0</td>\n",
              "      <td>0</td>\n",
              "      <td>0</td>\n",
              "      <td>0</td>\n",
              "      <td>0</td>\n",
              "      <td>0</td>\n",
              "      <td>0</td>\n",
              "      <td>0</td>\n",
              "      <td>0</td>\n",
              "      <td>0</td>\n",
              "      <td>0</td>\n",
              "      <td>0</td>\n",
              "      <td>0</td>\n",
              "      <td>0</td>\n",
              "      <td>0</td>\n",
              "      <td>0</td>\n",
              "      <td>0</td>\n",
              "      <td>0.0</td>\n",
              "      <td>0.0</td>\n",
              "      <td>0.0</td>\n",
              "      <td>0.0</td>\n",
              "      <td>0.0</td>\n",
              "      <td>2.0</td>\n",
              "    </tr>\n",
              "    <tr>\n",
              "      <th>48743</th>\n",
              "      <td>Cash loans</td>\n",
              "      <td>F</td>\n",
              "      <td>Y</td>\n",
              "      <td>N</td>\n",
              "      <td>0</td>\n",
              "      <td>135000.0</td>\n",
              "      <td>312768.0</td>\n",
              "      <td>24709.5</td>\n",
              "      <td>270000.0</td>\n",
              "      <td>Unaccompanied</td>\n",
              "      <td>Working</td>\n",
              "      <td>Secondary / secondary special</td>\n",
              "      <td>Married</td>\n",
              "      <td>House / apartment</td>\n",
              "      <td>0.006629</td>\n",
              "      <td>-13962</td>\n",
              "      <td>-633.0</td>\n",
              "      <td>-1072.0</td>\n",
              "      <td>-4220</td>\n",
              "      <td>1</td>\n",
              "      <td>1</td>\n",
              "      <td>1</td>\n",
              "      <td>1</td>\n",
              "      <td>0</td>\n",
              "      <td>0</td>\n",
              "      <td>Core staff</td>\n",
              "      <td>2.0</td>\n",
              "      <td>2</td>\n",
              "      <td>2</td>\n",
              "      <td>TUESDAY</td>\n",
              "      <td>14</td>\n",
              "      <td>0</td>\n",
              "      <td>0</td>\n",
              "      <td>0</td>\n",
              "      <td>0</td>\n",
              "      <td>0</td>\n",
              "      <td>0</td>\n",
              "      <td>Government</td>\n",
              "      <td>0.456541</td>\n",
              "      <td>0.272134</td>\n",
              "      <td>0.9816</td>\n",
              "      <td>0.1667</td>\n",
              "      <td>0.9816</td>\n",
              "      <td>0.1667</td>\n",
              "      <td>0.9816</td>\n",
              "      <td>0.1667</td>\n",
              "      <td>0.0707</td>\n",
              "      <td>No</td>\n",
              "      <td>0.0</td>\n",
              "      <td>0.0</td>\n",
              "      <td>0.0</td>\n",
              "      <td>0.0</td>\n",
              "      <td>-327.0</td>\n",
              "      <td>0</td>\n",
              "      <td>1</td>\n",
              "      <td>0</td>\n",
              "      <td>0</td>\n",
              "      <td>0</td>\n",
              "      <td>0</td>\n",
              "      <td>0</td>\n",
              "      <td>0</td>\n",
              "      <td>0</td>\n",
              "      <td>0</td>\n",
              "      <td>0</td>\n",
              "      <td>0</td>\n",
              "      <td>0</td>\n",
              "      <td>0</td>\n",
              "      <td>0</td>\n",
              "      <td>0</td>\n",
              "      <td>0</td>\n",
              "      <td>0</td>\n",
              "      <td>0</td>\n",
              "      <td>0</td>\n",
              "      <td>0.0</td>\n",
              "      <td>0.0</td>\n",
              "      <td>0.0</td>\n",
              "      <td>0.0</td>\n",
              "      <td>1.0</td>\n",
              "      <td>4.0</td>\n",
              "    </tr>\n",
              "  </tbody>\n",
              "</table>\n",
              "</div>"
            ],
            "text/plain": [
              "      NAME_CONTRACT_TYPE CODE_GENDER FLAG_OWN_CAR FLAG_OWN_REALTY  \\\n",
              "48739         Cash loans           F            N               Y   \n",
              "48740         Cash loans           F            N               N   \n",
              "48741         Cash loans           F            Y               Y   \n",
              "48742         Cash loans           M            N               N   \n",
              "48743         Cash loans           F            Y               N   \n",
              "\n",
              "       CNT_CHILDREN  AMT_INCOME_TOTAL  AMT_CREDIT  AMT_ANNUITY  \\\n",
              "48739             0          121500.0    412560.0      17473.5   \n",
              "48740             2          157500.0    622413.0      31909.5   \n",
              "48741             1          202500.0    315000.0      33205.5   \n",
              "48742             0          225000.0    450000.0      25128.0   \n",
              "48743             0          135000.0    312768.0      24709.5   \n",
              "\n",
              "       AMT_GOODS_PRICE NAME_TYPE_SUITE      NAME_INCOME_TYPE  \\\n",
              "48739         270000.0   Unaccompanied               Working   \n",
              "48740         495000.0   Unaccompanied  Commercial associate   \n",
              "48741         315000.0   Unaccompanied  Commercial associate   \n",
              "48742         450000.0          Family  Commercial associate   \n",
              "48743         270000.0   Unaccompanied               Working   \n",
              "\n",
              "                 NAME_EDUCATION_TYPE NAME_FAMILY_STATUS  NAME_HOUSING_TYPE  \\\n",
              "48739  Secondary / secondary special              Widow  House / apartment   \n",
              "48740  Secondary / secondary special            Married  House / apartment   \n",
              "48741  Secondary / secondary special            Married  House / apartment   \n",
              "48742               Higher education            Married  House / apartment   \n",
              "48743  Secondary / secondary special            Married  House / apartment   \n",
              "\n",
              "       REGION_POPULATION_RELATIVE  DAYS_BIRTH  DAYS_EMPLOYED  \\\n",
              "48739                    0.002042      -19970        -5169.0   \n",
              "48740                    0.035792      -11186        -1149.0   \n",
              "48741                    0.026392      -15922        -3037.0   \n",
              "48742                    0.018850      -13968        -2731.0   \n",
              "48743                    0.006629      -13962         -633.0   \n",
              "\n",
              "       DAYS_REGISTRATION  DAYS_ID_PUBLISH  FLAG_MOBIL  FLAG_EMP_PHONE  \\\n",
              "48739            -9094.0            -3399           1               1   \n",
              "48740            -3015.0            -3003           1               1   \n",
              "48741            -2681.0            -1504           1               1   \n",
              "48742            -1461.0            -1364           1               1   \n",
              "48743            -1072.0            -4220           1               1   \n",
              "\n",
              "       FLAG_WORK_PHONE  FLAG_CONT_MOBILE  FLAG_PHONE  FLAG_EMAIL  \\\n",
              "48739                1                 1           1           0   \n",
              "48740                0                 1           0           0   \n",
              "48741                0                 1           1           0   \n",
              "48742                1                 1           1           0   \n",
              "48743                1                 1           0           0   \n",
              "\n",
              "      OCCUPATION_TYPE  CNT_FAM_MEMBERS  REGION_RATING_CLIENT  \\\n",
              "48739        Laborers              1.0                     3   \n",
              "48740     Sales staff              4.0                     2   \n",
              "48741        Laborers              3.0                     2   \n",
              "48742        Managers              2.0                     2   \n",
              "48743      Core staff              2.0                     2   \n",
              "\n",
              "       REGION_RATING_CLIENT_W_CITY WEEKDAY_APPR_PROCESS_START  \\\n",
              "48739                            3                  WEDNESDAY   \n",
              "48740                            2                     MONDAY   \n",
              "48741                            2                  WEDNESDAY   \n",
              "48742                            2                     MONDAY   \n",
              "48743                            2                    TUESDAY   \n",
              "\n",
              "       HOUR_APPR_PROCESS_START  REG_REGION_NOT_LIVE_REGION  \\\n",
              "48739                       16                           0   \n",
              "48740                       11                           0   \n",
              "48741                       12                           0   \n",
              "48742                       10                           0   \n",
              "48743                       14                           0   \n",
              "\n",
              "       REG_REGION_NOT_WORK_REGION  LIVE_REGION_NOT_WORK_REGION  \\\n",
              "48739                           0                            0   \n",
              "48740                           0                            0   \n",
              "48741                           0                            0   \n",
              "48742                           1                            1   \n",
              "48743                           0                            0   \n",
              "\n",
              "       REG_CITY_NOT_LIVE_CITY  REG_CITY_NOT_WORK_CITY  \\\n",
              "48739                       0                       0   \n",
              "48740                       0                       1   \n",
              "48741                       0                       0   \n",
              "48742                       0                       1   \n",
              "48743                       0                       0   \n",
              "\n",
              "       LIVE_CITY_NOT_WORK_CITY       ORGANIZATION_TYPE  EXT_SOURCE_2  \\\n",
              "48739                        0                   Other      0.648575   \n",
              "48740                        1           Trade: type 7      0.684596   \n",
              "48741                        0  Business Entity Type 3      0.632770   \n",
              "48742                        1           Self-employed      0.445701   \n",
              "48743                        0              Government      0.456541   \n",
              "\n",
              "       EXT_SOURCE_3  YEARS_BEGINEXPLUATATION_AVG  FLOORSMAX_AVG  \\\n",
              "48739      0.643026                       0.9816         0.1667   \n",
              "48740      0.519097                       0.9816         0.1667   \n",
              "48741      0.283712                       0.9955         0.3333   \n",
              "48742      0.595456                       0.9896         0.6250   \n",
              "48743      0.272134                       0.9816         0.1667   \n",
              "\n",
              "       YEARS_BEGINEXPLUATATION_MODE  FLOORSMAX_MODE  \\\n",
              "48739                        0.9816          0.1667   \n",
              "48740                        0.9816          0.1667   \n",
              "48741                        0.9955          0.3333   \n",
              "48742                        0.9896          0.6250   \n",
              "48743                        0.9816          0.1667   \n",
              "\n",
              "       YEARS_BEGINEXPLUATATION_MEDI  FLOORSMAX_MEDI  TOTALAREA_MODE  \\\n",
              "48739                        0.9816          0.1667          0.0707   \n",
              "48740                        0.9816          0.1667          0.0707   \n",
              "48741                        0.9955          0.3333          0.1663   \n",
              "48742                        0.9896          0.6250          0.1974   \n",
              "48743                        0.9816          0.1667          0.0707   \n",
              "\n",
              "      EMERGENCYSTATE_MODE  OBS_30_CNT_SOCIAL_CIRCLE  DEF_30_CNT_SOCIAL_CIRCLE  \\\n",
              "48739                  No                       1.0                       0.0   \n",
              "48740                  No                       2.0                       0.0   \n",
              "48741                  No                       0.0                       0.0   \n",
              "48742                  No                       0.0                       0.0   \n",
              "48743                  No                       0.0                       0.0   \n",
              "\n",
              "       OBS_60_CNT_SOCIAL_CIRCLE  DEF_60_CNT_SOCIAL_CIRCLE  \\\n",
              "48739                       1.0                       0.0   \n",
              "48740                       2.0                       0.0   \n",
              "48741                       0.0                       0.0   \n",
              "48742                       0.0                       0.0   \n",
              "48743                       0.0                       0.0   \n",
              "\n",
              "       DAYS_LAST_PHONE_CHANGE  FLAG_DOCUMENT_2  FLAG_DOCUMENT_3  \\\n",
              "48739                  -684.0                0                0   \n",
              "48740                     0.0                0                1   \n",
              "48741                  -838.0                0                1   \n",
              "48742                 -2308.0                0                1   \n",
              "48743                  -327.0                0                1   \n",
              "\n",
              "       FLAG_DOCUMENT_4  FLAG_DOCUMENT_5  FLAG_DOCUMENT_6  FLAG_DOCUMENT_7  \\\n",
              "48739                0                1                0                0   \n",
              "48740                0                0                0                0   \n",
              "48741                0                0                0                0   \n",
              "48742                0                0                0                0   \n",
              "48743                0                0                0                0   \n",
              "\n",
              "       FLAG_DOCUMENT_8  FLAG_DOCUMENT_9  FLAG_DOCUMENT_10  FLAG_DOCUMENT_11  \\\n",
              "48739                0                0                 0                 0   \n",
              "48740                0                0                 0                 0   \n",
              "48741                0                0                 0                 0   \n",
              "48742                0                0                 0                 0   \n",
              "48743                0                0                 0                 0   \n",
              "\n",
              "       FLAG_DOCUMENT_12  FLAG_DOCUMENT_13  FLAG_DOCUMENT_14  FLAG_DOCUMENT_15  \\\n",
              "48739                 0                 0                 0                 0   \n",
              "48740                 0                 0                 0                 0   \n",
              "48741                 0                 0                 0                 0   \n",
              "48742                 0                 0                 0                 0   \n",
              "48743                 0                 0                 0                 0   \n",
              "\n",
              "       FLAG_DOCUMENT_16  FLAG_DOCUMENT_17  FLAG_DOCUMENT_18  FLAG_DOCUMENT_19  \\\n",
              "48739                 0                 0                 0                 0   \n",
              "48740                 0                 0                 0                 0   \n",
              "48741                 0                 0                 0                 0   \n",
              "48742                 0                 0                 0                 0   \n",
              "48743                 0                 0                 0                 0   \n",
              "\n",
              "       FLAG_DOCUMENT_20  FLAG_DOCUMENT_21  AMT_REQ_CREDIT_BUREAU_HOUR  \\\n",
              "48739                 0                 0                         0.0   \n",
              "48740                 0                 0                         0.0   \n",
              "48741                 0                 0                         0.0   \n",
              "48742                 0                 0                         0.0   \n",
              "48743                 0                 0                         0.0   \n",
              "\n",
              "       AMT_REQ_CREDIT_BUREAU_DAY  AMT_REQ_CREDIT_BUREAU_WEEK  \\\n",
              "48739                        0.0                         0.0   \n",
              "48740                        0.0                         0.0   \n",
              "48741                        0.0                         0.0   \n",
              "48742                        0.0                         0.0   \n",
              "48743                        0.0                         0.0   \n",
              "\n",
              "       AMT_REQ_CREDIT_BUREAU_MON  AMT_REQ_CREDIT_BUREAU_QRT  \\\n",
              "48739                        0.0                        0.0   \n",
              "48740                        0.0                        0.0   \n",
              "48741                        0.0                        3.0   \n",
              "48742                        0.0                        0.0   \n",
              "48743                        0.0                        1.0   \n",
              "\n",
              "       AMT_REQ_CREDIT_BUREAU_YEAR  \n",
              "48739                         1.0  \n",
              "48740                         2.0  \n",
              "48741                         1.0  \n",
              "48742                         2.0  \n",
              "48743                         4.0  "
            ]
          },
          "metadata": {
            "tags": []
          },
          "execution_count": 14
        }
      ]
    },
    {
      "cell_type": "markdown",
      "metadata": {
        "id": "pa9b9rLq1cjW"
      },
      "source": [
        "Закодируем все категориальные переменные с помощью One Hot Encoding "
      ]
    },
    {
      "cell_type": "code",
      "metadata": {
        "id": "Bj-Dp6eh1cjX"
      },
      "source": [
        "categorical_columns = [col for col in df.columns if df[col].dtype == 'object']\n",
        "df = pd.get_dummies(df, columns= categorical_columns, dummy_na= True)\n",
        "df.tail()"
      ],
      "execution_count": null,
      "outputs": []
    },
    {
      "cell_type": "code",
      "metadata": {
        "id": "fgr25trg1cjf"
      },
      "source": [
        "x_train = df[:307511]\n",
        "x_test = df[307511:]"
      ],
      "execution_count": null,
      "outputs": []
    },
    {
      "cell_type": "markdown",
      "metadata": {
        "id": "jhkVcNmK1ck6"
      },
      "source": [
        "# Boosting"
      ]
    },
    {
      "cell_type": "markdown",
      "metadata": {
        "id": "62L34V0YFFki"
      },
      "source": [
        "## n_estimators"
      ]
    },
    {
      "cell_type": "code",
      "metadata": {
        "id": "4U01z41M1ck6"
      },
      "source": [
        "#функция для оценки ошибки модели(XGBClassifier) с помощью кроссвалидации данных(k-fold):\n",
        "from xgboost import XGBClassifier\n",
        "from sklearn.model_selection import KFold\n",
        "from sklearn.metrics import roc_auc_score, accuracy_score, roc_curve, auc\n",
        "\n",
        "n_estimators = [10, 30, 50, 100, 500]\n",
        "\n",
        "def kfold(X, y):\n",
        "    \n",
        "    result = []\n",
        "    for estimators in n_estimators:\n",
        "        # Инициализируем модель\n",
        "        model = XGBClassifier(seed = 42,\n",
        "                              n_estimators = estimators,\n",
        "                              learning_rate = 0.08,\n",
        "                              max_depth = 3)\n",
        "        \n",
        "        kf = KFold(n_splits = 3, random_state = 42, shuffle = True)\n",
        "        roc_auc_list = []\n",
        "        \n",
        "        for i, (train_index, test_index) in enumerate(kf.split(X)):\n",
        "            \n",
        "            X_train, X_test = X.iloc[train_index], X.iloc[test_index]\n",
        "            y_train, y_test = y[train_index], y[test_index]\n",
        "        \n",
        "            model.fit(X_train, y_train)\n",
        "            pred_prob = model.predict_proba(X_test)\n",
        "            predict = pred_prob[:,1]\n",
        "            roc_auc = roc_auc_score(y_test, predict)\n",
        "            print(i, roc_auc)\n",
        "            roc_auc_list.append(roc_auc)\n",
        "            \n",
        "        result.append(np.mean(roc_auc_list))\n",
        "        \n",
        "    return result"
      ],
      "execution_count": null,
      "outputs": []
    },
    {
      "cell_type": "code",
      "metadata": {
        "id": "peBjg4pg1ck-",
        "outputId": "fe4fc99e-3827-40b7-c8f6-3bac660af18b",
        "colab": {
          "base_uri": "https://localhost:8080/",
          "height": 267
        }
      },
      "source": [
        "cross_val = kfold(x_train, y)"
      ],
      "execution_count": null,
      "outputs": [
        {
          "output_type": "stream",
          "text": [
            "0 0.7052060366615535\n",
            "1 0.7049333215354934\n",
            "2 0.7020975290932706\n",
            "0 0.7167811138918468\n",
            "1 0.7168278162274939\n",
            "2 0.7134636749823843\n",
            "0 0.7307393414398592\n",
            "1 0.7287367219103388\n",
            "2 0.7263891484248721\n",
            "0 0.744174982312349\n",
            "1 0.7420143686664114\n",
            "2 0.7418176361956489\n",
            "0 0.7537214557557959\n",
            "1 0.751950742118297\n",
            "2 0.7523085795082635\n"
          ],
          "name": "stdout"
        }
      ]
    },
    {
      "cell_type": "code",
      "metadata": {
        "id": "HJWF7K4R1clC",
        "outputId": "4e38874d-cd9d-41a7-c506-86bafaaa5a50",
        "colab": {
          "base_uri": "https://localhost:8080/",
          "height": 299
        }
      },
      "source": [
        "plt.plot(n_estimators, cross_val, '-+', markersize=12)\n",
        "plt.title(\"Зависимость метрики от числа деревьев\")\n",
        "plt.xlabel(\"n_estimators\")   \n",
        "plt.ylabel(\"cross validation score\")\n",
        "plt.show()"
      ],
      "execution_count": null,
      "outputs": [
        {
          "output_type": "display_data",
          "data": {
            "image/png": "[encoded data removed]",
            "text/plain": [
              "<Figure size 432x288 with 1 Axes>"
            ]
          },
          "metadata": {
            "tags": [],
            "needs_background": "light"
          }
        }
      ]
    },
    {
      "cell_type": "markdown",
      "metadata": {
        "id": "jz49qZwbSPOc"
      },
      "source": [
        "Чем больше число деревьев, тем выше качество модели. Но при слишком большом количестве деревьев(к примеру более 1000) модель может переобучиться(также заметно увеличивается время ожидания работы алгоритма)."
      ]
    },
    {
      "cell_type": "markdown",
      "metadata": {
        "id": "ce_XjD6VFWSx"
      },
      "source": [
        "## learning_rate"
      ]
    },
    {
      "cell_type": "code",
      "metadata": {
        "id": "QVz6Sn5a1clG"
      },
      "source": [
        "learning_rates = [0.1, 0.08, 0.05, 0.03, 0.01]\n",
        "\n",
        "def kfold2(X, y):\n",
        "    \n",
        "    result = []\n",
        "    for learning_rate in learning_rates:\n",
        "        # Инициализируем модель\n",
        "        model = XGBClassifier(seed = 42,\n",
        "                              n_estimators = 50,\n",
        "                              learning_rate = learning_rate,\n",
        "                              max_depth = 3)\n",
        "        \n",
        "        kf = KFold(n_splits = 3, random_state = 42, shuffle = True)\n",
        "        roc_auc_list = []\n",
        "        \n",
        "        for i, (train_index, test_index) in enumerate(kf.split(X)):\n",
        "            \n",
        "            X_train, X_test = X.iloc[train_index], X.iloc[test_index]\n",
        "            y_train, y_test = y[train_index], y[test_index]\n",
        "        \n",
        "            model.fit(X_train, y_train)\n",
        "            pred_prob = model.predict_proba(X_test)\n",
        "            predict = pred_prob[:,1]\n",
        "            roc_auc = roc_auc_score(y_test, predict)\n",
        "            print(i, roc_auc)\n",
        "            roc_auc_list.append(roc_auc)\n",
        "            \n",
        "        result.append(np.mean(roc_auc_list))\n",
        "        \n",
        "    return result"
      ],
      "execution_count": null,
      "outputs": []
    },
    {
      "cell_type": "code",
      "metadata": {
        "id": "EyrPyuvE8m9g",
        "outputId": "32142cb9-7753-4c44-a7f3-be77e9dd0208",
        "colab": {
          "base_uri": "https://localhost:8080/",
          "height": 267
        }
      },
      "source": [
        "cross_val_2 = kfold2(x_train, y)"
      ],
      "execution_count": null,
      "outputs": [
        {
          "output_type": "stream",
          "text": [
            "0 0.7369157261199255\n",
            "1 0.7338257387175873\n",
            "2 0.7330442970504649\n",
            "0 0.7307393414398592\n",
            "1 0.7287367219103388\n",
            "2 0.7263891484248721\n",
            "0 0.7182270495383535\n",
            "1 0.7175004701392407\n",
            "2 0.7143741993639217\n",
            "0 0.7097730299109503\n",
            "1 0.7105127249465859\n",
            "2 0.7077005105177017\n",
            "0 0.7041770033920373\n",
            "1 0.7028859462260818\n",
            "2 0.7014404729159553\n"
          ],
          "name": "stdout"
        }
      ]
    },
    {
      "cell_type": "code",
      "metadata": {
        "id": "ohpCjPoM1clL",
        "outputId": "023939bb-8483-4e1d-9a0b-4d4c587eaa20",
        "colab": {
          "base_uri": "https://localhost:8080/",
          "height": 299
        }
      },
      "source": [
        "plt.plot(learning_rates, cross_val_2, '-+', markersize=20)\n",
        "plt.title(\"Зависимость метрики от скорости обучения\")\n",
        "plt.xlabel(\"learning_rates\")   \n",
        "plt.ylabel(\"cross validation score\")\n",
        "plt.show()"
      ],
      "execution_count": null,
      "outputs": [
        {
          "output_type": "display_data",
          "data": {
            "image/png": "[encoded data removed]",
            "text/plain": [
              "<Figure size 432x288 with 1 Axes>"
            ]
          },
          "metadata": {
            "tags": [],
            "needs_background": "light"
          }
        }
      ]
    },
    {
      "cell_type": "markdown",
      "metadata": {
        "id": "IQ8rMHI9SeLb"
      },
      "source": [
        "На данном графике видно, что чем больше скорость обучения, тем выше качество модели. Но это не зачит, что нужно брать слишком большое значение показателя, так как можем сильно увеличить влияние каждого дерева. Рекомендуемое значение 0.1"
      ]
    },
    {
      "cell_type": "markdown",
      "metadata": {
        "id": "NNi3nhj9FZ3s"
      },
      "source": [
        "## max_depths"
      ]
    },
    {
      "cell_type": "code",
      "metadata": {
        "id": "AHJNiEnQ1clW"
      },
      "source": [
        "max_depths = [2, 3, 4, 5]\n",
        "\n",
        "def kfold3(X, y):\n",
        "    \n",
        "    result = []\n",
        "    for max_depth in max_depths:\n",
        "        # Инициализируем модель\n",
        "        model = XGBClassifier(seed = 42,\n",
        "                              n_estimators = 50,\n",
        "                              learning_rate = 0.1,\n",
        "                              max_depth = max_depth)\n",
        "        \n",
        "        kf = KFold(n_splits = 3, random_state = 42, shuffle = True)\n",
        "        roc_auc_list = []\n",
        "        \n",
        "        for i, (train_index, test_index) in enumerate(kf.split(X)):\n",
        "            \n",
        "            X_train, X_test = X.iloc[train_index], X.iloc[test_index]\n",
        "            y_train, y_test = y[train_index], y[test_index]\n",
        "        \n",
        "            model.fit(X_train, y_train)\n",
        "            pred_prob = model.predict_proba(X_test)\n",
        "            predict = pred_prob[:,1]\n",
        "            roc_auc = roc_auc_score(y_test, predict)\n",
        "            print(i, roc_auc)\n",
        "            roc_auc_list.append(roc_auc)\n",
        "            \n",
        "        result.append(np.mean(roc_auc_list))\n",
        "        \n",
        "    return result"
      ],
      "execution_count": null,
      "outputs": []
    },
    {
      "cell_type": "code",
      "metadata": {
        "id": "25y8WoqY1cla",
        "outputId": "c41a2933-3957-49e5-cd99-6c40720627e5",
        "colab": {
          "base_uri": "https://localhost:8080/",
          "height": 217
        }
      },
      "source": [
        "cross_val_3 = kfold3(x_train, y)"
      ],
      "execution_count": null,
      "outputs": [
        {
          "output_type": "stream",
          "text": [
            "0 0.7288259796603284\n",
            "1 0.7262508446150725\n",
            "2 0.7247029551136844\n",
            "0 0.7369157261199255\n",
            "1 0.7338257387175873\n",
            "2 0.7330442970504649\n",
            "0 0.7411914030980954\n",
            "1 0.7375850702887445\n",
            "2 0.7367649485001229\n",
            "0 0.7423944381873212\n",
            "1 0.7409525517081536\n",
            "2 0.7398704522348324\n"
          ],
          "name": "stdout"
        }
      ]
    },
    {
      "cell_type": "code",
      "metadata": {
        "id": "c8G3gP2a1clh",
        "outputId": "bd86e419-de3e-4c21-dfca-571eb8f85f62",
        "colab": {
          "base_uri": "https://localhost:8080/",
          "height": 299
        }
      },
      "source": [
        "plt.plot(max_depths, cross_val_3, '-+', markersize=12)\n",
        "plt.title(\"Зависимость метрики от глубины дерева\")\n",
        "plt.xlabel(\"max_depths\")   \n",
        "plt.ylabel(\"cross validation score\")\n",
        "plt.show()"
      ],
      "execution_count": null,
      "outputs": [
        {
          "output_type": "display_data",
          "data": {
            "image/png": "[encoded data removed]",
            "text/plain": [
              "<Figure size 432x288 with 1 Axes>"
            ]
          },
          "metadata": {
            "tags": [],
            "needs_background": "light"
          }
        }
      ]
    },
    {
      "cell_type": "markdown",
      "metadata": {
        "id": "YGmQQdvqS3uL"
      },
      "source": [
        "В данном случае качество модели выше при более глубоких деревьях. Однако стоит помнить, что для алгоритмов бустинга(в отличии от бэггинга) не рекомендуется использовать слишком глубокие деревья. Также при большой глубине модель может переобучиться."
      ]
    },
    {
      "cell_type": "markdown",
      "metadata": {
        "id": "iSw-sbmxEQms"
      },
      "source": [
        "## GridSearchCV"
      ]
    },
    {
      "cell_type": "markdown",
      "metadata": {
        "id": "ulM_cd4E15Kh"
      },
      "source": [
        "Запустим перебор некоторых параметров по сетке:"
      ]
    },
    {
      "cell_type": "code",
      "metadata": {
        "id": "lzvcnXw01clo"
      },
      "source": [
        "from sklearn.model_selection import GridSearchCV\n",
        "\n",
        "parameters = {'learning_rate':[0.2, 0.1],\n",
        "              'max_depth':[5, 6], \n",
        "              'n_estimators':[50, 100]\n",
        "              }\n",
        "\n",
        "model = XGBClassifier(seed = 42,\n",
        "                      n_jobs = -1)\n",
        "\n",
        "grid_search = GridSearchCV(model, parameters, cv = 3, scoring = 'roc_auc')\n",
        "grid_search.fit(x_train, y)"
      ],
      "execution_count": null,
      "outputs": []
    },
    {
      "cell_type": "code",
      "metadata": {
        "id": "tRu3IRIt1clw",
        "outputId": "011fa821-6c7a-4f2d-8e2e-1f1fa2d62b70",
        "colab": {
          "base_uri": "https://localhost:8080/",
          "height": 50
        }
      },
      "source": [
        "#выведем лучшую среднюю метрику на кросс-валидации и лучшие параметры\n",
        "print(grid_search.best_score_)\n",
        "print(grid_search.best_params_) "
      ],
      "execution_count": null,
      "outputs": [
        {
          "output_type": "stream",
          "text": [
            "0.7496990276826189\n",
            "{'learning_rate': 0.2, 'max_depth': 5, 'n_estimators': 100}\n"
          ],
          "name": "stdout"
        }
      ]
    },
    {
      "cell_type": "markdown",
      "metadata": {
        "id": "ui-aTd0JFkMF"
      },
      "source": [
        "## RandomizedSearchCV"
      ]
    },
    {
      "cell_type": "markdown",
      "metadata": {
        "id": "6-Hf6fZUGFo8"
      },
      "source": [
        "Учитывая результаты GridSearchCV, запустим \"более мягкий\" перебор RandomizedSearchCV:"
      ]
    },
    {
      "cell_type": "code",
      "metadata": {
        "id": "swqv-JVf1cl0"
      },
      "source": [
        "from sklearn.model_selection import RandomizedSearchCV\n",
        "\n",
        "parameters = {'learning_rate':[0.2, 0.1],\n",
        "              'max_depth':[3, 5, 7], \n",
        "              'n_estimators':[100, 500, 1000]\n",
        "              }\n",
        "\n",
        "model = XGBClassifier(seed = 42,\n",
        "                      n_jobs = -1)\n",
        "\n",
        "rnd_search = RandomizedSearchCV(model, parameters, cv = 3, scoring = 'roc_auc')\n",
        "rnd_search.fit(x_train, y)"
      ],
      "execution_count": null,
      "outputs": []
    },
    {
      "cell_type": "code",
      "metadata": {
        "id": "p4Yp9UfAr6mq",
        "outputId": "25173a24-93d2-42ab-b03f-e4c930bd92f8",
        "colab": {
          "base_uri": "https://localhost:8080/",
          "height": 50
        }
      },
      "source": [
        "print(rnd_search.best_score_)\n",
        "print(rnd_search.best_params_) "
      ],
      "execution_count": null,
      "outputs": [
        {
          "output_type": "stream",
          "text": [
            "0.752506751978475\n",
            "{'n_estimators': 1000, 'max_depth': 3, 'learning_rate': 0.1}\n"
          ],
          "name": "stdout"
        }
      ]
    },
    {
      "cell_type": "markdown",
      "metadata": {
        "id": "m4iO7T2-uXIj"
      },
      "source": [
        "Построим модель на всей выборке с \"лучшиими\" параметрами:\n",
        "\n",
        "learning_rate = 0.1,\n",
        "max_depth = 3,\n",
        "n_estimators = 1000\n",
        "\n",
        "\n",
        "\n"
      ]
    },
    {
      "cell_type": "code",
      "metadata": {
        "id": "360cNCEAoP2N"
      },
      "source": [
        "xb = XGBClassifier(seed=42,\n",
        "                   n_estimators=1000,\n",
        "                   max_depth=3,\n",
        "                   learning_rate=0.1)\n",
        "\n",
        "xb.fit(x_train, y)"
      ],
      "execution_count": null,
      "outputs": []
    },
    {
      "cell_type": "code",
      "metadata": {
        "id": "xa-ZJ_x11cl8"
      },
      "source": [
        "#записываем прогноз\n",
        "pred_prob = xb.predict_proba(x_test)\n",
        "prediction = pred_prob[:,1]\n",
        "\n",
        "sample_submission['TARGET'] = prediction\n",
        "sample_submission.head()\n",
        "\n",
        "#кладем результат в файл:\n",
        "sample_submission.to_csv('/content/drive/My Drive/Credit data/dec2.csv', index = None)"
      ],
      "execution_count": null,
      "outputs": []
    },
    {
      "cell_type": "markdown",
      "metadata": {
        "id": "rlXFtRwXyiz2"
      },
      "source": [
        "### Public Score: 0.74068\n",
        "### Private Score: 0.73641"
      ]
    },
    {
      "cell_type": "markdown",
      "metadata": {
        "id": "0_VhFygiFqEj"
      },
      "source": [
        "## Feature importances"
      ]
    },
    {
      "cell_type": "markdown",
      "metadata": {
        "id": "xd698QFrvC5v"
      },
      "source": [
        "Оценим значимость переменных при обучении классификатора:"
      ]
    },
    {
      "cell_type": "code",
      "metadata": {
        "id": "vRV_pRxz-fQg",
        "outputId": "0c632968-d39e-4a14-8e8d-f375f3d5f5c5",
        "colab": {
          "base_uri": "https://localhost:8080/",
          "height": 299
        }
      },
      "source": [
        "import xgboost as xgb\n",
        "\n",
        "xgb.plot_importance(xb,max_num_features = 10)\n",
        "plt.show()"
      ],
      "execution_count": null,
      "outputs": [
        {
          "output_type": "display_data",
          "data": {
            "image/png": "[encoded data removed]",
            "text/plain": [
              "<Figure size 432x288 with 1 Axes>"
            ]
          },
          "metadata": {
            "tags": [],
            "needs_background": "light"
          }
        }
      ]
    },
    {
      "cell_type": "markdown",
      "metadata": {
        "id": "xdd7S5jUy_yA"
      },
      "source": [
        "Таким образом топ-5 переменных, которые внесли наибольший вклад в построение модели: \n",
        "\n",
        "DAYS_BIRTH,\n",
        "EXT_SOURCE_3,\n",
        "AMT_CREDIT\n",
        "EXT_SOURCE_2,\n",
        "AMT_ANNUITY"
      ]
    },
    {
      "cell_type": "markdown",
      "metadata": {
        "id": "sPnhBF6M4WyH"
      },
      "source": [
        "# Stacking"
      ]
    },
    {
      "cell_type": "markdown",
      "metadata": {
        "id": "MjXHWi2O5HDc"
      },
      "source": [
        "Попробуем добиться наилучшего скора с помощью Stacking(rf, lr, xgb, cb, lgbm). Финальным классификатором будет логистическая регрессия.\n",
        "Будем использовать LabelEncoder, чтобы избежать слишком большого числа переменных и скоратить время ожидания."
      ]
    },
    {
      "cell_type": "code",
      "metadata": {
        "id": "Skyvebkk1cnM",
        "outputId": "df9b082f-40da-4aca-f95f-c3eff2f1148e",
        "colab": {
          "base_uri": "https://localhost:8080/",
          "height": 50
        }
      },
      "source": [
        "from sklearn import preprocessing\n",
        "\n",
        "df = train.append(test)\n",
        "\n",
        "le = preprocessing.LabelEncoder()\n",
        "le_count = 0\n",
        "\n",
        "for col in df:\n",
        "    if df[col].dtype == 'object':\n",
        "        le.fit(df[col])\n",
        "        df[col] = le.transform(df[col])\n",
        "        le_count += 1\n",
        "print ('{} variable are label encoded'.format(le_count))\n",
        "df.shape"
      ],
      "execution_count": null,
      "outputs": [
        {
          "output_type": "stream",
          "text": [
            "13 variable are label encoded\n"
          ],
          "name": "stdout"
        },
        {
          "output_type": "execute_result",
          "data": {
            "text/plain": [
              "(356255, 80)"
            ]
          },
          "metadata": {
            "tags": []
          },
          "execution_count": 15
        }
      ]
    },
    {
      "cell_type": "markdown",
      "metadata": {
        "id": "ilqoL83k1cnR"
      },
      "source": [
        "Сначала увеличим количество переменных, добавив новые таблицы:"
      ]
    },
    {
      "cell_type": "markdown",
      "metadata": {
        "id": "E2Mtnozn1cnR"
      },
      "source": [
        "Bureau"
      ]
    },
    {
      "cell_type": "code",
      "metadata": {
        "id": "IxW_mWtW1cnS"
      },
      "source": [
        "bureau = pd.read_csv('/content/drive/My Drive/Credit data/bureau.csv', nrows = None)"
      ],
      "execution_count": null,
      "outputs": []
    },
    {
      "cell_type": "code",
      "metadata": {
        "id": "UFf0Q_Ie1cnV",
        "outputId": "6e02a6ab-8f4b-4f59-e1a3-db9166d93002",
        "colab": {
          "base_uri": "https://localhost:8080/",
          "height": 100
        }
      },
      "source": [
        "#смотрим на пропуски\n",
        "missing_values = missing_values_table(bureau)\n",
        "\n",
        "#удалим столбцы с пропусками более 50%\n",
        "mis_val_table_ren_columns = missing_values.loc[missing_values['% of Total Values'] > 50]\n",
        "bureau = bureau.drop(mis_val_table_ren_columns.index, axis=1)\n",
        "\n",
        "#разбиваем переменные на 2 типа\n",
        "cat = []\n",
        "num = []\n",
        "\n",
        "for i in bureau.columns:\n",
        "    if bureau[i].dtype == 'object':\n",
        "        cat.append(i)\n",
        "    else:\n",
        "        num.append(i)\n",
        "\n",
        "print(\"Categorical: \" + str(len(cat)))\n",
        "print(\"Numerical: \" + str(len(num)))\n",
        "\n",
        "#заполняем пропуски\n",
        "most_freq_cat_nans = [] \n",
        "for i in cat:\n",
        "    most_freq_cat_nans.append(bureau[i].value_counts().idxmax())\n",
        "    \n",
        "for i in range(len(cat)):\n",
        "    bureau[cat[i]].fillna(most_freq_cat_nans[i], inplace=True)\n",
        "    \n",
        "for i in num:\n",
        "    bureau[i].fillna(bureau[i].median(), inplace=True)\n",
        "\n",
        "print(bureau.isna().sum().max()) "
      ],
      "execution_count": null,
      "outputs": [
        {
          "output_type": "stream",
          "text": [
            "Your selected dataframe has 17 columns.\n",
            "There are 7 columns that have missing values.\n",
            "Categorical: 3\n",
            "Numerical: 12\n",
            "0\n"
          ],
          "name": "stdout"
        }
      ]
    },
    {
      "cell_type": "code",
      "metadata": {
        "id": "75j_9L761cnY"
      },
      "source": [
        "le_count = 0\n",
        "\n",
        "for col in bureau:\n",
        "    if bureau[col].dtype == 'object':\n",
        "        le.fit(bureau[col])\n",
        "        bureau[col] = le.transform(bureau[col])\n",
        "        le_count += 1\n",
        "print ('{} variable are label encoded'.format(le_count))\n",
        "\n",
        "bureau = bureau.groupby('SK_ID_CURR', as_index = False).mean()\n",
        "bureau.tail()"
      ],
      "execution_count": null,
      "outputs": []
    },
    {
      "cell_type": "code",
      "metadata": {
        "id": "WPUxJyNy1cnb",
        "outputId": "18b46eb8-58cf-4100-fef8-719d6753339c",
        "colab": {
          "base_uri": "https://localhost:8080/",
          "height": 33
        }
      },
      "source": [
        "df = df.merge(bureau, how='left', on='SK_ID_CURR')\n",
        "del bureau\n",
        "print(df.shape)"
      ],
      "execution_count": null,
      "outputs": [
        {
          "output_type": "stream",
          "text": [
            "(356255, 94)\n"
          ],
          "name": "stdout"
        }
      ]
    },
    {
      "cell_type": "markdown",
      "metadata": {
        "id": "-R5IFwXz1cne"
      },
      "source": [
        "POS_CASH_balance"
      ]
    },
    {
      "cell_type": "code",
      "metadata": {
        "id": "QjCRActk1cnf"
      },
      "source": [
        "pos = pd.read_csv('/content/drive/My Drive/Credit data/POS_CASH_balance.csv', nrows = None)"
      ],
      "execution_count": null,
      "outputs": []
    },
    {
      "cell_type": "code",
      "metadata": {
        "id": "j3eNP_tv1cnh",
        "outputId": "e9ef56b3-c64d-4ab5-d912-4701d6a72dd1",
        "colab": {
          "base_uri": "https://localhost:8080/",
          "height": 100
        }
      },
      "source": [
        "#смотрим на пропуски\n",
        "missing_values = missing_values_table(pos)\n",
        "\n",
        "#удалим столбцы с пропусками более 50%\n",
        "mis_val_table_ren_columns = missing_values.loc[missing_values['% of Total Values'] > 50]\n",
        "pos = pos.drop(mis_val_table_ren_columns.index, axis=1)\n",
        "\n",
        "#разбиваем переменные на 2 типа\n",
        "cat = []\n",
        "num = []\n",
        "\n",
        "for i in pos.columns:\n",
        "    if pos[i].dtype == 'object':\n",
        "        cat.append(i)\n",
        "    else:\n",
        "        num.append(i)\n",
        "\n",
        "print(\"Categorical: \" + str(len(cat)))\n",
        "print(\"Numerical: \" + str(len(num)))\n",
        "\n",
        "#заполняем пропуски\n",
        "most_freq_cat_nans = [] \n",
        "for i in cat:\n",
        "    most_freq_cat_nans.append(pos[i].value_counts().idxmax())\n",
        "    \n",
        "for i in range(len(cat)):\n",
        "    pos[cat[i]].fillna(most_freq_cat_nans[i], inplace=True)\n",
        "    \n",
        "for i in num:\n",
        "    pos[i].fillna(pos[i].median(), inplace=True)\n",
        "\n",
        "print(pos.isna().sum().max()) "
      ],
      "execution_count": null,
      "outputs": [
        {
          "output_type": "stream",
          "text": [
            "Your selected dataframe has 8 columns.\n",
            "There are 2 columns that have missing values.\n",
            "Categorical: 1\n",
            "Numerical: 7\n",
            "0\n"
          ],
          "name": "stdout"
        }
      ]
    },
    {
      "cell_type": "code",
      "metadata": {
        "id": "9hRacidw1cnk",
        "outputId": "d89d8524-d918-458b-9df5-23a9e02a914a",
        "colab": {
          "base_uri": "https://localhost:8080/",
          "height": 33
        }
      },
      "source": [
        "le_count = 0\n",
        "\n",
        "for col in pos:\n",
        "    if pos[col].dtype == 'object':\n",
        "        le.fit(pos[col])\n",
        "        pos[col] = le.transform(pos[col])\n",
        "        le_count += 1\n",
        "print ('{} variable are label encoded'.format(le_count))\n",
        "\n",
        "pos = pos.groupby('SK_ID_CURR', as_index = False).mean()"
      ],
      "execution_count": null,
      "outputs": [
        {
          "output_type": "stream",
          "text": [
            "1 variable are label encoded\n"
          ],
          "name": "stdout"
        }
      ]
    },
    {
      "cell_type": "code",
      "metadata": {
        "id": "rD6BxsnK1cnr",
        "outputId": "aa09dd5a-89a9-430c-f026-5a2a6531ac0a",
        "colab": {
          "base_uri": "https://localhost:8080/",
          "height": 33
        }
      },
      "source": [
        "df = df.merge(pos, how='left', on='SK_ID_CURR')\n",
        "del pos\n",
        "print(df.shape)"
      ],
      "execution_count": null,
      "outputs": [
        {
          "output_type": "stream",
          "text": [
            "(356255, 101)\n"
          ],
          "name": "stdout"
        }
      ]
    },
    {
      "cell_type": "markdown",
      "metadata": {
        "id": "knH3I82A1cnt"
      },
      "source": [
        "Credit_card_balance"
      ]
    },
    {
      "cell_type": "code",
      "metadata": {
        "id": "VlDSdkhN1cnu"
      },
      "source": [
        "cc = pd.read_csv('/content/drive/My Drive/Credit data/credit_card_balance.csv', nrows = None)"
      ],
      "execution_count": null,
      "outputs": []
    },
    {
      "cell_type": "code",
      "metadata": {
        "id": "w1IgT8VR1cnz",
        "outputId": "c577acf5-ee09-4a48-91ba-703fa091d59d",
        "colab": {
          "base_uri": "https://localhost:8080/",
          "height": 100
        }
      },
      "source": [
        "#смотрим на пропуски\n",
        "missing_values = missing_values_table(cc)\n",
        "\n",
        "#удалим столбцы с пропусками более 50%\n",
        "mis_val_table_ren_columns = missing_values.loc[missing_values['% of Total Values'] > 50]\n",
        "cc = cc.drop(mis_val_table_ren_columns.index, axis=1)\n",
        "\n",
        "#разбиваем переменные на 2 типа\n",
        "cat = []\n",
        "num = []\n",
        "\n",
        "for i in cc.columns:\n",
        "    if cc[i].dtype == 'object':\n",
        "        cat.append(i)\n",
        "    else:\n",
        "        num.append(i)\n",
        "\n",
        "print(\"Categorical: \" + str(len(cat)))\n",
        "print(\"Numerical: \" + str(len(num)))\n",
        "\n",
        "#заполняем пропуски\n",
        "most_freq_cat_nans = [] \n",
        "for i in cat:\n",
        "    most_freq_cat_nans.append(cc[i].value_counts().idxmax())\n",
        "    \n",
        "for i in range(len(cat)):\n",
        "    cc[cat[i]].fillna(most_freq_cat_nans[i], inplace=True)\n",
        "    \n",
        "for i in num:\n",
        "    cc[i].fillna(cc[i].median(), inplace=True)\n",
        "\n",
        "print(cc.isna().sum().max()) "
      ],
      "execution_count": null,
      "outputs": [
        {
          "output_type": "stream",
          "text": [
            "Your selected dataframe has 23 columns.\n",
            "There are 9 columns that have missing values.\n",
            "Categorical: 1\n",
            "Numerical: 22\n",
            "0\n"
          ],
          "name": "stdout"
        }
      ]
    },
    {
      "cell_type": "code",
      "metadata": {
        "id": "o15pXOsu1cn2",
        "outputId": "b2557a53-1c77-4629-db37-add4e4aa4876",
        "colab": {
          "base_uri": "https://localhost:8080/",
          "height": 33
        }
      },
      "source": [
        "le_count = 0\n",
        "\n",
        "for col in cc:\n",
        "    if cc[col].dtype == 'object':\n",
        "        le.fit(cc[col])\n",
        "        cc[col] = le.transform(cc[col])\n",
        "        le_count += 1\n",
        "print ('{} variable are label encoded'.format(le_count))\n",
        "\n",
        "cc = cc.groupby('SK_ID_CURR', as_index = False).mean()"
      ],
      "execution_count": null,
      "outputs": [
        {
          "output_type": "stream",
          "text": [
            "1 variable are label encoded\n"
          ],
          "name": "stdout"
        }
      ]
    },
    {
      "cell_type": "code",
      "metadata": {
        "id": "x-5-hdzt1cn5",
        "outputId": "051fb39f-0e05-47ca-bf6a-f2946e95f05b",
        "colab": {
          "base_uri": "https://localhost:8080/",
          "height": 33
        }
      },
      "source": [
        "df = df.merge(cc, how='left', on='SK_ID_CURR')\n",
        "del cc\n",
        "print(df.shape)"
      ],
      "execution_count": null,
      "outputs": [
        {
          "output_type": "stream",
          "text": [
            "(356255, 123)\n"
          ],
          "name": "stdout"
        }
      ]
    },
    {
      "cell_type": "markdown",
      "metadata": {
        "id": "Y8br3i_-8x1q"
      },
      "source": [
        "Installments_payments"
      ]
    },
    {
      "cell_type": "code",
      "metadata": {
        "id": "_aLlAyG68mzT"
      },
      "source": [
        "ip = pd.read_csv('/content/drive/My Drive/Credit data/installments_payments.csv', nrows = None)"
      ],
      "execution_count": null,
      "outputs": []
    },
    {
      "cell_type": "code",
      "metadata": {
        "id": "1K4oEpDa8m5D",
        "outputId": "59b6c33a-5665-46e8-8ea0-4cd2391ef746",
        "colab": {
          "base_uri": "https://localhost:8080/",
          "height": 100
        }
      },
      "source": [
        "#смотрим на пропуски\n",
        "missing_values = missing_values_table(ip)\n",
        "\n",
        "#удалим столбцы с пропусками более 50%\n",
        "mis_val_table_ren_columns = missing_values.loc[missing_values['% of Total Values'] > 50]\n",
        "ip = ip.drop(mis_val_table_ren_columns.index, axis=1)\n",
        "\n",
        "#разбиваем переменные на 2 типа\n",
        "cat = []\n",
        "num = []\n",
        "\n",
        "for i in ip.columns:\n",
        "    if ip[i].dtype == 'object':\n",
        "        cat.append(i)\n",
        "    else:\n",
        "        num.append(i)\n",
        "\n",
        "print(\"Categorical: \" + str(len(cat)))\n",
        "print(\"Numerical: \" + str(len(num)))\n",
        "\n",
        "#заполняем пропуски\n",
        "most_freq_cat_nans = [] \n",
        "for i in cat:\n",
        "    most_freq_cat_nans.append(ip[i].value_counts().idxmax())\n",
        "    \n",
        "for i in range(len(cat)):\n",
        "    ip[cat[i]].fillna(most_freq_cat_nans[i], inplace=True)\n",
        "    \n",
        "for i in num:\n",
        "    ip[i].fillna(ip[i].median(), inplace=True)\n",
        "\n",
        "print(ip.isna().sum().max()) "
      ],
      "execution_count": null,
      "outputs": [
        {
          "output_type": "stream",
          "text": [
            "Your selected dataframe has 8 columns.\n",
            "There are 2 columns that have missing values.\n",
            "Categorical: 0\n",
            "Numerical: 8\n",
            "0\n"
          ],
          "name": "stdout"
        }
      ]
    },
    {
      "cell_type": "code",
      "metadata": {
        "id": "X2b-Q76J8nJG",
        "outputId": "3729e649-cc13-49bf-f142-df6f846cad51",
        "colab": {
          "base_uri": "https://localhost:8080/",
          "height": 33
        }
      },
      "source": [
        "le_count = 0\n",
        "\n",
        "for col in ip:\n",
        "    if ip[col].dtype == 'object':\n",
        "        le.fit(ip[col])\n",
        "        ip[col] = le.transform(ip[col])\n",
        "        le_count += 1\n",
        "print ('{} variable are label encoded'.format(le_count))\n",
        "\n",
        "ip = ip.groupby('SK_ID_CURR', as_index = False).mean()"
      ],
      "execution_count": null,
      "outputs": [
        {
          "output_type": "stream",
          "text": [
            "0 variable are label encoded\n"
          ],
          "name": "stdout"
        }
      ]
    },
    {
      "cell_type": "code",
      "metadata": {
        "id": "kODdz07g8nQJ",
        "outputId": "6a3893ba-4c20-46b0-b95e-5a6b0489f86e",
        "colab": {
          "base_uri": "https://localhost:8080/",
          "height": 33
        }
      },
      "source": [
        "df = df.merge(ip, how='left', on='SK_ID_CURR')\n",
        "del ip\n",
        "print(df.shape)"
      ],
      "execution_count": null,
      "outputs": [
        {
          "output_type": "stream",
          "text": [
            "(356255, 130)\n"
          ],
          "name": "stdout"
        }
      ]
    },
    {
      "cell_type": "markdown",
      "metadata": {
        "id": "4GzjejAe1cn7"
      },
      "source": [
        "Удалим пропуски в общей таблице и столбец SK_ID_CURR:"
      ]
    },
    {
      "cell_type": "code",
      "metadata": {
        "id": "885qdQfj1cn8"
      },
      "source": [
        "for i in df.columns:\n",
        "    df[i] = df[i].fillna(df[i].mean())\n",
        "\n",
        "print(df.isna().sum().max()) \n",
        "df = df.drop(['SK_ID_CURR'], axis=1)\n",
        "df.head()"
      ],
      "execution_count": null,
      "outputs": []
    },
    {
      "cell_type": "code",
      "metadata": {
        "id": "t1XNLLT-1cn_"
      },
      "source": [
        "x_train = df[:307511]\n",
        "x_test = df[307511:]"
      ],
      "execution_count": null,
      "outputs": []
    },
    {
      "cell_type": "markdown",
      "metadata": {
        "id": "A4fr8qg1crh9"
      },
      "source": [
        "Для начала протестируем по отдельности 3 нексколько отличающихся алгоритма бустинга:"
      ]
    },
    {
      "cell_type": "code",
      "metadata": {
        "id": "neQuIIRdbVww"
      },
      "source": [
        "def kfold(X, y, model):\n",
        "        \n",
        "    kf = KFold(n_splits = 3, random_state = 42, shuffle = True)\n",
        "    roc_auc_list = []\n",
        "        \n",
        "    for i, (train_index, test_index) in enumerate(kf.split(X)):\n",
        "            \n",
        "        X_train, X_test = X.iloc[train_index], X.iloc[test_index]\n",
        "        y_train, y_test = y[train_index], y[test_index]\n",
        "        \n",
        "        model.fit(X_train, y_train)\n",
        "        pred_prob = model.predict_proba(X_test)\n",
        "        predict = pred_prob[:,1]\n",
        "        roc_auc = roc_auc_score(y_test, predict)\n",
        "        print(i, roc_auc)\n",
        "        roc_auc_list.append(roc_auc)\n",
        "              \n",
        "    return np.mean(roc_auc_list)"
      ],
      "execution_count": null,
      "outputs": []
    },
    {
      "cell_type": "markdown",
      "metadata": {
        "id": "ll1UX5GhnJle"
      },
      "source": [
        "## XGBoost"
      ]
    },
    {
      "cell_type": "code",
      "metadata": {
        "id": "q0xgwjx4bd3G",
        "outputId": "f70554ed-ea3f-4a7a-8c3f-cab23e72cc00",
        "colab": {
          "base_uri": "https://localhost:8080/",
          "height": 83
        }
      },
      "source": [
        "xgb = XGBClassifier(seed=42, n_estimators=1000, \n",
        "                    max_depth=3, learning_rate=0.1)\n",
        "\n",
        "kfold(x_train, y, xgb)"
      ],
      "execution_count": null,
      "outputs": [
        {
          "output_type": "stream",
          "text": [
            "0 0.7700413842771047\n",
            "1 0.7685292634201705\n",
            "2 0.7682176228535051\n"
          ],
          "name": "stdout"
        },
        {
          "output_type": "execute_result",
          "data": {
            "text/plain": [
              "0.7689294235169267"
            ]
          },
          "metadata": {
            "tags": []
          },
          "execution_count": 65
        }
      ]
    },
    {
      "cell_type": "code",
      "metadata": {
        "id": "r5Fjgi3ls_JW"
      },
      "source": [
        "#обучаем модель на всех данных\n",
        "xgb.fit(x_train, y)\n",
        "\n",
        "#записываем прогноз\n",
        "pred_prob = xgb.predict_proba(x_test)\n",
        "prediction = pred_prob[:,1]\n",
        "\n",
        "sample_submission['TARGET'] = prediction\n",
        "\n",
        "#кладем результат в файл:\n",
        "sample_submission.to_csv('/content/drive/My Drive/Credit data/dec6.csv', index = None)"
      ],
      "execution_count": null,
      "outputs": []
    },
    {
      "cell_type": "markdown",
      "metadata": {
        "id": "rnt1kgXmsuNB"
      },
      "source": [
        "### Public score: 0.76506\n",
        "### Private score: 0.76257"
      ]
    },
    {
      "cell_type": "markdown",
      "metadata": {
        "id": "8lodH_EsnQcN"
      },
      "source": [
        "## CatBoost"
      ]
    },
    {
      "cell_type": "code",
      "metadata": {
        "id": "ZeGGxuOrWDk5",
        "outputId": "45329483-5680-4298-99ec-3ab7c2196bc7",
        "colab": {
          "base_uri": "https://localhost:8080/",
          "height": 83
        }
      },
      "source": [
        "cb = CatBoostClassifier(random_state = 42, learning_rate = 0.1, max_depth=3,\n",
        "                        n_estimators = 1000, verbose=False)\n",
        "\n",
        "kfold(x_train, y, cb)"
      ],
      "execution_count": null,
      "outputs": [
        {
          "output_type": "stream",
          "text": [
            "0 0.7688602334737451\n",
            "1 0.7688600374882244\n",
            "2 0.7699448443408949\n"
          ],
          "name": "stdout"
        },
        {
          "output_type": "execute_result",
          "data": {
            "text/plain": [
              "0.7692217051009548"
            ]
          },
          "metadata": {
            "tags": []
          },
          "execution_count": 61
        }
      ]
    },
    {
      "cell_type": "code",
      "metadata": {
        "id": "aUmbCvMspiYf"
      },
      "source": [
        "#обучаем модель на всех данных\n",
        "cb.fit(x_train, y)\n",
        "\n",
        "#записываем прогноз\n",
        "pred_prob = cb.predict_proba(x_test)\n",
        "prediction = pred_prob[:,1]\n",
        "\n",
        "sample_submission['TARGET'] = prediction\n",
        "\n",
        "#кладем результат в файл:\n",
        "sample_submission.to_csv('/content/drive/My Drive/Credit data/dec5.csv', index = None)"
      ],
      "execution_count": null,
      "outputs": []
    },
    {
      "cell_type": "markdown",
      "metadata": {
        "id": "MF_AJhxPtKFF"
      },
      "source": [
        "### Public score: 0.76116\n",
        "### Private score: 0.76005"
      ]
    },
    {
      "cell_type": "markdown",
      "metadata": {
        "id": "uHzo5ONznVKW"
      },
      "source": [
        "## LGBM"
      ]
    },
    {
      "cell_type": "code",
      "metadata": {
        "id": "O15W3HW7Y7ZG",
        "outputId": "d06f86a3-d338-4189-e279-73cfdbe374eb",
        "colab": {
          "base_uri": "https://localhost:8080/",
          "height": 83
        }
      },
      "source": [
        "lgb = LGBMClassifier(objective='binary', random_state=42, n_estimators=1000, \n",
        "                      max_depth=3, learning_rate=0.1)\n",
        "\n",
        "kfold(x_train, y, lgb)"
      ],
      "execution_count": null,
      "outputs": [
        {
          "output_type": "stream",
          "text": [
            "0 0.770106993122772\n",
            "1 0.7692600600765764\n",
            "2 0.7682959496063897\n"
          ],
          "name": "stdout"
        },
        {
          "output_type": "execute_result",
          "data": {
            "text/plain": [
              "0.769221000935246"
            ]
          },
          "metadata": {
            "tags": []
          },
          "execution_count": 63
        }
      ]
    },
    {
      "cell_type": "code",
      "metadata": {
        "id": "mxgUdPQVmbHY"
      },
      "source": [
        "#обучаем модель на всех данных\n",
        "lgb.fit(x_train, y)\n",
        "\n",
        "#записываем прогноз\n",
        "pred_prob = lgb.predict_proba(x_test)\n",
        "prediction = pred_prob[:,1]\n",
        "\n",
        "sample_submission['TARGET'] = prediction\n",
        "\n",
        "#кладем результат в файл:\n",
        "sample_submission.to_csv('/content/drive/My Drive/Credit data/dec4.csv', index = None)"
      ],
      "execution_count": null,
      "outputs": []
    },
    {
      "cell_type": "markdown",
      "metadata": {
        "id": "rvfuSAJYpQb3"
      },
      "source": [
        "### Public score: 0.76584\n",
        "### Private score: 0.76406"
      ]
    },
    {
      "cell_type": "markdown",
      "metadata": {
        "id": "Q5VeQ4lMdQ3L"
      },
      "source": [
        "Наконец заупстим итоговый Stacking из 5 построенных ранее моделей:"
      ]
    },
    {
      "cell_type": "markdown",
      "metadata": {
        "id": "-1rgl30UnfMd"
      },
      "source": [
        "## All models"
      ]
    },
    {
      "cell_type": "code",
      "metadata": {
        "id": "iEyaNaHaBawi"
      },
      "source": [
        "from sklearn.ensemble import RandomForestClassifier\n",
        "from sklearn.linear_model import LogisticRegression\n",
        "from catboost import CatBoostClassifier\n",
        "from lightgbm import LGBMClassifier\n",
        "from sklearn.preprocessing import StandardScaler\n",
        "from sklearn.pipeline import make_pipeline\n",
        "from sklearn.ensemble import StackingClassifier\n",
        "\n",
        "\n",
        "estimators = [ ('rf', RandomForestClassifier(n_estimators=500, random_state=42,\n",
        "                                              criterion='entropy',max_depth=20)),\n",
        "              \n",
        "               ('lr', make_pipeline(StandardScaler(), LogisticRegression(solver='liblinear', penalty='l2',\n",
        "                                                                          multi_class='ovr', random_state = 42))),\n",
        "                 \n",
        "               ('xgb', XGBClassifier(seed=42, n_estimators=1000, \n",
        "                                     max_depth=3, learning_rate=0.1)),\n",
        "                \n",
        "               ('cb', CatBoostClassifier(random_state = 42, learning_rate = 0.1, max_depth=3,\n",
        "                                         n_estimators = 1000, verbose=False)),\n",
        "                \n",
        "               ('lgb', LGBMClassifier(objective='binary', random_state=42, n_estimators=1000, \n",
        "                                       max_depth=3, learning_rate=0.1))\n",
        "               ]\n",
        "                 "
      ],
      "execution_count": null,
      "outputs": []
    },
    {
      "cell_type": "code",
      "metadata": {
        "id": "-hSBmsghB8Mu",
        "outputId": "1801743f-c774-4734-ab45-76c4a37edd0c",
        "colab": {
          "base_uri": "https://localhost:8080/",
          "height": 83
        }
      },
      "source": [
        "#тестируем итоговую модель\n",
        "final_model = StackingClassifier(estimators=estimators, \n",
        "                                 final_estimator=LogisticRegression())\n",
        "\n",
        "kfold(x_train, y, final_model)"
      ],
      "execution_count": null,
      "outputs": [
        {
          "output_type": "stream",
          "text": [
            "0 0.7695380353464303\n",
            "1 0.768156676327816\n",
            "2 0.7689790942645818\n"
          ],
          "name": "stdout"
        },
        {
          "output_type": "execute_result",
          "data": {
            "text/plain": [
              "0.768891268646276"
            ]
          },
          "metadata": {
            "tags": []
          },
          "execution_count": 75
        }
      ]
    },
    {
      "cell_type": "markdown",
      "metadata": {
        "id": "e5r58hb2f1yp"
      },
      "source": [
        "Обучим итоговую модель из всех классификатоов на всей тренировочной выборке сделаем предсказания на тестовой:"
      ]
    },
    {
      "cell_type": "code",
      "metadata": {
        "id": "_MF0lImdB8I3"
      },
      "source": [
        "#обучаем финальную модель\n",
        "final_model.fit(x_train, y)"
      ],
      "execution_count": null,
      "outputs": []
    },
    {
      "cell_type": "code",
      "metadata": {
        "id": "BcojF0I1lt3o"
      },
      "source": [
        "#на всякий случай сохраним модель, так как она обучалась несколько часов\n",
        "import pickle\n",
        "\n",
        "with open('/content/drive/My Drive/Credit data/stacking.pickle', 'wb') as f:\n",
        "  pickle.dump(final_model, f)"
      ],
      "execution_count": null,
      "outputs": []
    },
    {
      "cell_type": "code",
      "metadata": {
        "id": "yNqO0d37B8K5"
      },
      "source": [
        "#записываем прогноз\n",
        "pred_prob = final_model.predict_proba(x_test)\n",
        "prediction = pred_prob[:,1]\n",
        "\n",
        "sample_submission['TARGET'] = prediction\n",
        "\n",
        "#кладем результат в файл:\n",
        "sample_submission.to_csv('/content/drive/My Drive/Credit data/dec3.csv', index = None)"
      ],
      "execution_count": null,
      "outputs": []
    },
    {
      "cell_type": "markdown",
      "metadata": {
        "id": "WhjTLECe1cpU"
      },
      "source": [
        "### Public score: 0.75871\n",
        "### Private score: 0.76124\n",
        "\n"
      ]
    },
    {
      "cell_type": "markdown",
      "metadata": {
        "id": "lYye3472tYSa"
      },
      "source": [
        "Результаты получились хуже, чем при использовании одного LGBM или XGBoost. Это может быть связано с тем, что в модель были включены несколько классификаторов, основанных на одной идеи(бустинг), что не может сильно улучшить результаты, а также 2 относительно слабых классификатора(лес и лог регрессия), которые отрицательно воздействовали на итоговый скор.\n",
        "\n",
        "При этом мы видим, что скор на private заметно выше, что говорит о полном отстутствии переобучения."
      ]
    },
    {
      "cell_type": "markdown",
      "metadata": {
        "id": "A2GLclTErZ9i"
      },
      "source": [
        "## All models without XGBoost"
      ]
    },
    {
      "cell_type": "markdown",
      "metadata": {
        "id": "vvOAqaDifUEb"
      },
      "source": [
        "Попробуем убрать из ансамбля XGBoost, который показал один из лучших результатов на кросс-валидации(но при этом значительно дольше остальных обучался):"
      ]
    },
    {
      "cell_type": "code",
      "metadata": {
        "id": "yib9o-etedSE"
      },
      "source": [
        "estimators2 = [('rf', RandomForestClassifier(n_estimators=500, random_state=42,\n",
        "                                              criterion='entropy',max_depth=20)),\n",
        "              \n",
        "               ('lr', make_pipeline(StandardScaler(), LogisticRegression(solver='liblinear', penalty='l2',\n",
        "                                                                          multi_class='ovr',random_state = 42))),\n",
        "                \n",
        "               ('cb', CatBoostClassifier(random_state = 42, learning_rate = 0.1, max_depth=3,\n",
        "                                         n_estimators = 1000, verbose=False)),\n",
        "                \n",
        "               ('lgb', LGBMClassifier(objective='binary', random_state=42, n_estimators=1000, \n",
        "                                       max_depth=3, learning_rate=0.1))]"
      ],
      "execution_count": null,
      "outputs": []
    },
    {
      "cell_type": "code",
      "metadata": {
        "id": "XO06CEFIelmw",
        "outputId": "c8291e41-bcc6-4e61-ad2d-74f94c52e3a6",
        "colab": {
          "base_uri": "https://localhost:8080/",
          "height": 83
        }
      },
      "source": [
        "model_without_xgb = StackingClassifier(estimators=estimators2, \n",
        "                                       final_estimator=LogisticRegression())\n",
        "\n",
        "kfold(x_train, y, model_without_xgb)"
      ],
      "execution_count": null,
      "outputs": [
        {
          "output_type": "stream",
          "text": [
            "0 0.7692370338612645\n",
            "1 0.7679179886490992\n",
            "2 0.7688023516475733\n"
          ],
          "name": "stdout"
        },
        {
          "output_type": "execute_result",
          "data": {
            "text/plain": [
              "0.7686524580526456"
            ]
          },
          "metadata": {
            "tags": []
          },
          "execution_count": 62
        }
      ]
    },
    {
      "cell_type": "markdown",
      "metadata": {
        "id": "vKmopxKbfkNZ"
      },
      "source": [
        "Получили результат несколько хуже, чем с XGBoost. Отмечаем заметный вклад данного классификатора на результаты работы стэкинга.\n"
      ]
    },
    {
      "cell_type": "markdown",
      "metadata": {
        "id": "XjwtQaLkvNl_"
      },
      "source": [
        "Таким образом наилучший скор на public и private показал LGBM:"
      ]
    },
    {
      "cell_type": "markdown",
      "metadata": {
        "id": "9PZoHfFovhQZ"
      },
      "source": [
        "## Best public score: 0.76584\n",
        "## Best private score: 0.76406"
      ]
    },
    {
      "cell_type": "code",
      "metadata": {
        "id": "8FicNvhWvm2Z"
      },
      "source": [
        ""
      ],
      "execution_count": null,
      "outputs": []
    }
  ]
}